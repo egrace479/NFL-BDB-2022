{
 "cells": [
  {
   "cell_type": "code",
   "execution_count": 1,
   "metadata": {},
   "outputs": [],
   "source": [
    "import pandas as pd\n",
    "import numpy as np\n",
    "\n",
    "from Preprocessing_makers import preprocess_fg\n",
    "\n",
    "from tracking_query import get_play"
   ]
  },
  {
   "cell_type": "code",
   "execution_count": 2,
   "metadata": {},
   "outputs": [],
   "source": [
    "plays = pd.read_csv('Data/nfl-big-data-bowl-2022/plays.csv')\n",
    "games = pd.read_csv('Data/nfl-big-data-bowl-2022/games.csv')\n",
    "tracking2018 = pd.read_csv('Data/nfl-big-data-bowl-2022/tracking2018.csv')\n",
    "#tracking2019 = pd.read_csv('Data/nfl-big-data-bowl-2022/tracking2019.csv')\n",
    "#tracking2020 = pd.read_csv('Data/nfl-big-data-bowl-2022/tracking2020.csv')"
   ]
  },
  {
   "cell_type": "code",
   "execution_count": 3,
   "metadata": {},
   "outputs": [],
   "source": [
    "tracking_dict = {\n",
    "    2018: tracking2018,\n",
    "    2019: tracking2019,\n",
    "    2020: tracking2020\n",
    "}"
   ]
  },
  {
   "cell_type": "code",
   "execution_count": 153,
   "metadata": {},
   "outputs": [],
   "source": [
    "def game_season(game_id, games):\n",
    "    return games[games['gameId']==game_id]['season'].values[0]"
   ]
  },
  {
   "cell_type": "code",
   "execution_count": 150,
   "metadata": {},
   "outputs": [],
   "source": [
    "fg = plays[plays['specialTeamsPlayType'] == 'Field Goal']"
   ]
  },
  {
   "cell_type": "code",
   "execution_count": 155,
   "metadata": {},
   "outputs": [
    {
     "name": "stderr",
     "output_type": "stream",
     "text": [
      "/tmp/ipykernel_5690/2347118303.py:1: SettingWithCopyWarning: \n",
      "A value is trying to be set on a copy of a slice from a DataFrame.\n",
      "Try using .loc[row_indexer,col_indexer] = value instead\n",
      "\n",
      "See the caveats in the documentation: https://pandas.pydata.org/pandas-docs/stable/user_guide/indexing.html#returning-a-view-versus-a-copy\n",
      "  fg['season'] = fg['gameId'].apply(lambda x: game_season(x, games))\n"
     ]
    }
   ],
   "source": [
    "fg['season'] = fg['gameId'].apply(lambda x: game_season(x, games))"
   ]
  },
  {
   "cell_type": "code",
   "execution_count": 7,
   "metadata": {},
   "outputs": [],
   "source": [
    "fg2018 = fg[fg['season']==2018]"
   ]
  },
  {
   "cell_type": "code",
   "execution_count": 8,
   "metadata": {},
   "outputs": [],
   "source": [
    "fg_games = tracking2018[tracking2018['gameId'].isin(fg2018['gameId'])]\n",
    "fg_plays = fg_games[fg_games['playId'].isin(fg2018['playId'])]\n",
    "fg_plays_ball = fg_plays[fg_plays['displayName'] == 'football']"
   ]
  },
  {
   "cell_type": "code",
   "execution_count": 9,
   "metadata": {},
   "outputs": [],
   "source": [
    "play_example = fg_plays_ball[(fg_plays_ball['gameId']==2018123000) & (fg_plays_ball['playId']==2314)]"
   ]
  },
  {
   "cell_type": "code",
   "execution_count": 107,
   "metadata": {},
   "outputs": [],
   "source": [
    "def x_within_fg_bounds(x):\n",
    "    return ((x>118) & (x<122)) | ((x>-2) & (x<2))"
   ]
  },
  {
   "cell_type": "code",
   "execution_count": 132,
   "metadata": {},
   "outputs": [],
   "source": [
    "within_bounds = play_example[x_within_fg_bounds(play_example['x'])]\n",
    "\n",
    "id1 = len(within_bounds) // 2 - 1\n",
    "id2 = (len(within_bounds) // 2) if (len(within_bounds) % 2 == 0) else (len(within_bounds) // 2 - 1)\n",
    "\n",
    "first_y = within_bounds.iloc[id1]['y']\n",
    "last_y = within_bounds.iloc[id2]['y']\n",
    "\n",
    "first_x = within_bounds.iloc[id1]['x']\n",
    "last_x = within_bounds.iloc[id2]['x']\n",
    "\n",
    "mean_y = (first_y + last_y) / 2\n",
    "mean_x = (first_x + last_x) / 2"
   ]
  },
  {
   "cell_type": "code",
   "execution_count": 136,
   "metadata": {},
   "outputs": [],
   "source": [
    "within_bounds = play_example[x_within_fg_bounds(play_example['x'])]\n",
    "\n",
    "first_y = within_bounds.iloc[0]['y']\n",
    "last_y = within_bounds.iloc[1]['y']\n",
    "\n",
    "first_x = within_bounds.iloc[0]['x']\n",
    "last_x = within_bounds.iloc[1]['x']\n",
    "\n",
    "mean_y = (first_y + last_y) / 2\n",
    "mean_x = (first_x + last_x) / 2"
   ]
  },
  {
   "cell_type": "code",
   "execution_count": 117,
   "metadata": {},
   "outputs": [
    {
     "data": {
      "text/html": [
       "<div>\n",
       "<style scoped>\n",
       "    .dataframe tbody tr th:only-of-type {\n",
       "        vertical-align: middle;\n",
       "    }\n",
       "\n",
       "    .dataframe tbody tr th {\n",
       "        vertical-align: top;\n",
       "    }\n",
       "\n",
       "    .dataframe thead th {\n",
       "        text-align: right;\n",
       "    }\n",
       "</style>\n",
       "<table border=\"1\" class=\"dataframe\">\n",
       "  <thead>\n",
       "    <tr style=\"text-align: right;\">\n",
       "      <th></th>\n",
       "      <th>time</th>\n",
       "      <th>x</th>\n",
       "      <th>y</th>\n",
       "      <th>s</th>\n",
       "      <th>a</th>\n",
       "      <th>dis</th>\n",
       "      <th>o</th>\n",
       "      <th>dir</th>\n",
       "      <th>event</th>\n",
       "      <th>nflId</th>\n",
       "      <th>displayName</th>\n",
       "      <th>jerseyNumber</th>\n",
       "      <th>position</th>\n",
       "      <th>team</th>\n",
       "      <th>frameId</th>\n",
       "      <th>gameId</th>\n",
       "      <th>playId</th>\n",
       "      <th>playDirection</th>\n",
       "    </tr>\n",
       "  </thead>\n",
       "  <tbody>\n",
       "    <tr>\n",
       "      <th>29248</th>\n",
       "      <td>2018-12-30T22:53:49.300</td>\n",
       "      <td>118.91</td>\n",
       "      <td>30.58</td>\n",
       "      <td>8.40</td>\n",
       "      <td>3.56</td>\n",
       "      <td>0.97</td>\n",
       "      <td>NaN</td>\n",
       "      <td>NaN</td>\n",
       "      <td>None</td>\n",
       "      <td>NaN</td>\n",
       "      <td>football</td>\n",
       "      <td>NaN</td>\n",
       "      <td>NaN</td>\n",
       "      <td>football</td>\n",
       "      <td>56</td>\n",
       "      <td>2018123000</td>\n",
       "      <td>2314</td>\n",
       "      <td>right</td>\n",
       "    </tr>\n",
       "    <tr>\n",
       "      <th>29249</th>\n",
       "      <td>2018-12-30T22:53:49.400</td>\n",
       "      <td>119.98</td>\n",
       "      <td>30.76</td>\n",
       "      <td>7.67</td>\n",
       "      <td>5.03</td>\n",
       "      <td>1.09</td>\n",
       "      <td>NaN</td>\n",
       "      <td>NaN</td>\n",
       "      <td>None</td>\n",
       "      <td>NaN</td>\n",
       "      <td>football</td>\n",
       "      <td>NaN</td>\n",
       "      <td>NaN</td>\n",
       "      <td>football</td>\n",
       "      <td>57</td>\n",
       "      <td>2018123000</td>\n",
       "      <td>2314</td>\n",
       "      <td>right</td>\n",
       "    </tr>\n",
       "    <tr>\n",
       "      <th>29250</th>\n",
       "      <td>2018-12-30T22:53:49.500</td>\n",
       "      <td>120.86</td>\n",
       "      <td>30.88</td>\n",
       "      <td>7.22</td>\n",
       "      <td>4.99</td>\n",
       "      <td>0.88</td>\n",
       "      <td>NaN</td>\n",
       "      <td>NaN</td>\n",
       "      <td>None</td>\n",
       "      <td>NaN</td>\n",
       "      <td>football</td>\n",
       "      <td>NaN</td>\n",
       "      <td>NaN</td>\n",
       "      <td>football</td>\n",
       "      <td>58</td>\n",
       "      <td>2018123000</td>\n",
       "      <td>2314</td>\n",
       "      <td>right</td>\n",
       "    </tr>\n",
       "    <tr>\n",
       "      <th>29251</th>\n",
       "      <td>2018-12-30T22:53:49.600</td>\n",
       "      <td>121.59</td>\n",
       "      <td>30.98</td>\n",
       "      <td>6.80</td>\n",
       "      <td>4.33</td>\n",
       "      <td>0.74</td>\n",
       "      <td>NaN</td>\n",
       "      <td>NaN</td>\n",
       "      <td>None</td>\n",
       "      <td>NaN</td>\n",
       "      <td>football</td>\n",
       "      <td>NaN</td>\n",
       "      <td>NaN</td>\n",
       "      <td>football</td>\n",
       "      <td>59</td>\n",
       "      <td>2018123000</td>\n",
       "      <td>2314</td>\n",
       "      <td>right</td>\n",
       "    </tr>\n",
       "  </tbody>\n",
       "</table>\n",
       "</div>"
      ],
      "text/plain": [
       "                          time       x      y     s     a   dis   o  dir  \\\n",
       "29248  2018-12-30T22:53:49.300  118.91  30.58  8.40  3.56  0.97 NaN  NaN   \n",
       "29249  2018-12-30T22:53:49.400  119.98  30.76  7.67  5.03  1.09 NaN  NaN   \n",
       "29250  2018-12-30T22:53:49.500  120.86  30.88  7.22  4.99  0.88 NaN  NaN   \n",
       "29251  2018-12-30T22:53:49.600  121.59  30.98  6.80  4.33  0.74 NaN  NaN   \n",
       "\n",
       "      event  nflId displayName  jerseyNumber position      team  frameId  \\\n",
       "29248  None    NaN    football           NaN      NaN  football       56   \n",
       "29249  None    NaN    football           NaN      NaN  football       57   \n",
       "29250  None    NaN    football           NaN      NaN  football       58   \n",
       "29251  None    NaN    football           NaN      NaN  football       59   \n",
       "\n",
       "           gameId  playId playDirection  \n",
       "29248  2018123000    2314         right  \n",
       "29249  2018123000    2314         right  \n",
       "29250  2018123000    2314         right  \n",
       "29251  2018123000    2314         right  "
      ]
     },
     "execution_count": 117,
     "metadata": {},
     "output_type": "execute_result"
    }
   ],
   "source": [
    "within_bounds"
   ]
  },
  {
   "cell_type": "code",
   "execution_count": 137,
   "metadata": {},
   "outputs": [],
   "source": [
    "def get_fieldgoal_y_pos(game_id, play_id, tracking):\n",
    "\n",
    "    play_example = get_play(game_id, play_id, tracking)\n",
    "\n",
    "    try:\n",
    "\n",
    "        within_bounds = play_example[x_within_fg_bounds(play_example['x'])]\n",
    "\n",
    "        id1 = len(within_bounds) // 2 - 1\n",
    "        id2 = (len(within_bounds) // 2) if (len(within_bounds) % 2 == 0) else (len(within_bounds) // 2 - 1)\n",
    "\n",
    "        first_y = within_bounds.iloc[id1]['y']\n",
    "        last_y = within_bounds.iloc[id2]['y']\n",
    "\n",
    "        mean_y = (first_y + last_y) / 2\n",
    "    \n",
    "    except:\n",
    "        mean_y = np.nan\n",
    "\n",
    "    return mean_y"
   ]
  },
  {
   "cell_type": "code",
   "execution_count": 138,
   "metadata": {},
   "outputs": [
    {
     "name": "stderr",
     "output_type": "stream",
     "text": [
      "/tmp/ipykernel_3794/123015229.py:1: SettingWithCopyWarning: \n",
      "A value is trying to be set on a copy of a slice from a DataFrame.\n",
      "Try using .loc[row_indexer,col_indexer] = value instead\n",
      "\n",
      "See the caveats in the documentation: https://pandas.pydata.org/pandas-docs/stable/user_guide/indexing.html#returning-a-view-versus-a-copy\n",
      "  fg['fieldgoal_y'] = fg.index.map(lambda x: get_fieldgoal_y_pos(fg.loc[x]['gameId'], fg.loc[x]['playId'], tracking_dict[fg.loc[x]['season']]))\n"
     ]
    }
   ],
   "source": [
    "fg['fieldgoal_y'] = fg.index.map(lambda x: get_fieldgoal_y_pos(fg.loc[x]['gameId'], fg.loc[x]['playId'], tracking_dict[fg.loc[x]['season']]))"
   ]
  },
  {
   "cell_type": "code",
   "execution_count": 139,
   "metadata": {},
   "outputs": [
    {
     "data": {
      "text/plain": [
       "2        26.625\n",
       "6        27.925\n",
       "8        25.735\n",
       "33       29.420\n",
       "36       23.475\n",
       "          ...  \n",
       "19952    25.720\n",
       "19955    27.795\n",
       "19959    28.385\n",
       "19962    26.660\n",
       "19965    26.580\n",
       "Name: fieldgoal_y, Length: 2657, dtype: float64"
      ]
     },
     "execution_count": 139,
     "metadata": {},
     "output_type": "execute_result"
    }
   ],
   "source": [
    "fg['fieldgoal_y']"
   ]
  },
  {
   "cell_type": "code",
   "execution_count": 140,
   "metadata": {},
   "outputs": [
    {
     "data": {
      "text/plain": [
       "77"
      ]
     },
     "execution_count": 140,
     "metadata": {},
     "output_type": "execute_result"
    }
   ],
   "source": [
    "fg['fieldgoal_y'].isna().sum()"
   ]
  },
  {
   "cell_type": "code",
   "execution_count": 124,
   "metadata": {},
   "outputs": [],
   "source": [
    "import matplotlib.pyplot as plt\n",
    "import seaborn as sns\n",
    "\n",
    "from scipy import stats"
   ]
  },
  {
   "cell_type": "code",
   "execution_count": 142,
   "metadata": {},
   "outputs": [
    {
     "data": {
      "text/plain": [
       "0.09298449612403203"
      ]
     },
     "execution_count": 142,
     "metadata": {},
     "output_type": "execute_result"
    }
   ],
   "source": [
    "fg['fieldgoal_y'].mean() - (160/6)"
   ]
  },
  {
   "cell_type": "code",
   "execution_count": 143,
   "metadata": {},
   "outputs": [],
   "source": [
    "center = 160 / 6\n",
    "radius = 37/12"
   ]
  },
  {
   "cell_type": "code",
   "execution_count": 144,
   "metadata": {},
   "outputs": [
    {
     "name": "stderr",
     "output_type": "stream",
     "text": [
      "/home/kenneth/anaconda3/envs/nfl-env/lib/python3.8/site-packages/seaborn/distributions.py:2619: FutureWarning: `distplot` is a deprecated function and will be removed in a future version. Please adapt your code to use either `displot` (a figure-level function with similar flexibility) or `histplot` (an axes-level function for histograms).\n",
      "  warnings.warn(msg, FutureWarning)\n"
     ]
    },
    {
     "data": {
      "image/png": "[encoded data removed]",
      "text/plain": [
       "<Figure size 1296x648 with 1 Axes>"
      ]
     },
     "metadata": {},
     "output_type": "display_data"
    }
   ],
   "source": [
    "plt.style.use('seaborn')\n",
    "plt.figure(figsize=(18,9))\n",
    "sns.distplot(fg['fieldgoal_y'])\n",
    "plt.xlim(0,160/3)\n",
    "plt.axvline(x=center-radius, color='black', label='Goal Post')\n",
    "plt.axvline(x=center+radius, color='black')\n",
    "plt.axvline(x=160/6, color='yellow', label='Goal Center', linestyle='--')\n",
    "plt.axvline(x=fg['fieldgoal_y'].mean(), color='red', label='Mean Kick', linestyle='--')\n",
    "plt.legend(loc='upper right')\n",
    "plt.xlabel('Field Y-Position (yd)')\n",
    "plt.ylabel('Frequency')\n",
    "plt.title('Field Goal Kick Locations')\n",
    "plt.savefig('field_goal_dist.png')"
   ]
  },
  {
   "cell_type": "code",
   "execution_count": 145,
   "metadata": {},
   "outputs": [
    {
     "data": {
      "text/plain": [
       "2.244203151328016"
      ]
     },
     "execution_count": 145,
     "metadata": {},
     "output_type": "execute_result"
    }
   ],
   "source": [
    "fg['fieldgoal_y'].std()"
   ]
  },
  {
   "cell_type": "code",
   "execution_count": 146,
   "metadata": {},
   "outputs": [
    {
     "data": {
      "text/plain": [
       "3.0833333333333335"
      ]
     },
     "execution_count": 146,
     "metadata": {},
     "output_type": "execute_result"
    }
   ],
   "source": [
    "radius"
   ]
  },
  {
   "cell_type": "code",
   "execution_count": 147,
   "metadata": {},
   "outputs": [],
   "source": [
    "low = stats.percentileofscore(fg['fieldgoal_y'], center-radius)\n",
    "high = stats.percentileofscore(fg['fieldgoal_y'], center+radius)"
   ]
  },
  {
   "cell_type": "code",
   "execution_count": 148,
   "metadata": {},
   "outputs": [
    {
     "data": {
      "text/plain": [
       "83.77869777945051"
      ]
     },
     "execution_count": 148,
     "metadata": {},
     "output_type": "execute_result"
    }
   ],
   "source": [
    "high-low"
   ]
  },
  {
   "cell_type": "markdown",
   "metadata": {},
   "source": [
    "## Approximating Kick Trajectories"
   ]
  },
  {
   "cell_type": "code",
   "execution_count": 95,
   "metadata": {},
   "outputs": [],
   "source": [
    "def get_play(game_id, play_id, tracking, event):\n",
    "    '''\n",
    "    This function creates the tracking dataframes.\n",
    "\n",
    "    Parameters:\n",
    "    -----------\n",
    "    game_id, play_id - game and play of interest\n",
    "    tracking - tracking dataframe the that game and play are in\n",
    "    event - string of the event that we want to find, i.e., 'extra_point_attempt'\n",
    "    ...\n",
    "\n",
    "    Returns:\n",
    "    -----------\n",
    "    play - dataframe of just the tracking data for the particular play of interest\n",
    "    event_df - 11-row dataframe of tracking data around the event\n",
    "    '''\n",
    "    game = tracking[tracking['gameId'] == game_id]\n",
    "    play = game[game['playId'] == play_id]\n",
    "    ball = play[play['displayName']=='football']\n",
    "\n",
    "    index = ball.index[ball['event']== event].values[0]\n",
    "    event_df = ball.loc[index-5:index+5,:]\n",
    "    \n",
    "    return play, event_df"
   ]
  },
  {
   "cell_type": "code",
   "execution_count": 4,
   "metadata": {},
   "outputs": [],
   "source": [
    "def find_kickline(event_df):\n",
    "    '''\n",
    "    This function gives a straightline expectation of where the football crosses the endzone.\n",
    "\n",
    "    Parameters:\n",
    "    -----------\n",
    "    event_df - 11-row dataframe of tracking data around the event (from get_play)\n",
    "    ...\n",
    "    finds max_index where velocity is highest and uses the x & y values from max_index\n",
    "    and max_index+1 to calculate a straight line trajectory of the football\n",
    "\n",
    "    Returns:\n",
    "    -----------\n",
    "    y value expectation of football at x=120\n",
    "    '''\n",
    "    max_index = event_df['s'].idxmax()\n",
    "    \n",
    "    x1 = event_df['x'][max_index]\n",
    "    y1 = event_df['y'][max_index]\n",
    "    x2 = event_df['x'][max_index+1]\n",
    "    y2 = event_df['y'][max_index+1]\n",
    "    \n",
    "    m = (y2-y1)/(x2-x1)\n",
    "    \n",
    "    return m*(120-x1)+y1"
   ]
  },
  {
   "cell_type": "markdown",
   "metadata": {},
   "source": [
    "## Computing Player Density (Core Distance)"
   ]
  },
  {
   "cell_type": "code",
   "execution_count": 96,
   "metadata": {},
   "outputs": [],
   "source": [
    "def l2_norm(x1, y1, x2, y2):\n",
    "    # Computes euclidean distance between two points\n",
    "    return np.sqrt(np.square(x1-x2) + np.square(y1-y2))"
   ]
  },
  {
   "cell_type": "code",
   "execution_count": 97,
   "metadata": {},
   "outputs": [],
   "source": [
    "def get_opposing_team(kicking_team):\n",
    "    # Returns label of opposing team\n",
    "    return 'home' if kicking_team == 'away' else 'away'"
   ]
  },
  {
   "cell_type": "code",
   "execution_count": 112,
   "metadata": {},
   "outputs": [],
   "source": [
    "def compute_kicker_core_dist(game_id, play_id, tracking, k=5):\n",
    "    '''\n",
    "    Compute core distance from kicker to players on opposing team\n",
    "\n",
    "    Parameters:\n",
    "    -----------\n",
    "    game_id - gameId of play\n",
    "    play_id - playId of play\n",
    "    tracking - Tracking data containing relevant play\n",
    "    k - Number of nearest neighbors to check (returns distance of k-th nearest player)\n",
    "\n",
    "    Returns:\n",
    "    --------\n",
    "    core_distance - The core distance from kicker to players on opposing team\n",
    "\n",
    "    '''\n",
    "\n",
    "    # TO-DO:\n",
    "    #   - update function to make use of new get_play and get_event functions\n",
    "\n",
    "    # Get play and event data\n",
    "    play, event_df = get_play(game_id, play_id, tracking, 'field_goal_attempt')\n",
    "    \n",
    "    # Get kick event by finding max ball speed\n",
    "    kick_idx = event_df['s'].idxmax()\n",
    "    \n",
    "    # Get all play data at the time of the kick\n",
    "    kick_frame = play.loc[kick_idx]['frameId']\n",
    "    kick_tracking = play[play['frameId']==kick_frame]\n",
    "\n",
    "    # Get data from players on opposing team\n",
    "    kicking_team = kick_tracking[kick_tracking['position']=='K']['team'].values[0]\n",
    "    opposing_team = get_opposing_team(kicking_team)\n",
    "    opposing_team_players = kick_tracking[kick_tracking['team']==opposing_team]\n",
    "\n",
    "    # Get kicker x and y coords\n",
    "    kicker_x = kick_tracking[kick_tracking['position']=='K']['x'].values[0]\n",
    "    kicker_y = kick_tracking[kick_tracking['position']=='K']['y'].values[0]\n",
    "\n",
    "    # Compute Euclidean distances from kicker to players on opposing team\n",
    "    opposing_team_players['kicker_dist'] = l2_norm(kicker_x, kicker_y, opposing_team_players['x'], opposing_team_players['y'])\n",
    "\n",
    "    # Sort distances, grab k-th nearest distance (the core distance)\n",
    "    sorted_distances = opposing_team_players['kicker_dist'].sort_values()\n",
    "    core_distance = sorted_distances.iloc[k-1]\n",
    "\n",
    "    return core_distance\n",
    "    "
   ]
  },
  {
   "cell_type": "markdown",
   "metadata": {},
   "source": [
    "## Checking Play Data Quality (Field Goals)"
   ]
  },
  {
   "cell_type": "code",
   "execution_count": 284,
   "metadata": {},
   "outputs": [],
   "source": [
    "#play_example, event_df = get_play(2018123000, 2314, tracking2018, 'field_goal_attempt')\n",
    "play_example, event_df = get_play(2018122201, 2756, tracking2018, 'field_goal_attempt')\n",
    "#play_example, event_df = get_play(2018090905, 848, tracking2018, 'field_goal_attempt')\n",
    "#play_example, event_df = get_play(2018110405, 3517, tracking2018, 'field_goal_attempt')\n",
    "#play_example, event_df = get_play(2018091610, 473, tracking2018, 'field_goal_attempt')\n"
   ]
  },
  {
   "cell_type": "code",
   "execution_count": 285,
   "metadata": {},
   "outputs": [],
   "source": [
    "ball = play_example[play_example['team']=='football']"
   ]
  },
  {
   "cell_type": "code",
   "execution_count": 286,
   "metadata": {},
   "outputs": [],
   "source": [
    "snap_idx = ball[ball['event']=='ball_snap'].index[0]\n",
    "fga_idx = ball[ball['event']=='field_goal_attempt'].index[0]\n",
    "fgm_idx = ball[ball['event']=='field_goal'].index[0]"
   ]
  },
  {
   "cell_type": "code",
   "execution_count": 287,
   "metadata": {},
   "outputs": [
    {
     "data": {
      "image/png": "[encoded data removed]",
      "text/plain": [
       "<Figure size 864x432 with 1 Axes>"
      ]
     },
     "metadata": {
      "needs_background": "light"
     },
     "output_type": "display_data"
    }
   ],
   "source": [
    "plt.figure(figsize=(12,6))\n",
    "plt.plot(ball['s'], label='Speed')\n",
    "plt.plot(ball['a'], label='Acceleration')\n",
    "plt.axvline(x=fga_idx, color='green', linestyle='--', label='FG Attempt')\n",
    "plt.axvline(x=fgm_idx, color='red', linestyle='--', label='FG Good')\n",
    "plt.axvline(x=snap_idx, color='black', linestyle='--', label='Snap')\n",
    "plt.axvspan(fga_idx-5, fga_idx+5, color='green', alpha=0.1)\n",
    "plt.title('Ball Speed and Acceleration')\n",
    "plt.xlabel('Index')\n",
    "plt.ylabel('Magnitude')\n",
    "plt.legend()\n",
    "#plt.savefig('event_vs_ball_sa.png')"
   ]
  },
  {
   "cell_type": "code",
   "execution_count": 258,
   "metadata": {},
   "outputs": [],
   "source": [
    "# This is bad code. Don't use this, and tell no one I ever wrote this...\n",
    "def get_kick_attempt_idx_diff(game_id, play_id, tracking, event):\n",
    "    try:\n",
    "        play, event_df = get_play(game_id, play_id, tracking, event)\n",
    "        ball = play[play['team']=='football']\n",
    "        fga_idx = ball[ball['event']==event].index[0]\n",
    "        max_speed_idx = ball['s'].idxmax()\n",
    "\n",
    "        idx_diff = np.abs(fga_idx - max_speed_idx)\n",
    "\n",
    "        return idx_diff\n",
    "    except:\n",
    "        return np.nan"
   ]
  },
  {
   "cell_type": "code",
   "execution_count": 121,
   "metadata": {},
   "outputs": [
    {
     "data": {
      "text/html": [
       "<div>\n",
       "<style scoped>\n",
       "    .dataframe tbody tr th:only-of-type {\n",
       "        vertical-align: middle;\n",
       "    }\n",
       "\n",
       "    .dataframe tbody tr th {\n",
       "        vertical-align: top;\n",
       "    }\n",
       "\n",
       "    .dataframe thead th {\n",
       "        text-align: right;\n",
       "    }\n",
       "</style>\n",
       "<table border=\"1\" class=\"dataframe\">\n",
       "  <thead>\n",
       "    <tr style=\"text-align: right;\">\n",
       "      <th></th>\n",
       "      <th>time</th>\n",
       "      <th>x</th>\n",
       "      <th>y</th>\n",
       "      <th>s</th>\n",
       "      <th>a</th>\n",
       "      <th>dis</th>\n",
       "      <th>o</th>\n",
       "      <th>dir</th>\n",
       "      <th>event</th>\n",
       "      <th>nflId</th>\n",
       "      <th>displayName</th>\n",
       "      <th>jerseyNumber</th>\n",
       "      <th>position</th>\n",
       "      <th>team</th>\n",
       "      <th>frameId</th>\n",
       "      <th>gameId</th>\n",
       "      <th>playId</th>\n",
       "      <th>playDirection</th>\n",
       "    </tr>\n",
       "  </thead>\n",
       "  <tbody>\n",
       "    <tr>\n",
       "      <th>0</th>\n",
       "      <td>2018-12-30T21:25:32.200</td>\n",
       "      <td>41.32</td>\n",
       "      <td>29.45</td>\n",
       "      <td>4.36</td>\n",
       "      <td>1.33</td>\n",
       "      <td>0.43</td>\n",
       "      <td>130.42</td>\n",
       "      <td>128.44</td>\n",
       "      <td>None</td>\n",
       "      <td>39470.0</td>\n",
       "      <td>Justin Tucker</td>\n",
       "      <td>9.0</td>\n",
       "      <td>K</td>\n",
       "      <td>home</td>\n",
       "      <td>1</td>\n",
       "      <td>2018123000</td>\n",
       "      <td>36</td>\n",
       "      <td>right</td>\n",
       "    </tr>\n",
       "    <tr>\n",
       "      <th>1</th>\n",
       "      <td>2018-12-30T21:25:32.300</td>\n",
       "      <td>41.68</td>\n",
       "      <td>29.17</td>\n",
       "      <td>4.59</td>\n",
       "      <td>1.24</td>\n",
       "      <td>0.45</td>\n",
       "      <td>128.59</td>\n",
       "      <td>127.81</td>\n",
       "      <td>None</td>\n",
       "      <td>39470.0</td>\n",
       "      <td>Justin Tucker</td>\n",
       "      <td>9.0</td>\n",
       "      <td>K</td>\n",
       "      <td>home</td>\n",
       "      <td>2</td>\n",
       "      <td>2018123000</td>\n",
       "      <td>36</td>\n",
       "      <td>right</td>\n",
       "    </tr>\n",
       "    <tr>\n",
       "      <th>2</th>\n",
       "      <td>2018-12-30T21:25:32.400</td>\n",
       "      <td>42.05</td>\n",
       "      <td>28.88</td>\n",
       "      <td>4.74</td>\n",
       "      <td>0.99</td>\n",
       "      <td>0.47</td>\n",
       "      <td>124.47</td>\n",
       "      <td>128.15</td>\n",
       "      <td>None</td>\n",
       "      <td>39470.0</td>\n",
       "      <td>Justin Tucker</td>\n",
       "      <td>9.0</td>\n",
       "      <td>K</td>\n",
       "      <td>home</td>\n",
       "      <td>3</td>\n",
       "      <td>2018123000</td>\n",
       "      <td>36</td>\n",
       "      <td>right</td>\n",
       "    </tr>\n",
       "    <tr>\n",
       "      <th>3</th>\n",
       "      <td>2018-12-30T21:25:32.500</td>\n",
       "      <td>42.43</td>\n",
       "      <td>28.59</td>\n",
       "      <td>4.87</td>\n",
       "      <td>0.71</td>\n",
       "      <td>0.48</td>\n",
       "      <td>126.02</td>\n",
       "      <td>127.35</td>\n",
       "      <td>None</td>\n",
       "      <td>39470.0</td>\n",
       "      <td>Justin Tucker</td>\n",
       "      <td>9.0</td>\n",
       "      <td>K</td>\n",
       "      <td>home</td>\n",
       "      <td>4</td>\n",
       "      <td>2018123000</td>\n",
       "      <td>36</td>\n",
       "      <td>right</td>\n",
       "    </tr>\n",
       "    <tr>\n",
       "      <th>4</th>\n",
       "      <td>2018-12-30T21:25:32.600</td>\n",
       "      <td>42.84</td>\n",
       "      <td>28.31</td>\n",
       "      <td>4.96</td>\n",
       "      <td>0.79</td>\n",
       "      <td>0.50</td>\n",
       "      <td>131.71</td>\n",
       "      <td>124.75</td>\n",
       "      <td>None</td>\n",
       "      <td>39470.0</td>\n",
       "      <td>Justin Tucker</td>\n",
       "      <td>9.0</td>\n",
       "      <td>K</td>\n",
       "      <td>home</td>\n",
       "      <td>5</td>\n",
       "      <td>2018123000</td>\n",
       "      <td>36</td>\n",
       "      <td>right</td>\n",
       "    </tr>\n",
       "    <tr>\n",
       "      <th>...</th>\n",
       "      <td>...</td>\n",
       "      <td>...</td>\n",
       "      <td>...</td>\n",
       "      <td>...</td>\n",
       "      <td>...</td>\n",
       "      <td>...</td>\n",
       "      <td>...</td>\n",
       "      <td>...</td>\n",
       "      <td>...</td>\n",
       "      <td>...</td>\n",
       "      <td>...</td>\n",
       "      <td>...</td>\n",
       "      <td>...</td>\n",
       "      <td>...</td>\n",
       "      <td>...</td>\n",
       "      <td>...</td>\n",
       "      <td>...</td>\n",
       "      <td>...</td>\n",
       "    </tr>\n",
       "    <tr>\n",
       "      <th>12777346</th>\n",
       "      <td>2018-09-11T05:25:17.800</td>\n",
       "      <td>123.18</td>\n",
       "      <td>51.73</td>\n",
       "      <td>3.76</td>\n",
       "      <td>1.45</td>\n",
       "      <td>0.29</td>\n",
       "      <td>NaN</td>\n",
       "      <td>NaN</td>\n",
       "      <td>None</td>\n",
       "      <td>NaN</td>\n",
       "      <td>football</td>\n",
       "      <td>NaN</td>\n",
       "      <td>NaN</td>\n",
       "      <td>football</td>\n",
       "      <td>59</td>\n",
       "      <td>2018091001</td>\n",
       "      <td>4033</td>\n",
       "      <td>right</td>\n",
       "    </tr>\n",
       "    <tr>\n",
       "      <th>12777347</th>\n",
       "      <td>2018-09-11T05:25:17.900</td>\n",
       "      <td>123.40</td>\n",
       "      <td>51.89</td>\n",
       "      <td>3.19</td>\n",
       "      <td>3.02</td>\n",
       "      <td>0.28</td>\n",
       "      <td>NaN</td>\n",
       "      <td>NaN</td>\n",
       "      <td>None</td>\n",
       "      <td>NaN</td>\n",
       "      <td>football</td>\n",
       "      <td>NaN</td>\n",
       "      <td>NaN</td>\n",
       "      <td>football</td>\n",
       "      <td>60</td>\n",
       "      <td>2018091001</td>\n",
       "      <td>4033</td>\n",
       "      <td>right</td>\n",
       "    </tr>\n",
       "    <tr>\n",
       "      <th>12777348</th>\n",
       "      <td>2018-09-11T05:25:18.000</td>\n",
       "      <td>123.55</td>\n",
       "      <td>52.18</td>\n",
       "      <td>2.95</td>\n",
       "      <td>3.88</td>\n",
       "      <td>0.32</td>\n",
       "      <td>NaN</td>\n",
       "      <td>NaN</td>\n",
       "      <td>None</td>\n",
       "      <td>NaN</td>\n",
       "      <td>football</td>\n",
       "      <td>NaN</td>\n",
       "      <td>NaN</td>\n",
       "      <td>football</td>\n",
       "      <td>61</td>\n",
       "      <td>2018091001</td>\n",
       "      <td>4033</td>\n",
       "      <td>right</td>\n",
       "    </tr>\n",
       "    <tr>\n",
       "      <th>12777349</th>\n",
       "      <td>2018-09-11T05:25:18.100</td>\n",
       "      <td>123.67</td>\n",
       "      <td>52.50</td>\n",
       "      <td>3.01</td>\n",
       "      <td>4.53</td>\n",
       "      <td>0.34</td>\n",
       "      <td>NaN</td>\n",
       "      <td>NaN</td>\n",
       "      <td>None</td>\n",
       "      <td>NaN</td>\n",
       "      <td>football</td>\n",
       "      <td>NaN</td>\n",
       "      <td>NaN</td>\n",
       "      <td>football</td>\n",
       "      <td>62</td>\n",
       "      <td>2018091001</td>\n",
       "      <td>4033</td>\n",
       "      <td>right</td>\n",
       "    </tr>\n",
       "    <tr>\n",
       "      <th>12777350</th>\n",
       "      <td>2018-09-11T05:25:18.200</td>\n",
       "      <td>123.74</td>\n",
       "      <td>52.81</td>\n",
       "      <td>3.03</td>\n",
       "      <td>3.97</td>\n",
       "      <td>0.32</td>\n",
       "      <td>NaN</td>\n",
       "      <td>NaN</td>\n",
       "      <td>None</td>\n",
       "      <td>NaN</td>\n",
       "      <td>football</td>\n",
       "      <td>NaN</td>\n",
       "      <td>NaN</td>\n",
       "      <td>football</td>\n",
       "      <td>63</td>\n",
       "      <td>2018091001</td>\n",
       "      <td>4033</td>\n",
       "      <td>right</td>\n",
       "    </tr>\n",
       "  </tbody>\n",
       "</table>\n",
       "<p>12777351 rows × 18 columns</p>\n",
       "</div>"
      ],
      "text/plain": [
       "                             time       x      y     s     a   dis       o  \\\n",
       "0         2018-12-30T21:25:32.200   41.32  29.45  4.36  1.33  0.43  130.42   \n",
       "1         2018-12-30T21:25:32.300   41.68  29.17  4.59  1.24  0.45  128.59   \n",
       "2         2018-12-30T21:25:32.400   42.05  28.88  4.74  0.99  0.47  124.47   \n",
       "3         2018-12-30T21:25:32.500   42.43  28.59  4.87  0.71  0.48  126.02   \n",
       "4         2018-12-30T21:25:32.600   42.84  28.31  4.96  0.79  0.50  131.71   \n",
       "...                           ...     ...    ...   ...   ...   ...     ...   \n",
       "12777346  2018-09-11T05:25:17.800  123.18  51.73  3.76  1.45  0.29     NaN   \n",
       "12777347  2018-09-11T05:25:17.900  123.40  51.89  3.19  3.02  0.28     NaN   \n",
       "12777348  2018-09-11T05:25:18.000  123.55  52.18  2.95  3.88  0.32     NaN   \n",
       "12777349  2018-09-11T05:25:18.100  123.67  52.50  3.01  4.53  0.34     NaN   \n",
       "12777350  2018-09-11T05:25:18.200  123.74  52.81  3.03  3.97  0.32     NaN   \n",
       "\n",
       "             dir event    nflId    displayName  jerseyNumber position  \\\n",
       "0         128.44  None  39470.0  Justin Tucker           9.0        K   \n",
       "1         127.81  None  39470.0  Justin Tucker           9.0        K   \n",
       "2         128.15  None  39470.0  Justin Tucker           9.0        K   \n",
       "3         127.35  None  39470.0  Justin Tucker           9.0        K   \n",
       "4         124.75  None  39470.0  Justin Tucker           9.0        K   \n",
       "...          ...   ...      ...            ...           ...      ...   \n",
       "12777346     NaN  None      NaN       football           NaN      NaN   \n",
       "12777347     NaN  None      NaN       football           NaN      NaN   \n",
       "12777348     NaN  None      NaN       football           NaN      NaN   \n",
       "12777349     NaN  None      NaN       football           NaN      NaN   \n",
       "12777350     NaN  None      NaN       football           NaN      NaN   \n",
       "\n",
       "              team  frameId      gameId  playId playDirection  \n",
       "0             home        1  2018123000      36         right  \n",
       "1             home        2  2018123000      36         right  \n",
       "2             home        3  2018123000      36         right  \n",
       "3             home        4  2018123000      36         right  \n",
       "4             home        5  2018123000      36         right  \n",
       "...            ...      ...         ...     ...           ...  \n",
       "12777346  football       59  2018091001    4033         right  \n",
       "12777347  football       60  2018091001    4033         right  \n",
       "12777348  football       61  2018091001    4033         right  \n",
       "12777349  football       62  2018091001    4033         right  \n",
       "12777350  football       63  2018091001    4033         right  \n",
       "\n",
       "[12777351 rows x 18 columns]"
      ]
     },
     "execution_count": 121,
     "metadata": {},
     "output_type": "execute_result"
    }
   ],
   "source": [
    "tracking2018"
   ]
  },
  {
   "cell_type": "code",
   "execution_count": 156,
   "metadata": {},
   "outputs": [],
   "source": [
    "fg2018 = fg[fg['season']==2018]"
   ]
  },
  {
   "cell_type": "code",
   "execution_count": 259,
   "metadata": {},
   "outputs": [
    {
     "name": "stderr",
     "output_type": "stream",
     "text": [
      "/tmp/ipykernel_5690/1757950116.py:1: SettingWithCopyWarning: \n",
      "A value is trying to be set on a copy of a slice from a DataFrame.\n",
      "Try using .loc[row_indexer,col_indexer] = value instead\n",
      "\n",
      "See the caveats in the documentation: https://pandas.pydata.org/pandas-docs/stable/user_guide/indexing.html#returning-a-view-versus-a-copy\n",
      "  fg2018['index_diff'] = fg2018.index.map(lambda x: get_kick_attempt_idx_diff(fg.loc[x]['gameId'], fg.loc[x]['playId'], tracking2018, 'field_goal_attempt'))\n"
     ]
    }
   ],
   "source": [
    "fg2018['index_diff'] = fg2018.index.map(lambda x: get_kick_attempt_idx_diff(fg.loc[x]['gameId'], fg.loc[x]['playId'], tracking2018, 'field_goal_attempt'))"
   ]
  },
  {
   "cell_type": "code",
   "execution_count": 161,
   "metadata": {},
   "outputs": [
    {
     "data": {
      "text/plain": [
       "<AxesSubplot:>"
      ]
     },
     "execution_count": 161,
     "metadata": {},
     "output_type": "execute_result"
    },
    {
     "data": {
      "image/png": "[encoded data removed]",
      "text/plain": [
       "<Figure size 432x288 with 1 Axes>"
      ]
     },
     "metadata": {
      "needs_background": "light"
     },
     "output_type": "display_data"
    }
   ],
   "source": [
    "fg2018['index_diff'].hist(bins=50)"
   ]
  },
  {
   "cell_type": "code",
   "execution_count": 164,
   "metadata": {},
   "outputs": [
    {
     "data": {
      "text/plain": [
       "count    897.000000\n",
       "mean       3.083612\n",
       "std        6.311725\n",
       "min        0.000000\n",
       "25%        1.000000\n",
       "50%        1.000000\n",
       "75%        2.000000\n",
       "max      116.000000\n",
       "Name: index_diff, dtype: float64"
      ]
     },
     "execution_count": 164,
     "metadata": {},
     "output_type": "execute_result"
    }
   ],
   "source": [
    "fg2018['index_diff'].describe()"
   ]
  },
  {
   "cell_type": "code",
   "execution_count": 172,
   "metadata": {},
   "outputs": [
    {
     "data": {
      "text/plain": [
       "89.92248062015504"
      ]
     },
     "execution_count": 172,
     "metadata": {},
     "output_type": "execute_result"
    }
   ],
   "source": [
    "stats.percentileofscore(fg2018['index_diff'], )"
   ]
  },
  {
   "cell_type": "code",
   "execution_count": 176,
   "metadata": {},
   "outputs": [
    {
     "data": {
      "text/html": [
       "<div>\n",
       "<style scoped>\n",
       "    .dataframe tbody tr th:only-of-type {\n",
       "        vertical-align: middle;\n",
       "    }\n",
       "\n",
       "    .dataframe tbody tr th {\n",
       "        vertical-align: top;\n",
       "    }\n",
       "\n",
       "    .dataframe thead th {\n",
       "        text-align: right;\n",
       "    }\n",
       "</style>\n",
       "<table border=\"1\" class=\"dataframe\">\n",
       "  <thead>\n",
       "    <tr style=\"text-align: right;\">\n",
       "      <th></th>\n",
       "      <th>gameId</th>\n",
       "      <th>playId</th>\n",
       "      <th>playDescription</th>\n",
       "      <th>quarter</th>\n",
       "      <th>down</th>\n",
       "      <th>yardsToGo</th>\n",
       "      <th>possessionTeam</th>\n",
       "      <th>specialTeamsPlayType</th>\n",
       "      <th>specialTeamsResult</th>\n",
       "      <th>kickerId</th>\n",
       "      <th>...</th>\n",
       "      <th>penaltyYards</th>\n",
       "      <th>preSnapHomeScore</th>\n",
       "      <th>preSnapVisitorScore</th>\n",
       "      <th>passResult</th>\n",
       "      <th>kickLength</th>\n",
       "      <th>kickReturnYardage</th>\n",
       "      <th>playResult</th>\n",
       "      <th>absoluteYardlineNumber</th>\n",
       "      <th>season</th>\n",
       "      <th>index_diff</th>\n",
       "    </tr>\n",
       "  </thead>\n",
       "  <tbody>\n",
       "    <tr>\n",
       "      <th>876</th>\n",
       "      <td>2018092301</td>\n",
       "      <td>1721</td>\n",
       "      <td>(4:45) (Field Goal formation) J.Tucker 43 yard...</td>\n",
       "      <td>2</td>\n",
       "      <td>4</td>\n",
       "      <td>7</td>\n",
       "      <td>BAL</td>\n",
       "      <td>Field Goal</td>\n",
       "      <td>Blocked Kick Attempt</td>\n",
       "      <td>39470.0</td>\n",
       "      <td>...</td>\n",
       "      <td>10.0</td>\n",
       "      <td>17</td>\n",
       "      <td>14</td>\n",
       "      <td>NaN</td>\n",
       "      <td>NaN</td>\n",
       "      <td>NaN</td>\n",
       "      <td>-26</td>\n",
       "      <td>35</td>\n",
       "      <td>2018</td>\n",
       "      <td>116.0</td>\n",
       "    </tr>\n",
       "  </tbody>\n",
       "</table>\n",
       "<p>1 rows × 27 columns</p>\n",
       "</div>"
      ],
      "text/plain": [
       "         gameId  playId                                    playDescription  \\\n",
       "876  2018092301    1721  (4:45) (Field Goal formation) J.Tucker 43 yard...   \n",
       "\n",
       "     quarter  down  yardsToGo possessionTeam specialTeamsPlayType  \\\n",
       "876        2     4          7            BAL           Field Goal   \n",
       "\n",
       "       specialTeamsResult  kickerId  ... penaltyYards  preSnapHomeScore  \\\n",
       "876  Blocked Kick Attempt   39470.0  ...         10.0                17   \n",
       "\n",
       "    preSnapVisitorScore  passResult kickLength kickReturnYardage playResult  \\\n",
       "876                  14         NaN        NaN               NaN        -26   \n",
       "\n",
       "     absoluteYardlineNumber  season  index_diff  \n",
       "876                      35    2018       116.0  \n",
       "\n",
       "[1 rows x 27 columns]"
      ]
     },
     "execution_count": 176,
     "metadata": {},
     "output_type": "execute_result"
    }
   ],
   "source": [
    "fg2018[fg2018['index_diff'] == fg2018['index_diff'].max()]"
   ]
  },
  {
   "cell_type": "code",
   "execution_count": 178,
   "metadata": {},
   "outputs": [],
   "source": [
    "fg2018_attempts = fg2018[fg2018['specialTeamsResult'].isin(['Kick Attempt Good', 'Kick Attempt No Good'])]"
   ]
  },
  {
   "cell_type": "code",
   "execution_count": 185,
   "metadata": {},
   "outputs": [
    {
     "data": {
      "text/plain": [
       "<AxesSubplot:>"
      ]
     },
     "execution_count": 185,
     "metadata": {},
     "output_type": "execute_result"
    },
    {
     "data": {
      "image/png": "[encoded data removed]",
      "text/plain": [
       "<Figure size 432x288 with 1 Axes>"
      ]
     },
     "metadata": {
      "needs_background": "light"
     },
     "output_type": "display_data"
    }
   ],
   "source": [
    "fg2018_attempts['index_diff'].hist(bins=50)"
   ]
  },
  {
   "cell_type": "code",
   "execution_count": 186,
   "metadata": {},
   "outputs": [
    {
     "data": {
      "text/plain": [
       "count    889.000000\n",
       "mean       2.914511\n",
       "std        5.031153\n",
       "min        0.000000\n",
       "25%        1.000000\n",
       "50%        1.000000\n",
       "75%        2.000000\n",
       "max       39.000000\n",
       "Name: index_diff, dtype: float64"
      ]
     },
     "execution_count": 186,
     "metadata": {},
     "output_type": "execute_result"
    }
   ],
   "source": [
    "fg2018_attempts['index_diff'].describe()"
   ]
  },
  {
   "cell_type": "code",
   "execution_count": 189,
   "metadata": {},
   "outputs": [
    {
     "data": {
      "text/plain": [
       "7.2000000000000455"
      ]
     },
     "execution_count": 189,
     "metadata": {},
     "output_type": "execute_result"
    }
   ],
   "source": [
    "fg2018_attempts['index_diff'].quantile(.9)"
   ]
  },
  {
   "cell_type": "code",
   "execution_count": 232,
   "metadata": {},
   "outputs": [
    {
     "data": {
      "text/plain": [
       "90.1685393258427"
      ]
     },
     "execution_count": 232,
     "metadata": {},
     "output_type": "execute_result"
    }
   ],
   "source": [
    "stats.percentileofscore(fg2018_attempts['index_diff'], 8)"
   ]
  },
  {
   "cell_type": "code",
   "execution_count": 225,
   "metadata": {},
   "outputs": [
    {
     "data": {
      "text/html": [
       "<div>\n",
       "<style scoped>\n",
       "    .dataframe tbody tr th:only-of-type {\n",
       "        vertical-align: middle;\n",
       "    }\n",
       "\n",
       "    .dataframe tbody tr th {\n",
       "        vertical-align: top;\n",
       "    }\n",
       "\n",
       "    .dataframe thead th {\n",
       "        text-align: right;\n",
       "    }\n",
       "</style>\n",
       "<table border=\"1\" class=\"dataframe\">\n",
       "  <thead>\n",
       "    <tr style=\"text-align: right;\">\n",
       "      <th></th>\n",
       "      <th>gameId</th>\n",
       "      <th>playId</th>\n",
       "      <th>playDescription</th>\n",
       "      <th>quarter</th>\n",
       "      <th>down</th>\n",
       "      <th>yardsToGo</th>\n",
       "      <th>possessionTeam</th>\n",
       "      <th>specialTeamsPlayType</th>\n",
       "      <th>specialTeamsResult</th>\n",
       "      <th>kickerId</th>\n",
       "      <th>...</th>\n",
       "      <th>penaltyYards</th>\n",
       "      <th>preSnapHomeScore</th>\n",
       "      <th>preSnapVisitorScore</th>\n",
       "      <th>passResult</th>\n",
       "      <th>kickLength</th>\n",
       "      <th>kickReturnYardage</th>\n",
       "      <th>playResult</th>\n",
       "      <th>absoluteYardlineNumber</th>\n",
       "      <th>season</th>\n",
       "      <th>index_diff</th>\n",
       "    </tr>\n",
       "  </thead>\n",
       "  <tbody>\n",
       "    <tr>\n",
       "      <th>658</th>\n",
       "      <td>2018091610</td>\n",
       "      <td>473</td>\n",
       "      <td>(6:22) R.Gould 45 yard field goal is GOOD, Cen...</td>\n",
       "      <td>1</td>\n",
       "      <td>4</td>\n",
       "      <td>27</td>\n",
       "      <td>SF</td>\n",
       "      <td>Field Goal</td>\n",
       "      <td>Kick Attempt Good</td>\n",
       "      <td>30403.0</td>\n",
       "      <td>...</td>\n",
       "      <td>NaN</td>\n",
       "      <td>0</td>\n",
       "      <td>0</td>\n",
       "      <td>NaN</td>\n",
       "      <td>45.0</td>\n",
       "      <td>NaN</td>\n",
       "      <td>0</td>\n",
       "      <td>37</td>\n",
       "      <td>2018</td>\n",
       "      <td>7.0</td>\n",
       "    </tr>\n",
       "    <tr>\n",
       "      <th>1435</th>\n",
       "      <td>2018093006</td>\n",
       "      <td>542</td>\n",
       "      <td>(5:30) S.Gostkowski 20 yard field goal is GOOD...</td>\n",
       "      <td>1</td>\n",
       "      <td>4</td>\n",
       "      <td>2</td>\n",
       "      <td>NE</td>\n",
       "      <td>Field Goal</td>\n",
       "      <td>Kick Attempt Good</td>\n",
       "      <td>30932.0</td>\n",
       "      <td>...</td>\n",
       "      <td>NaN</td>\n",
       "      <td>0</td>\n",
       "      <td>0</td>\n",
       "      <td>NaN</td>\n",
       "      <td>20.0</td>\n",
       "      <td>NaN</td>\n",
       "      <td>0</td>\n",
       "      <td>12</td>\n",
       "      <td>2018</td>\n",
       "      <td>7.0</td>\n",
       "    </tr>\n",
       "    <tr>\n",
       "      <th>3274</th>\n",
       "      <td>2018110100</td>\n",
       "      <td>1910</td>\n",
       "      <td>(:21) R.Gould 39 yard field goal is GOOD, Cent...</td>\n",
       "      <td>2</td>\n",
       "      <td>4</td>\n",
       "      <td>8</td>\n",
       "      <td>SF</td>\n",
       "      <td>Field Goal</td>\n",
       "      <td>Kick Attempt Good</td>\n",
       "      <td>30403.0</td>\n",
       "      <td>...</td>\n",
       "      <td>NaN</td>\n",
       "      <td>14</td>\n",
       "      <td>3</td>\n",
       "      <td>NaN</td>\n",
       "      <td>39.0</td>\n",
       "      <td>NaN</td>\n",
       "      <td>0</td>\n",
       "      <td>89</td>\n",
       "      <td>2018</td>\n",
       "      <td>7.0</td>\n",
       "    </tr>\n",
       "    <tr>\n",
       "      <th>3564</th>\n",
       "      <td>2018110410</td>\n",
       "      <td>748</td>\n",
       "      <td>(5:08) M.Crosby 29 yard field goal is GOOD, Ce...</td>\n",
       "      <td>1</td>\n",
       "      <td>4</td>\n",
       "      <td>11</td>\n",
       "      <td>GB</td>\n",
       "      <td>Field Goal</td>\n",
       "      <td>Kick Attempt Good</td>\n",
       "      <td>32386.0</td>\n",
       "      <td>...</td>\n",
       "      <td>NaN</td>\n",
       "      <td>7</td>\n",
       "      <td>0</td>\n",
       "      <td>NaN</td>\n",
       "      <td>29.0</td>\n",
       "      <td>NaN</td>\n",
       "      <td>0</td>\n",
       "      <td>21</td>\n",
       "      <td>2018</td>\n",
       "      <td>7.0</td>\n",
       "    </tr>\n",
       "    <tr>\n",
       "      <th>4489</th>\n",
       "      <td>2018112502</td>\n",
       "      <td>1885</td>\n",
       "      <td>(:01) G.Gano 25 yard field goal is GOOD, Cente...</td>\n",
       "      <td>2</td>\n",
       "      <td>4</td>\n",
       "      <td>7</td>\n",
       "      <td>CAR</td>\n",
       "      <td>Field Goal</td>\n",
       "      <td>Kick Attempt Good</td>\n",
       "      <td>35102.0</td>\n",
       "      <td>...</td>\n",
       "      <td>NaN</td>\n",
       "      <td>10</td>\n",
       "      <td>10</td>\n",
       "      <td>NaN</td>\n",
       "      <td>25.0</td>\n",
       "      <td>NaN</td>\n",
       "      <td>0</td>\n",
       "      <td>103</td>\n",
       "      <td>2018</td>\n",
       "      <td>7.0</td>\n",
       "    </tr>\n",
       "    <tr>\n",
       "      <th>6273</th>\n",
       "      <td>2018122310</td>\n",
       "      <td>4796</td>\n",
       "      <td>(:03) J.Elliott 35 yard field goal is GOOD, Ce...</td>\n",
       "      <td>4</td>\n",
       "      <td>3</td>\n",
       "      <td>8</td>\n",
       "      <td>PHI</td>\n",
       "      <td>Field Goal</td>\n",
       "      <td>Kick Attempt Good</td>\n",
       "      <td>44966.0</td>\n",
       "      <td>...</td>\n",
       "      <td>NaN</td>\n",
       "      <td>29</td>\n",
       "      <td>30</td>\n",
       "      <td>NaN</td>\n",
       "      <td>35.0</td>\n",
       "      <td>NaN</td>\n",
       "      <td>0</td>\n",
       "      <td>93</td>\n",
       "      <td>2018</td>\n",
       "      <td>7.0</td>\n",
       "    </tr>\n",
       "  </tbody>\n",
       "</table>\n",
       "<p>6 rows × 27 columns</p>\n",
       "</div>"
      ],
      "text/plain": [
       "          gameId  playId                                    playDescription  \\\n",
       "658   2018091610     473  (6:22) R.Gould 45 yard field goal is GOOD, Cen...   \n",
       "1435  2018093006     542  (5:30) S.Gostkowski 20 yard field goal is GOOD...   \n",
       "3274  2018110100    1910  (:21) R.Gould 39 yard field goal is GOOD, Cent...   \n",
       "3564  2018110410     748  (5:08) M.Crosby 29 yard field goal is GOOD, Ce...   \n",
       "4489  2018112502    1885  (:01) G.Gano 25 yard field goal is GOOD, Cente...   \n",
       "6273  2018122310    4796  (:03) J.Elliott 35 yard field goal is GOOD, Ce...   \n",
       "\n",
       "      quarter  down  yardsToGo possessionTeam specialTeamsPlayType  \\\n",
       "658         1     4         27             SF           Field Goal   \n",
       "1435        1     4          2             NE           Field Goal   \n",
       "3274        2     4          8             SF           Field Goal   \n",
       "3564        1     4         11             GB           Field Goal   \n",
       "4489        2     4          7            CAR           Field Goal   \n",
       "6273        4     3          8            PHI           Field Goal   \n",
       "\n",
       "     specialTeamsResult  kickerId  ... penaltyYards  preSnapHomeScore  \\\n",
       "658   Kick Attempt Good   30403.0  ...          NaN                 0   \n",
       "1435  Kick Attempt Good   30932.0  ...          NaN                 0   \n",
       "3274  Kick Attempt Good   30403.0  ...          NaN                14   \n",
       "3564  Kick Attempt Good   32386.0  ...          NaN                 7   \n",
       "4489  Kick Attempt Good   35102.0  ...          NaN                10   \n",
       "6273  Kick Attempt Good   44966.0  ...          NaN                29   \n",
       "\n",
       "     preSnapVisitorScore  passResult kickLength kickReturnYardage playResult  \\\n",
       "658                    0         NaN       45.0               NaN          0   \n",
       "1435                   0         NaN       20.0               NaN          0   \n",
       "3274                   3         NaN       39.0               NaN          0   \n",
       "3564                   0         NaN       29.0               NaN          0   \n",
       "4489                  10         NaN       25.0               NaN          0   \n",
       "6273                  30         NaN       35.0               NaN          0   \n",
       "\n",
       "      absoluteYardlineNumber  season  index_diff  \n",
       "658                       37    2018         7.0  \n",
       "1435                      12    2018         7.0  \n",
       "3274                      89    2018         7.0  \n",
       "3564                      21    2018         7.0  \n",
       "4489                     103    2018         7.0  \n",
       "6273                      93    2018         7.0  \n",
       "\n",
       "[6 rows x 27 columns]"
      ]
     },
     "execution_count": 225,
     "metadata": {},
     "output_type": "execute_result"
    }
   ],
   "source": [
    "fg2018_attempts[fg2018_attempts['index_diff'] == 7]"
   ]
  },
  {
   "cell_type": "code",
   "execution_count": 204,
   "metadata": {},
   "outputs": [],
   "source": [
    "from play_animation import animate_play"
   ]
  },
  {
   "cell_type": "code",
   "execution_count": 231,
   "metadata": {},
   "outputs": [
    {
     "data": {
      "text/plain": [
       "<matplotlib.animation.FuncAnimation at 0x7fa75b2db8b0>"
      ]
     },
     "execution_count": 231,
     "metadata": {},
     "output_type": "execute_result"
    },
    {
     "data": {
      "image/png": "[encoded data removed]",
      "text/plain": [
       "<Figure size 1440x648 with 1 Axes>"
      ]
     },
     "metadata": {
      "needs_background": "light"
     },
     "output_type": "display_data"
    }
   ],
   "source": [
    "animate_play(2018091610, 473, tracking2018, games=games, save_to='weird_play.mp4')"
   ]
  },
  {
   "cell_type": "markdown",
   "metadata": {},
   "source": [
    "## Checking Play Data Quality (Extra Points)"
   ]
  },
  {
   "cell_type": "code",
   "execution_count": 233,
   "metadata": {},
   "outputs": [
    {
     "name": "stderr",
     "output_type": "stream",
     "text": [
      "/tmp/ipykernel_5690/2875678876.py:2: SettingWithCopyWarning: \n",
      "A value is trying to be set on a copy of a slice from a DataFrame.\n",
      "Try using .loc[row_indexer,col_indexer] = value instead\n",
      "\n",
      "See the caveats in the documentation: https://pandas.pydata.org/pandas-docs/stable/user_guide/indexing.html#returning-a-view-versus-a-copy\n",
      "  ep['season'] = ep['gameId'].apply(lambda x: game_season(x, games))\n"
     ]
    }
   ],
   "source": [
    "ep = plays[plays['specialTeamsPlayType'] == 'Extra Point']\n",
    "ep['season'] = ep['gameId'].apply(lambda x: game_season(x, games))\n",
    "ep2018 = ep[ep['season']==2018]"
   ]
  },
  {
   "cell_type": "code",
   "execution_count": 246,
   "metadata": {},
   "outputs": [
    {
     "name": "stderr",
     "output_type": "stream",
     "text": [
      "/tmp/ipykernel_5690/4080750428.py:1: SettingWithCopyWarning: \n",
      "A value is trying to be set on a copy of a slice from a DataFrame.\n",
      "Try using .loc[row_indexer,col_indexer] = value instead\n",
      "\n",
      "See the caveats in the documentation: https://pandas.pydata.org/pandas-docs/stable/user_guide/indexing.html#returning-a-view-versus-a-copy\n",
      "  ep2018['index_diff'] = ep2018.index.map(lambda x: get_kick_attempt_idx_diff(ep2018.loc[x]['gameId'], ep2018.loc[x]['playId'], tracking2018, 'extra_point_attempt'))\n"
     ]
    }
   ],
   "source": [
    "ep2018['index_diff'] = ep2018.index.map(lambda x: get_kick_attempt_idx_diff(ep2018.loc[x]['gameId'], ep2018.loc[x]['playId'], tracking2018, 'extra_point_attempt'))"
   ]
  },
  {
   "cell_type": "code",
   "execution_count": 247,
   "metadata": {},
   "outputs": [
    {
     "data": {
      "text/plain": [
       "<AxesSubplot:>"
      ]
     },
     "execution_count": 247,
     "metadata": {},
     "output_type": "execute_result"
    },
    {
     "data": {
      "image/png": "[encoded data removed]",
      "text/plain": [
       "<Figure size 432x288 with 1 Axes>"
      ]
     },
     "metadata": {
      "needs_background": "light"
     },
     "output_type": "display_data"
    }
   ],
   "source": [
    "ep2018['index_diff'].hist(bins=50)"
   ]
  },
  {
   "cell_type": "code",
   "execution_count": 248,
   "metadata": {},
   "outputs": [
    {
     "data": {
      "text/plain": [
       "count    1179.000000\n",
       "mean        2.750636\n",
       "std         4.305669\n",
       "min         0.000000\n",
       "25%         1.000000\n",
       "50%         1.000000\n",
       "75%         3.000000\n",
       "max        29.000000\n",
       "Name: index_diff, dtype: float64"
      ]
     },
     "execution_count": 248,
     "metadata": {},
     "output_type": "execute_result"
    }
   ],
   "source": [
    "ep2018['index_diff'].describe()"
   ]
  },
  {
   "cell_type": "code",
   "execution_count": 249,
   "metadata": {},
   "outputs": [
    {
     "data": {
      "text/plain": [
       "5.0"
      ]
     },
     "execution_count": 249,
     "metadata": {},
     "output_type": "execute_result"
    }
   ],
   "source": [
    "ep2018['index_diff'].quantile(.9)"
   ]
  },
  {
   "cell_type": "code",
   "execution_count": 250,
   "metadata": {},
   "outputs": [
    {
     "data": {
      "text/plain": [
       "90.80168776371308"
      ]
     },
     "execution_count": 250,
     "metadata": {},
     "output_type": "execute_result"
    }
   ],
   "source": [
    "stats.percentileofscore(ep2018['index_diff'], 7)"
   ]
  },
  {
   "cell_type": "code",
   "execution_count": 251,
   "metadata": {},
   "outputs": [
    {
     "data": {
      "text/html": [
       "<div>\n",
       "<style scoped>\n",
       "    .dataframe tbody tr th:only-of-type {\n",
       "        vertical-align: middle;\n",
       "    }\n",
       "\n",
       "    .dataframe tbody tr th {\n",
       "        vertical-align: top;\n",
       "    }\n",
       "\n",
       "    .dataframe thead th {\n",
       "        text-align: right;\n",
       "    }\n",
       "</style>\n",
       "<table border=\"1\" class=\"dataframe\">\n",
       "  <thead>\n",
       "    <tr style=\"text-align: right;\">\n",
       "      <th></th>\n",
       "      <th>gameId</th>\n",
       "      <th>playId</th>\n",
       "      <th>playDescription</th>\n",
       "      <th>quarter</th>\n",
       "      <th>down</th>\n",
       "      <th>yardsToGo</th>\n",
       "      <th>possessionTeam</th>\n",
       "      <th>specialTeamsPlayType</th>\n",
       "      <th>specialTeamsResult</th>\n",
       "      <th>kickerId</th>\n",
       "      <th>...</th>\n",
       "      <th>penaltyYards</th>\n",
       "      <th>preSnapHomeScore</th>\n",
       "      <th>preSnapVisitorScore</th>\n",
       "      <th>passResult</th>\n",
       "      <th>kickLength</th>\n",
       "      <th>kickReturnYardage</th>\n",
       "      <th>playResult</th>\n",
       "      <th>absoluteYardlineNumber</th>\n",
       "      <th>season</th>\n",
       "      <th>index_diff</th>\n",
       "    </tr>\n",
       "  </thead>\n",
       "  <tbody>\n",
       "    <tr>\n",
       "      <th>5987</th>\n",
       "      <td>2018122200</td>\n",
       "      <td>1426</td>\n",
       "      <td>D.Hopkins extra point is GOOD, Center-A.East, ...</td>\n",
       "      <td>2</td>\n",
       "      <td>0</td>\n",
       "      <td>0</td>\n",
       "      <td>WAS</td>\n",
       "      <td>Extra Point</td>\n",
       "      <td>Kick Attempt Good</td>\n",
       "      <td>40125.0</td>\n",
       "      <td>...</td>\n",
       "      <td>NaN</td>\n",
       "      <td>6</td>\n",
       "      <td>9</td>\n",
       "      <td>NaN</td>\n",
       "      <td>NaN</td>\n",
       "      <td>NaN</td>\n",
       "      <td>0</td>\n",
       "      <td>25</td>\n",
       "      <td>2018</td>\n",
       "      <td>29.0</td>\n",
       "    </tr>\n",
       "  </tbody>\n",
       "</table>\n",
       "<p>1 rows × 27 columns</p>\n",
       "</div>"
      ],
      "text/plain": [
       "          gameId  playId                                    playDescription  \\\n",
       "5987  2018122200    1426  D.Hopkins extra point is GOOD, Center-A.East, ...   \n",
       "\n",
       "      quarter  down  yardsToGo possessionTeam specialTeamsPlayType  \\\n",
       "5987        2     0          0            WAS          Extra Point   \n",
       "\n",
       "     specialTeamsResult  kickerId  ... penaltyYards  preSnapHomeScore  \\\n",
       "5987  Kick Attempt Good   40125.0  ...          NaN                 6   \n",
       "\n",
       "     preSnapVisitorScore  passResult kickLength kickReturnYardage playResult  \\\n",
       "5987                   9         NaN        NaN               NaN          0   \n",
       "\n",
       "      absoluteYardlineNumber  season  index_diff  \n",
       "5987                      25    2018        29.0  \n",
       "\n",
       "[1 rows x 27 columns]"
      ]
     },
     "execution_count": 251,
     "metadata": {},
     "output_type": "execute_result"
    }
   ],
   "source": [
    "ep2018[ep2018['index_diff']==ep2018['index_diff'].max()]"
   ]
  },
  {
   "cell_type": "code",
   "execution_count": 252,
   "metadata": {},
   "outputs": [],
   "source": [
    "play, event_df = get_play(2018122200, 1426, tracking2018, 'extra_point_attempt')\n",
    "ball = play[play['team']=='football']"
   ]
  },
  {
   "cell_type": "code",
   "execution_count": 255,
   "metadata": {},
   "outputs": [],
   "source": [
    "epa_idx = ball[ball['event']=='extra_point_attempt'].index[0]"
   ]
  },
  {
   "cell_type": "code",
   "execution_count": 256,
   "metadata": {},
   "outputs": [
    {
     "data": {
      "image/png": "[encoded data removed]",
      "text/plain": [
       "<Figure size 864x432 with 1 Axes>"
      ]
     },
     "metadata": {
      "needs_background": "light"
     },
     "output_type": "display_data"
    }
   ],
   "source": [
    "plt.figure(figsize=(12,6))\n",
    "plt.plot(ball['s'], label='Speed')\n",
    "plt.plot(ball['a'], label='Acceleration')\n",
    "plt.axvline(x=epa_idx, color='green', linestyle='--', label='Snap')\n",
    "plt.axvspan(epa_idx-5, epa_idx+5, color='green', alpha=0.1)\n",
    "plt.title('Ball Speed and Acceleration')\n",
    "plt.xlabel('Index')\n",
    "plt.ylabel('Magnitude')\n",
    "plt.legend()\n",
    "#plt.savefig('event_vs_ball_sa_ep.png')"
   ]
  },
  {
   "cell_type": "code",
   "execution_count": 257,
   "metadata": {},
   "outputs": [
    {
     "data": {
      "text/plain": [
       "<matplotlib.animation.FuncAnimation at 0x7fa73c8b4460>"
      ]
     },
     "execution_count": 257,
     "metadata": {},
     "output_type": "execute_result"
    },
    {
     "data": {
      "image/png": "[encoded data removed]",
      "text/plain": [
       "<Figure size 1440x648 with 1 Axes>"
      ]
     },
     "metadata": {
      "needs_background": "light"
     },
     "output_type": "display_data"
    }
   ],
   "source": [
    "animate_play(2018122200, 1426, tracking2018, games=games, save_to='weird_play_ep.mp4')"
   ]
  },
  {
   "cell_type": "markdown",
   "metadata": {},
   "source": [
    "## Writing a Pre-Processing Function for Index Difference"
   ]
  },
  {
   "cell_type": "markdown",
   "metadata": {},
   "source": [
    "Below are all of the functions used in the final pre-processing step, `drop_by_index_difference`. Some are copied from elsewhere in the notebook."
   ]
  },
  {
   "cell_type": "code",
   "execution_count": 293,
   "metadata": {},
   "outputs": [],
   "source": [
    "# Copying this function from the repo so that the code below works with the code we have.\n",
    "\n",
    "def get_play(game_id, play_id, tracking):\n",
    "    '''\n",
    "    This function creates the tracking dataframes.\n",
    "    Parameters:\n",
    "    -----------\n",
    "    game_id, play_id - game and play of interest\n",
    "    tracking - tracking dataframe the that game and play are in\n",
    "    ...\n",
    "    Returns:\n",
    "    -----------\n",
    "    play - dataframe of just the tracking data for the particular play of interest\n",
    "    '''\n",
    "    game = tracking[tracking['gameId'] == game_id]\n",
    "    play = game[game['playId'] == play_id]\n",
    "    \n",
    "    return play"
   ]
  },
  {
   "cell_type": "code",
   "execution_count": 313,
   "metadata": {},
   "outputs": [],
   "source": [
    "def get_kick_attempt_idx_diff(game_id, play_id, tracking, event):\n",
    "    '''\n",
    "    For a given gameId and playId, return the difference in index between the event as labelled and the maximum speed of the ball.\n",
    "\n",
    "    Parameters:\n",
    "    -----------\n",
    "    game_id - gameId of play\n",
    "    play_id - playId of play\n",
    "    tracking - Tracking data containing play\n",
    "    event - The event type to compute an index difference for\n",
    "\n",
    "    Returns:\n",
    "    --------\n",
    "    idx_diff - The difference in index between the labelled event and the max speed of the ball\n",
    "\n",
    "    '''\n",
    "    # get play and football data\n",
    "    play = get_play(game_id, play_id, tracking)\n",
    "    ball = play[play['team']=='football']\n",
    "\n",
    "    # Return null if desired event not present\n",
    "    if event not in ball['event'].values:\n",
    "        return np.nan\n",
    "\n",
    "    # Compute event index and max ball speed index\n",
    "    event_idx = ball[ball['event']==event].index[0]\n",
    "    max_speed_idx = ball['s'].idxmax()\n",
    "\n",
    "    # Compute difference in indices\n",
    "    idx_diff = np.abs(event_idx - max_speed_idx)\n",
    "\n",
    "    return idx_diff"
   ]
  },
  {
   "cell_type": "code",
   "execution_count": 314,
   "metadata": {},
   "outputs": [],
   "source": [
    "def drop_by_index_difference(play_df, tracking, event, threshold=7):\n",
    "    '''\n",
    "    Drop values from play DataFrame according to event-vs-max-speed index difference.\n",
    "\n",
    "    Parameters:\n",
    "    -----------\n",
    "    play_df - DataFrame containing data for a specific play type (e.g. field goals, extra points)\n",
    "    tracking - Tracking data relevant to the provided plays\n",
    "    event - The event type to compute index difference for\n",
    "\n",
    "    Returns:\n",
    "    --------\n",
    "    filtered_play_df - play_df with rows dropped according to index difference threshhold\n",
    "\n",
    "    '''\n",
    "\n",
    "    # Create a pandas Series of index differences\n",
    "    index_diff = play_df.index.map(\n",
    "        lambda x: get_kick_attempt_idx_diff(\n",
    "            play_df.loc[x]['gameId'],\n",
    "            play_df.loc[x]['playId'],\n",
    "            tracking,\n",
    "            event\n",
    "        )\n",
    "    )\n",
    "\n",
    "    index_diff = pd.Series(index_diff, index=play_df.index)\n",
    "\n",
    "    # Filter using the above series as a boolean mask\n",
    "    filtered_play_df = play_df[index_diff <= threshold]\n",
    "\n",
    "    return filtered_play_df"
   ]
  },
  {
   "cell_type": "code",
   "execution_count": 315,
   "metadata": {},
   "outputs": [],
   "source": [
    "filtered_df = drop_by_index_difference(ep2018, tracking2018, 'extra_point_attempt')"
   ]
  },
  {
   "cell_type": "code",
   "execution_count": 316,
   "metadata": {},
   "outputs": [
    {
     "data": {
      "text/html": [
       "<div>\n",
       "<style scoped>\n",
       "    .dataframe tbody tr th:only-of-type {\n",
       "        vertical-align: middle;\n",
       "    }\n",
       "\n",
       "    .dataframe tbody tr th {\n",
       "        vertical-align: top;\n",
       "    }\n",
       "\n",
       "    .dataframe thead th {\n",
       "        text-align: right;\n",
       "    }\n",
       "</style>\n",
       "<table border=\"1\" class=\"dataframe\">\n",
       "  <thead>\n",
       "    <tr style=\"text-align: right;\">\n",
       "      <th></th>\n",
       "      <th>gameId</th>\n",
       "      <th>playId</th>\n",
       "      <th>playDescription</th>\n",
       "      <th>quarter</th>\n",
       "      <th>down</th>\n",
       "      <th>yardsToGo</th>\n",
       "      <th>possessionTeam</th>\n",
       "      <th>specialTeamsPlayType</th>\n",
       "      <th>specialTeamsResult</th>\n",
       "      <th>kickerId</th>\n",
       "      <th>...</th>\n",
       "      <th>penaltyYards</th>\n",
       "      <th>preSnapHomeScore</th>\n",
       "      <th>preSnapVisitorScore</th>\n",
       "      <th>passResult</th>\n",
       "      <th>kickLength</th>\n",
       "      <th>kickReturnYardage</th>\n",
       "      <th>playResult</th>\n",
       "      <th>absoluteYardlineNumber</th>\n",
       "      <th>season</th>\n",
       "      <th>index_diff</th>\n",
       "    </tr>\n",
       "  </thead>\n",
       "  <tbody>\n",
       "    <tr>\n",
       "      <th>15</th>\n",
       "      <td>2018090600</td>\n",
       "      <td>2883</td>\n",
       "      <td>J.Elliott extra point is GOOD, Center-R.Lovato...</td>\n",
       "      <td>3</td>\n",
       "      <td>0</td>\n",
       "      <td>0</td>\n",
       "      <td>PHI</td>\n",
       "      <td>Extra Point</td>\n",
       "      <td>Kick Attempt Good</td>\n",
       "      <td>44966.0</td>\n",
       "      <td>...</td>\n",
       "      <td>NaN</td>\n",
       "      <td>9</td>\n",
       "      <td>6</td>\n",
       "      <td>NaN</td>\n",
       "      <td>NaN</td>\n",
       "      <td>NaN</td>\n",
       "      <td>0</td>\n",
       "      <td>25</td>\n",
       "      <td>2018</td>\n",
       "      <td>1.0</td>\n",
       "    </tr>\n",
       "    <tr>\n",
       "      <th>19</th>\n",
       "      <td>2018090600</td>\n",
       "      <td>3553</td>\n",
       "      <td>M.Bryant extra point is No Good, Hit Right Upr...</td>\n",
       "      <td>4</td>\n",
       "      <td>0</td>\n",
       "      <td>0</td>\n",
       "      <td>ATL</td>\n",
       "      <td>Extra Point</td>\n",
       "      <td>Kick Attempt No Good</td>\n",
       "      <td>27091.0</td>\n",
       "      <td>...</td>\n",
       "      <td>NaN</td>\n",
       "      <td>10</td>\n",
       "      <td>12</td>\n",
       "      <td>NaN</td>\n",
       "      <td>NaN</td>\n",
       "      <td>NaN</td>\n",
       "      <td>0</td>\n",
       "      <td>25</td>\n",
       "      <td>2018</td>\n",
       "      <td>3.0</td>\n",
       "    </tr>\n",
       "    <tr>\n",
       "      <th>25</th>\n",
       "      <td>2018090900</td>\n",
       "      <td>380</td>\n",
       "      <td>J.Tucker extra point is GOOD, Center-M.Cox, Ho...</td>\n",
       "      <td>1</td>\n",
       "      <td>0</td>\n",
       "      <td>0</td>\n",
       "      <td>BAL</td>\n",
       "      <td>Extra Point</td>\n",
       "      <td>Kick Attempt Good</td>\n",
       "      <td>39470.0</td>\n",
       "      <td>...</td>\n",
       "      <td>NaN</td>\n",
       "      <td>6</td>\n",
       "      <td>0</td>\n",
       "      <td>NaN</td>\n",
       "      <td>NaN</td>\n",
       "      <td>NaN</td>\n",
       "      <td>0</td>\n",
       "      <td>95</td>\n",
       "      <td>2018</td>\n",
       "      <td>1.0</td>\n",
       "    </tr>\n",
       "    <tr>\n",
       "      <th>30</th>\n",
       "      <td>2018090900</td>\n",
       "      <td>972</td>\n",
       "      <td>J.Tucker extra point is GOOD, Center-M.Cox, Ho...</td>\n",
       "      <td>1</td>\n",
       "      <td>0</td>\n",
       "      <td>0</td>\n",
       "      <td>BAL</td>\n",
       "      <td>Extra Point</td>\n",
       "      <td>Kick Attempt Good</td>\n",
       "      <td>39470.0</td>\n",
       "      <td>...</td>\n",
       "      <td>NaN</td>\n",
       "      <td>13</td>\n",
       "      <td>0</td>\n",
       "      <td>NaN</td>\n",
       "      <td>NaN</td>\n",
       "      <td>NaN</td>\n",
       "      <td>0</td>\n",
       "      <td>95</td>\n",
       "      <td>2018</td>\n",
       "      <td>0.0</td>\n",
       "    </tr>\n",
       "    <tr>\n",
       "      <th>46</th>\n",
       "      <td>2018090900</td>\n",
       "      <td>2899</td>\n",
       "      <td>J.Tucker extra point is GOOD, Center-M.Cox, Ho...</td>\n",
       "      <td>3</td>\n",
       "      <td>0</td>\n",
       "      <td>0</td>\n",
       "      <td>BAL</td>\n",
       "      <td>Extra Point</td>\n",
       "      <td>Kick Attempt Good</td>\n",
       "      <td>39470.0</td>\n",
       "      <td>...</td>\n",
       "      <td>NaN</td>\n",
       "      <td>39</td>\n",
       "      <td>0</td>\n",
       "      <td>NaN</td>\n",
       "      <td>NaN</td>\n",
       "      <td>NaN</td>\n",
       "      <td>0</td>\n",
       "      <td>25</td>\n",
       "      <td>2018</td>\n",
       "      <td>7.0</td>\n",
       "    </tr>\n",
       "    <tr>\n",
       "      <th>...</th>\n",
       "      <td>...</td>\n",
       "      <td>...</td>\n",
       "      <td>...</td>\n",
       "      <td>...</td>\n",
       "      <td>...</td>\n",
       "      <td>...</td>\n",
       "      <td>...</td>\n",
       "      <td>...</td>\n",
       "      <td>...</td>\n",
       "      <td>...</td>\n",
       "      <td>...</td>\n",
       "      <td>...</td>\n",
       "      <td>...</td>\n",
       "      <td>...</td>\n",
       "      <td>...</td>\n",
       "      <td>...</td>\n",
       "      <td>...</td>\n",
       "      <td>...</td>\n",
       "      <td>...</td>\n",
       "      <td>...</td>\n",
       "      <td>...</td>\n",
       "    </tr>\n",
       "    <tr>\n",
       "      <th>6778</th>\n",
       "      <td>2018123014</td>\n",
       "      <td>3306</td>\n",
       "      <td>G.Zuerlein extra point is GOOD, Center-J.McQua...</td>\n",
       "      <td>3</td>\n",
       "      <td>0</td>\n",
       "      <td>0</td>\n",
       "      <td>LA</td>\n",
       "      <td>Extra Point</td>\n",
       "      <td>Kick Attempt Good</td>\n",
       "      <td>38701.0</td>\n",
       "      <td>...</td>\n",
       "      <td>NaN</td>\n",
       "      <td>44</td>\n",
       "      <td>17</td>\n",
       "      <td>NaN</td>\n",
       "      <td>NaN</td>\n",
       "      <td>NaN</td>\n",
       "      <td>0</td>\n",
       "      <td>95</td>\n",
       "      <td>2018</td>\n",
       "      <td>1.0</td>\n",
       "    </tr>\n",
       "    <tr>\n",
       "      <th>6790</th>\n",
       "      <td>2018123015</td>\n",
       "      <td>874</td>\n",
       "      <td>S.Janikowski extra point is GOOD, Center-T.Ott...</td>\n",
       "      <td>1</td>\n",
       "      <td>0</td>\n",
       "      <td>0</td>\n",
       "      <td>SEA</td>\n",
       "      <td>Extra Point</td>\n",
       "      <td>Kick Attempt Good</td>\n",
       "      <td>25326.0</td>\n",
       "      <td>...</td>\n",
       "      <td>NaN</td>\n",
       "      <td>6</td>\n",
       "      <td>3</td>\n",
       "      <td>NaN</td>\n",
       "      <td>NaN</td>\n",
       "      <td>NaN</td>\n",
       "      <td>0</td>\n",
       "      <td>25</td>\n",
       "      <td>2018</td>\n",
       "      <td>3.0</td>\n",
       "    </tr>\n",
       "    <tr>\n",
       "      <th>6792</th>\n",
       "      <td>2018123015</td>\n",
       "      <td>1208</td>\n",
       "      <td>S.Janikowski extra point is GOOD, Center-T.Ott...</td>\n",
       "      <td>2</td>\n",
       "      <td>0</td>\n",
       "      <td>0</td>\n",
       "      <td>SEA</td>\n",
       "      <td>Extra Point</td>\n",
       "      <td>Kick Attempt Good</td>\n",
       "      <td>25326.0</td>\n",
       "      <td>...</td>\n",
       "      <td>NaN</td>\n",
       "      <td>13</td>\n",
       "      <td>3</td>\n",
       "      <td>NaN</td>\n",
       "      <td>NaN</td>\n",
       "      <td>NaN</td>\n",
       "      <td>0</td>\n",
       "      <td>95</td>\n",
       "      <td>2018</td>\n",
       "      <td>3.0</td>\n",
       "    </tr>\n",
       "    <tr>\n",
       "      <th>6796</th>\n",
       "      <td>2018123015</td>\n",
       "      <td>1611</td>\n",
       "      <td>Z.Gonzalez extra point is GOOD, Center-A.Brewe...</td>\n",
       "      <td>2</td>\n",
       "      <td>0</td>\n",
       "      <td>0</td>\n",
       "      <td>ARI</td>\n",
       "      <td>Extra Point</td>\n",
       "      <td>Kick Attempt Good</td>\n",
       "      <td>45037.0</td>\n",
       "      <td>...</td>\n",
       "      <td>NaN</td>\n",
       "      <td>14</td>\n",
       "      <td>9</td>\n",
       "      <td>NaN</td>\n",
       "      <td>NaN</td>\n",
       "      <td>NaN</td>\n",
       "      <td>0</td>\n",
       "      <td>25</td>\n",
       "      <td>2018</td>\n",
       "      <td>3.0</td>\n",
       "    </tr>\n",
       "    <tr>\n",
       "      <th>6807</th>\n",
       "      <td>2018123015</td>\n",
       "      <td>2862</td>\n",
       "      <td>S.Janikowski extra point is GOOD, Center-T.Ott...</td>\n",
       "      <td>3</td>\n",
       "      <td>0</td>\n",
       "      <td>0</td>\n",
       "      <td>SEA</td>\n",
       "      <td>Extra Point</td>\n",
       "      <td>Kick Attempt Good</td>\n",
       "      <td>25326.0</td>\n",
       "      <td>...</td>\n",
       "      <td>NaN</td>\n",
       "      <td>20</td>\n",
       "      <td>13</td>\n",
       "      <td>NaN</td>\n",
       "      <td>NaN</td>\n",
       "      <td>NaN</td>\n",
       "      <td>0</td>\n",
       "      <td>25</td>\n",
       "      <td>2018</td>\n",
       "      <td>2.0</td>\n",
       "    </tr>\n",
       "  </tbody>\n",
       "</table>\n",
       "<p>1080 rows × 27 columns</p>\n",
       "</div>"
      ],
      "text/plain": [
       "          gameId  playId                                    playDescription  \\\n",
       "15    2018090600    2883  J.Elliott extra point is GOOD, Center-R.Lovato...   \n",
       "19    2018090600    3553  M.Bryant extra point is No Good, Hit Right Upr...   \n",
       "25    2018090900     380  J.Tucker extra point is GOOD, Center-M.Cox, Ho...   \n",
       "30    2018090900     972  J.Tucker extra point is GOOD, Center-M.Cox, Ho...   \n",
       "46    2018090900    2899  J.Tucker extra point is GOOD, Center-M.Cox, Ho...   \n",
       "...          ...     ...                                                ...   \n",
       "6778  2018123014    3306  G.Zuerlein extra point is GOOD, Center-J.McQua...   \n",
       "6790  2018123015     874  S.Janikowski extra point is GOOD, Center-T.Ott...   \n",
       "6792  2018123015    1208  S.Janikowski extra point is GOOD, Center-T.Ott...   \n",
       "6796  2018123015    1611  Z.Gonzalez extra point is GOOD, Center-A.Brewe...   \n",
       "6807  2018123015    2862  S.Janikowski extra point is GOOD, Center-T.Ott...   \n",
       "\n",
       "      quarter  down  yardsToGo possessionTeam specialTeamsPlayType  \\\n",
       "15          3     0          0            PHI          Extra Point   \n",
       "19          4     0          0            ATL          Extra Point   \n",
       "25          1     0          0            BAL          Extra Point   \n",
       "30          1     0          0            BAL          Extra Point   \n",
       "46          3     0          0            BAL          Extra Point   \n",
       "...       ...   ...        ...            ...                  ...   \n",
       "6778        3     0          0             LA          Extra Point   \n",
       "6790        1     0          0            SEA          Extra Point   \n",
       "6792        2     0          0            SEA          Extra Point   \n",
       "6796        2     0          0            ARI          Extra Point   \n",
       "6807        3     0          0            SEA          Extra Point   \n",
       "\n",
       "        specialTeamsResult  kickerId  ... penaltyYards  preSnapHomeScore  \\\n",
       "15       Kick Attempt Good   44966.0  ...          NaN                 9   \n",
       "19    Kick Attempt No Good   27091.0  ...          NaN                10   \n",
       "25       Kick Attempt Good   39470.0  ...          NaN                 6   \n",
       "30       Kick Attempt Good   39470.0  ...          NaN                13   \n",
       "46       Kick Attempt Good   39470.0  ...          NaN                39   \n",
       "...                    ...       ...  ...          ...               ...   \n",
       "6778     Kick Attempt Good   38701.0  ...          NaN                44   \n",
       "6790     Kick Attempt Good   25326.0  ...          NaN                 6   \n",
       "6792     Kick Attempt Good   25326.0  ...          NaN                13   \n",
       "6796     Kick Attempt Good   45037.0  ...          NaN                14   \n",
       "6807     Kick Attempt Good   25326.0  ...          NaN                20   \n",
       "\n",
       "     preSnapVisitorScore  passResult kickLength kickReturnYardage playResult  \\\n",
       "15                     6         NaN        NaN               NaN          0   \n",
       "19                    12         NaN        NaN               NaN          0   \n",
       "25                     0         NaN        NaN               NaN          0   \n",
       "30                     0         NaN        NaN               NaN          0   \n",
       "46                     0         NaN        NaN               NaN          0   \n",
       "...                  ...         ...        ...               ...        ...   \n",
       "6778                  17         NaN        NaN               NaN          0   \n",
       "6790                   3         NaN        NaN               NaN          0   \n",
       "6792                   3         NaN        NaN               NaN          0   \n",
       "6796                   9         NaN        NaN               NaN          0   \n",
       "6807                  13         NaN        NaN               NaN          0   \n",
       "\n",
       "      absoluteYardlineNumber  season  index_diff  \n",
       "15                        25    2018         1.0  \n",
       "19                        25    2018         3.0  \n",
       "25                        95    2018         1.0  \n",
       "30                        95    2018         0.0  \n",
       "46                        25    2018         7.0  \n",
       "...                      ...     ...         ...  \n",
       "6778                      95    2018         1.0  \n",
       "6790                      25    2018         3.0  \n",
       "6792                      95    2018         3.0  \n",
       "6796                      25    2018         3.0  \n",
       "6807                      25    2018         2.0  \n",
       "\n",
       "[1080 rows x 27 columns]"
      ]
     },
     "execution_count": 316,
     "metadata": {},
     "output_type": "execute_result"
    }
   ],
   "source": [
    "filtered_df"
   ]
  },
  {
   "cell_type": "code",
   "execution_count": null,
   "metadata": {},
   "outputs": [],
   "source": []
  }
 ],
 "metadata": {
  "interpreter": {
   "hash": "7e0020a09a6802769fd8a6acd84896031a2b24af8be6baa6fc0a04a5b7809d9e"
  },
  "kernelspec": {
   "display_name": "Python 3.8.12 64-bit ('nfl-env': conda)",
   "language": "python",
   "name": "python3"
  },
  "language_info": {
   "codemirror_mode": {
    "name": "ipython",
    "version": 3
   },
   "file_extension": ".py",
   "mimetype": "text/x-python",
   "name": "python",
   "nbconvert_exporter": "python",
   "pygments_lexer": "ipython3",
   "version": "3.8.12"
  },
  "orig_nbformat": 4
 },
 "nbformat": 4,
 "nbformat_minor": 2
}
