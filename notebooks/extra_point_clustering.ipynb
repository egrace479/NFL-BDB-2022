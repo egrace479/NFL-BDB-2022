{
 "cells": [
  {
   "cell_type": "code",
   "execution_count": 10,
   "metadata": {},
   "outputs": [],
   "source": [
    "import pandas as pd"
   ]
  },
  {
   "cell_type": "markdown",
   "metadata": {},
   "source": [
    "# NFL Big Data Bowl Clustering Extra Point"
   ]
  },
  {
   "cell_type": "markdown",
   "metadata": {},
   "source": [
    "## Import Data"
   ]
  },
  {
   "cell_type": "code",
   "execution_count": 11,
   "metadata": {},
   "outputs": [],
   "source": [
    "plays = pd.read_csv('~/Documents/NFL/Data/nfl-big-data-bowl-2022/plays.csv')\n",
    "games = pd.read_csv('~/Documents/NFL/Data/nfl-big-data-bowl-2022/games.csv')\n",
    "players = pd.read_csv('~/Documents/NFL/Data/nfl-big-data-bowl-2022/players.csv')\n",
    "tracking2018 = pd.read_csv('~/Documents/NFL/Data/nfl-big-data-bowl-2022/ep_tracking_2018.csv')\n",
    "tracking2019 = pd.read_csv('~/Documents/NFL/Data/nfl-big-data-bowl-2022/ep_tracking_2019.csv')\n",
    "tracking2020 = pd.read_csv('~/Documents/NFL/Data/nfl-big-data-bowl-2022/ep_tracking_2020.csv')"
   ]
  },
  {
   "cell_type": "markdown",
   "metadata": {},
   "source": [
    "## Preprocessing Players Data"
   ]
  },
  {
   "cell_type": "code",
   "execution_count": 12,
   "metadata": {},
   "outputs": [],
   "source": [
    "from pipeline.preprocessing import preprocess_players"
   ]
  },
  {
   "cell_type": "code",
   "execution_count": 13,
   "metadata": {},
   "outputs": [],
   "source": [
    "players_df = preprocess_players(players)"
   ]
  },
  {
   "cell_type": "markdown",
   "metadata": {},
   "source": [
    "## Preprocessing Tracking Data"
   ]
  },
  {
   "cell_type": "code",
   "execution_count": 14,
   "metadata": {},
   "outputs": [],
   "source": [
    "from pipeline.preprocessing import preprocess_tracking, preprocess_football_track\n"
   ]
  },
  {
   "cell_type": "code",
   "execution_count": 15,
   "metadata": {},
   "outputs": [],
   "source": [
    "ep_tracking_2018, ep_tracking_2019, ep_tracking_2020 = preprocess_tracking(tracking2018, tracking2019, tracking2020, plays, 'Extra Point')\n"
   ]
  },
  {
   "cell_type": "code",
   "execution_count": 16,
   "metadata": {},
   "outputs": [],
   "source": [
    "ep_tracking_ball = preprocess_football_track(ep_tracking_2018, ep_tracking_2019, ep_tracking_2020)\n"
   ]
  },
  {
   "cell_type": "markdown",
   "metadata": {},
   "source": [
    "## Preprocessing Play Data"
   ]
  },
  {
   "cell_type": "code",
   "execution_count": 17,
   "metadata": {},
   "outputs": [],
   "source": [
    "from pipeline.preprocessing import preprocess_play\n",
    "from pipeline.preprocessing import drop_by_index_difference"
   ]
  },
  {
   "cell_type": "code",
   "execution_count": 18,
   "metadata": {},
   "outputs": [],
   "source": [
    "play_df = preprocess_play(plays)"
   ]
  },
  {
   "cell_type": "code",
   "execution_count": 19,
   "metadata": {},
   "outputs": [
    {
     "data": {
      "text/plain": [
       "specialTeamsResult\n",
       "Kick Attempt Good           5470\n",
       "Return                      5207\n",
       "Touchback                   5156\n",
       "Fair Catch                  1645\n",
       "Downed                       834\n",
       "Out of Bounds                651\n",
       "Kick Attempt No Good         585\n",
       "Muffed                       214\n",
       "Non-Special Teams Result     101\n",
       "Blocked Kick Attempt          61\n",
       "Blocked Punt                  39\n",
       "Kickoff Team Recovery         16\n",
       "dtype: int64"
      ]
     },
     "execution_count": 19,
     "metadata": {},
     "output_type": "execute_result"
    }
   ],
   "source": [
    "play_df.value_counts('specialTeamsResult')"
   ]
  },
  {
   "cell_type": "code",
   "execution_count": 20,
   "metadata": {},
   "outputs": [],
   "source": [
    "play_df_1 = drop_by_index_difference(play_df, ep_tracking_ball, 'extra_point_attempt')"
   ]
  },
  {
   "cell_type": "code",
   "execution_count": 21,
   "metadata": {
    "scrolled": true
   },
   "outputs": [
    {
     "data": {
      "text/plain": [
       "specialTeamsResult\n",
       "Kick Attempt Good       3030\n",
       "Kick Attempt No Good     188\n",
       "Blocked Kick Attempt      15\n",
       "dtype: int64"
      ]
     },
     "execution_count": 21,
     "metadata": {},
     "output_type": "execute_result"
    }
   ],
   "source": [
    "play_df_1.value_counts('specialTeamsResult')"
   ]
  },
  {
   "cell_type": "code",
   "execution_count": 22,
   "metadata": {},
   "outputs": [],
   "source": [
    "play_ep_blocked = play_df_1.loc[play_df_1['specialTeamsResult']=='Blocked Kick Attempt']"
   ]
  },
  {
   "cell_type": "markdown",
   "metadata": {},
   "source": [
    "## Make Extra Point Data Frame"
   ]
  },
  {
   "cell_type": "code",
   "execution_count": 23,
   "metadata": {},
   "outputs": [],
   "source": [
    "from pipeline.preprocessing import make_extraPoint"
   ]
  },
  {
   "cell_type": "code",
   "execution_count": 24,
   "metadata": {},
   "outputs": [],
   "source": [
    "extra_point_df = make_extraPoint(play_df_1, players_df)"
   ]
  },
  {
   "cell_type": "markdown",
   "metadata": {},
   "source": [
    "## Freature Engineering"
   ]
  },
  {
   "cell_type": "code",
   "execution_count": 25,
   "metadata": {},
   "outputs": [],
   "source": [
    "from pipeline.feature_engineering import endzone_y_pos, expected_endzone_y_pos, kicker_core_dist, off_center, exp_err_y"
   ]
  },
  {
   "cell_type": "markdown",
   "metadata": {},
   "source": [
    "### Endzone y-Position"
   ]
  },
  {
   "cell_type": "code",
   "execution_count": 26,
   "metadata": {},
   "outputs": [],
   "source": [
    "extra_point_df = endzone_y_pos(extra_point_df, ep_tracking_ball)"
   ]
  },
  {
   "cell_type": "code",
   "execution_count": 27,
   "metadata": {},
   "outputs": [
    {
     "data": {
      "text/plain": [
       "22"
      ]
     },
     "execution_count": 27,
     "metadata": {},
     "output_type": "execute_result"
    }
   ],
   "source": [
    "extra_point_df['endzone_y'].isna().sum()"
   ]
  },
  {
   "cell_type": "markdown",
   "metadata": {},
   "source": [
    "### Expected Trajectory Position"
   ]
  },
  {
   "cell_type": "code",
   "execution_count": 28,
   "metadata": {},
   "outputs": [],
   "source": [
    "extra_point_df = expected_endzone_y_pos(extra_point_df, ep_tracking_ball, 'extra_point_attempt')\n"
   ]
  },
  {
   "cell_type": "code",
   "execution_count": 29,
   "metadata": {},
   "outputs": [
    {
     "data": {
      "text/plain": [
       "0"
      ]
     },
     "execution_count": 29,
     "metadata": {},
     "output_type": "execute_result"
    }
   ],
   "source": [
    "extra_point_df['expected_endzone_y'].isna().sum()"
   ]
  },
  {
   "cell_type": "markdown",
   "metadata": {},
   "source": [
    "### Kicker Core Distance 3"
   ]
  },
  {
   "cell_type": "code",
   "execution_count": 30,
   "metadata": {},
   "outputs": [
    {
     "name": "stderr",
     "output_type": "stream",
     "text": [
      "/home/kenneth/Documents/NFL/NFL_BDB_2022/pipeline/feature_engineering.py:239: SettingWithCopyWarning: \n",
      "A value is trying to be set on a copy of a slice from a DataFrame.\n",
      "Try using .loc[row_indexer,col_indexer] = value instead\n",
      "\n",
      "See the caveats in the documentation: https://pandas.pydata.org/pandas-docs/stable/user_guide/indexing.html#returning-a-view-versus-a-copy\n",
      "  opposing_team_players['kicker_dist'] = l2_norm(kicker_x, kicker_y, opposing_team_players['x'], opposing_team_players['y'])\n"
     ]
    }
   ],
   "source": [
    "extra_point_df = kicker_core_dist(extra_point_df, ep_tracking_2018, ep_tracking_2019, ep_tracking_2020, ep_tracking_ball, 'extra_point_attempt', k=3)\n"
   ]
  },
  {
   "cell_type": "code",
   "execution_count": 31,
   "metadata": {},
   "outputs": [
    {
     "data": {
      "text/plain": [
       "8"
      ]
     },
     "execution_count": 31,
     "metadata": {},
     "output_type": "execute_result"
    }
   ],
   "source": [
    "extra_point_df['kicker_core_dist_3'].isna().sum()"
   ]
  },
  {
   "cell_type": "markdown",
   "metadata": {},
   "source": [
    "### Kicker Core Distance 1"
   ]
  },
  {
   "cell_type": "code",
   "execution_count": 32,
   "metadata": {},
   "outputs": [],
   "source": [
    "extra_point_df = kicker_core_dist(extra_point_df, ep_tracking_2018, ep_tracking_2019, ep_tracking_2020, ep_tracking_ball, 'extra_point_attempt', k=1)\n"
   ]
  },
  {
   "cell_type": "code",
   "execution_count": 33,
   "metadata": {},
   "outputs": [
    {
     "data": {
      "text/plain": [
       "8"
      ]
     },
     "execution_count": 33,
     "metadata": {},
     "output_type": "execute_result"
    }
   ],
   "source": [
    "extra_point_df['kicker_core_dist_1'].isna().sum()"
   ]
  },
  {
   "cell_type": "markdown",
   "metadata": {},
   "source": [
    "### Endzone y error"
   ]
  },
  {
   "cell_type": "code",
   "execution_count": 34,
   "metadata": {},
   "outputs": [],
   "source": [
    "extra_point_df = exp_err_y(extra_point_df)"
   ]
  },
  {
   "cell_type": "markdown",
   "metadata": {},
   "source": [
    "### Endzone y off center"
   ]
  },
  {
   "cell_type": "code",
   "execution_count": 35,
   "metadata": {},
   "outputs": [],
   "source": [
    "extra_point_df = off_center(extra_point_df)"
   ]
  },
  {
   "cell_type": "markdown",
   "metadata": {},
   "source": [
    "## Final Preprocessing Steps"
   ]
  },
  {
   "cell_type": "code",
   "execution_count": 36,
   "metadata": {},
   "outputs": [],
   "source": [
    "from pipeline.preprocessing import preprocess_ep"
   ]
  },
  {
   "cell_type": "code",
   "execution_count": 37,
   "metadata": {},
   "outputs": [],
   "source": [
    "from sklearn.preprocessing import StandardScaler, LabelEncoder"
   ]
  },
  {
   "cell_type": "code",
   "execution_count": 38,
   "metadata": {},
   "outputs": [],
   "source": [
    "ep_scale, ep_df = preprocess_ep(extra_point_df)"
   ]
  },
  {
   "cell_type": "markdown",
   "metadata": {},
   "source": [
    "## Clustering"
   ]
  },
  {
   "cell_type": "markdown",
   "metadata": {},
   "source": [
    "### Clustering 1 - with everything"
   ]
  },
  {
   "cell_type": "code",
   "execution_count": 39,
   "metadata": {},
   "outputs": [],
   "source": [
    "import hdbscan\n",
    "\n",
    "import matplotlib.pyplot as plt\n",
    "import seaborn as sns"
   ]
  },
  {
   "cell_type": "code",
   "execution_count": 40,
   "metadata": {},
   "outputs": [],
   "source": [
    "model1 = hdbscan.HDBSCAN()"
   ]
  },
  {
   "cell_type": "code",
   "execution_count": 41,
   "metadata": {},
   "outputs": [],
   "source": [
    "model1_results = model1.fit(ep_scale)"
   ]
  },
  {
   "cell_type": "code",
   "execution_count": 42,
   "metadata": {},
   "outputs": [
    {
     "data": {
      "text/plain": [
       "3"
      ]
     },
     "execution_count": 42,
     "metadata": {},
     "output_type": "execute_result"
    }
   ],
   "source": [
    "model1_results.labels_.max()"
   ]
  },
  {
   "cell_type": "code",
   "execution_count": 43,
   "metadata": {},
   "outputs": [],
   "source": [
    "ep_df['cluster_id'] = model1_results.labels_"
   ]
  },
  {
   "cell_type": "code",
   "execution_count": 44,
   "metadata": {},
   "outputs": [
    {
     "data": {
      "text/plain": [
       " 3    3103\n",
       " 1      26\n",
       " 0      25\n",
       " 2      25\n",
       "-1      24\n",
       "Name: cluster_id, dtype: int64"
      ]
     },
     "execution_count": 44,
     "metadata": {},
     "output_type": "execute_result"
    }
   ],
   "source": [
    "ep_df['cluster_id'].value_counts()"
   ]
  },
  {
   "cell_type": "code",
   "execution_count": 45,
   "metadata": {},
   "outputs": [],
   "source": [
    "cluster1_0 = ep_df[ep_df['cluster_id']==0]\n",
    "cluster1_1 = ep_df[ep_df['cluster_id']==1]\n",
    "cluster1_2 = ep_df[ep_df['cluster_id']==2]\n",
    "cluster1_3 = ep_df[ep_df['cluster_id']==3]\n",
    "\n",
    "outliers1 = ep_df[ep_df['cluster_id']==-1]"
   ]
  },
  {
   "cell_type": "code",
   "execution_count": 46,
   "metadata": {},
   "outputs": [
    {
     "name": "stdout",
     "output_type": "stream",
     "text": [
      "Kick Attempt Good    26\n",
      "Name: specialTeamsResult, dtype: int64\n",
      "\n",
      "Kick Attempt Good    25\n",
      "Name: specialTeamsResult, dtype: int64\n",
      "\n",
      "Kick Attempt Good       23\n",
      "Kick Attempt No Good     2\n",
      "Name: specialTeamsResult, dtype: int64\n",
      "\n",
      "Kick Attempt Good       2920\n",
      "Kick Attempt No Good     179\n",
      "Blocked Kick Attempt       4\n",
      "Name: specialTeamsResult, dtype: int64\n",
      "\n",
      "Kick Attempt Good       15\n",
      "Kick Attempt No Good     7\n",
      "Blocked Kick Attempt     2\n",
      "Name: specialTeamsResult, dtype: int64\n"
     ]
    }
   ],
   "source": [
    "print(cluster1_1['specialTeamsResult'].value_counts())\n",
    "print()\n",
    "print(cluster1_0['specialTeamsResult'].value_counts())\n",
    "print()\n",
    "print(cluster1_2['specialTeamsResult'].value_counts())\n",
    "print()\n",
    "print(cluster1_3['specialTeamsResult'].value_counts())\n",
    "print()\n",
    "print(outliers1['specialTeamsResult'].value_counts())"
   ]
  },
  {
   "cell_type": "markdown",
   "metadata": {},
   "source": [
    "This is bad because cluster3 has about hthe same proportion of Kick Attempt Good and Kick Attempt No Good as the origional data set. Let's investigate to determine what we are clustering on."
   ]
  },
  {
   "cell_type": "code",
   "execution_count": 47,
   "metadata": {},
   "outputs": [
    {
     "data": {
      "text/html": [
       "<div>\n",
       "<style scoped>\n",
       "    .dataframe tbody tr th:only-of-type {\n",
       "        vertical-align: middle;\n",
       "    }\n",
       "\n",
       "    .dataframe tbody tr th {\n",
       "        vertical-align: top;\n",
       "    }\n",
       "\n",
       "    .dataframe thead th {\n",
       "        text-align: right;\n",
       "    }\n",
       "</style>\n",
       "<table border=\"1\" class=\"dataframe\">\n",
       "  <thead>\n",
       "    <tr style=\"text-align: right;\">\n",
       "      <th></th>\n",
       "      <th>penaltyYards</th>\n",
       "    </tr>\n",
       "  </thead>\n",
       "  <tbody>\n",
       "    <tr>\n",
       "      <th>count</th>\n",
       "      <td>26.000000</td>\n",
       "    </tr>\n",
       "    <tr>\n",
       "      <th>mean</th>\n",
       "      <td>4.807692</td>\n",
       "    </tr>\n",
       "    <tr>\n",
       "      <th>std</th>\n",
       "      <td>0.980581</td>\n",
       "    </tr>\n",
       "    <tr>\n",
       "      <th>min</th>\n",
       "      <td>0.000000</td>\n",
       "    </tr>\n",
       "    <tr>\n",
       "      <th>25%</th>\n",
       "      <td>5.000000</td>\n",
       "    </tr>\n",
       "    <tr>\n",
       "      <th>50%</th>\n",
       "      <td>5.000000</td>\n",
       "    </tr>\n",
       "    <tr>\n",
       "      <th>75%</th>\n",
       "      <td>5.000000</td>\n",
       "    </tr>\n",
       "    <tr>\n",
       "      <th>max</th>\n",
       "      <td>5.000000</td>\n",
       "    </tr>\n",
       "  </tbody>\n",
       "</table>\n",
       "</div>"
      ],
      "text/plain": [
       "       penaltyYards\n",
       "count     26.000000\n",
       "mean       4.807692\n",
       "std        0.980581\n",
       "min        0.000000\n",
       "25%        5.000000\n",
       "50%        5.000000\n",
       "75%        5.000000\n",
       "max        5.000000"
      ]
     },
     "execution_count": 47,
     "metadata": {},
     "output_type": "execute_result"
    }
   ],
   "source": [
    "cluster1_1[['penaltyYards']].describe()\n",
    "# see they are basically all 5"
   ]
  },
  {
   "cell_type": "code",
   "execution_count": 48,
   "metadata": {},
   "outputs": [
    {
     "data": {
      "text/html": [
       "<div>\n",
       "<style scoped>\n",
       "    .dataframe tbody tr th:only-of-type {\n",
       "        vertical-align: middle;\n",
       "    }\n",
       "\n",
       "    .dataframe tbody tr th {\n",
       "        vertical-align: top;\n",
       "    }\n",
       "\n",
       "    .dataframe thead th {\n",
       "        text-align: right;\n",
       "    }\n",
       "</style>\n",
       "<table border=\"1\" class=\"dataframe\">\n",
       "  <thead>\n",
       "    <tr style=\"text-align: right;\">\n",
       "      <th></th>\n",
       "      <th>penaltyYards</th>\n",
       "    </tr>\n",
       "  </thead>\n",
       "  <tbody>\n",
       "    <tr>\n",
       "      <th>count</th>\n",
       "      <td>25.0</td>\n",
       "    </tr>\n",
       "    <tr>\n",
       "      <th>mean</th>\n",
       "      <td>0.0</td>\n",
       "    </tr>\n",
       "    <tr>\n",
       "      <th>std</th>\n",
       "      <td>0.0</td>\n",
       "    </tr>\n",
       "    <tr>\n",
       "      <th>min</th>\n",
       "      <td>0.0</td>\n",
       "    </tr>\n",
       "    <tr>\n",
       "      <th>25%</th>\n",
       "      <td>0.0</td>\n",
       "    </tr>\n",
       "    <tr>\n",
       "      <th>50%</th>\n",
       "      <td>0.0</td>\n",
       "    </tr>\n",
       "    <tr>\n",
       "      <th>75%</th>\n",
       "      <td>0.0</td>\n",
       "    </tr>\n",
       "    <tr>\n",
       "      <th>max</th>\n",
       "      <td>0.0</td>\n",
       "    </tr>\n",
       "  </tbody>\n",
       "</table>\n",
       "</div>"
      ],
      "text/plain": [
       "       penaltyYards\n",
       "count          25.0\n",
       "mean            0.0\n",
       "std             0.0\n",
       "min             0.0\n",
       "25%             0.0\n",
       "50%             0.0\n",
       "75%             0.0\n",
       "max             0.0"
      ]
     },
     "execution_count": 48,
     "metadata": {},
     "output_type": "execute_result"
    }
   ],
   "source": [
    "cluster1_2[['penaltyYards']].describe()\n",
    "# see they are all 0"
   ]
  },
  {
   "cell_type": "code",
   "execution_count": 49,
   "metadata": {},
   "outputs": [
    {
     "data": {
      "text/html": [
       "<div>\n",
       "<style scoped>\n",
       "    .dataframe tbody tr th:only-of-type {\n",
       "        vertical-align: middle;\n",
       "    }\n",
       "\n",
       "    .dataframe tbody tr th {\n",
       "        vertical-align: top;\n",
       "    }\n",
       "\n",
       "    .dataframe thead th {\n",
       "        text-align: right;\n",
       "    }\n",
       "</style>\n",
       "<table border=\"1\" class=\"dataframe\">\n",
       "  <thead>\n",
       "    <tr style=\"text-align: right;\">\n",
       "      <th></th>\n",
       "      <th>penaltyYards</th>\n",
       "    </tr>\n",
       "  </thead>\n",
       "  <tbody>\n",
       "    <tr>\n",
       "      <th>count</th>\n",
       "      <td>3103.0</td>\n",
       "    </tr>\n",
       "    <tr>\n",
       "      <th>mean</th>\n",
       "      <td>0.0</td>\n",
       "    </tr>\n",
       "    <tr>\n",
       "      <th>std</th>\n",
       "      <td>0.0</td>\n",
       "    </tr>\n",
       "    <tr>\n",
       "      <th>min</th>\n",
       "      <td>0.0</td>\n",
       "    </tr>\n",
       "    <tr>\n",
       "      <th>25%</th>\n",
       "      <td>0.0</td>\n",
       "    </tr>\n",
       "    <tr>\n",
       "      <th>50%</th>\n",
       "      <td>0.0</td>\n",
       "    </tr>\n",
       "    <tr>\n",
       "      <th>75%</th>\n",
       "      <td>0.0</td>\n",
       "    </tr>\n",
       "    <tr>\n",
       "      <th>max</th>\n",
       "      <td>0.0</td>\n",
       "    </tr>\n",
       "  </tbody>\n",
       "</table>\n",
       "</div>"
      ],
      "text/plain": [
       "       penaltyYards\n",
       "count        3103.0\n",
       "mean            0.0\n",
       "std             0.0\n",
       "min             0.0\n",
       "25%             0.0\n",
       "50%             0.0\n",
       "75%             0.0\n",
       "max             0.0"
      ]
     },
     "execution_count": 49,
     "metadata": {},
     "output_type": "execute_result"
    }
   ],
   "source": [
    "cluster1_3[['penaltyYards']].describe()\n",
    "# see they are all 0"
   ]
  },
  {
   "cell_type": "code",
   "execution_count": 50,
   "metadata": {},
   "outputs": [
    {
     "data": {
      "text/html": [
       "<div>\n",
       "<style scoped>\n",
       "    .dataframe tbody tr th:only-of-type {\n",
       "        vertical-align: middle;\n",
       "    }\n",
       "\n",
       "    .dataframe tbody tr th {\n",
       "        vertical-align: top;\n",
       "    }\n",
       "\n",
       "    .dataframe thead th {\n",
       "        text-align: right;\n",
       "    }\n",
       "</style>\n",
       "<table border=\"1\" class=\"dataframe\">\n",
       "  <thead>\n",
       "    <tr style=\"text-align: right;\">\n",
       "      <th></th>\n",
       "      <th>penaltyYards</th>\n",
       "    </tr>\n",
       "  </thead>\n",
       "  <tbody>\n",
       "    <tr>\n",
       "      <th>count</th>\n",
       "      <td>25.0</td>\n",
       "    </tr>\n",
       "    <tr>\n",
       "      <th>mean</th>\n",
       "      <td>15.0</td>\n",
       "    </tr>\n",
       "    <tr>\n",
       "      <th>std</th>\n",
       "      <td>0.0</td>\n",
       "    </tr>\n",
       "    <tr>\n",
       "      <th>min</th>\n",
       "      <td>15.0</td>\n",
       "    </tr>\n",
       "    <tr>\n",
       "      <th>25%</th>\n",
       "      <td>15.0</td>\n",
       "    </tr>\n",
       "    <tr>\n",
       "      <th>50%</th>\n",
       "      <td>15.0</td>\n",
       "    </tr>\n",
       "    <tr>\n",
       "      <th>75%</th>\n",
       "      <td>15.0</td>\n",
       "    </tr>\n",
       "    <tr>\n",
       "      <th>max</th>\n",
       "      <td>15.0</td>\n",
       "    </tr>\n",
       "  </tbody>\n",
       "</table>\n",
       "</div>"
      ],
      "text/plain": [
       "       penaltyYards\n",
       "count          25.0\n",
       "mean           15.0\n",
       "std             0.0\n",
       "min            15.0\n",
       "25%            15.0\n",
       "50%            15.0\n",
       "75%            15.0\n",
       "max            15.0"
      ]
     },
     "execution_count": 50,
     "metadata": {},
     "output_type": "execute_result"
    }
   ],
   "source": [
    "cluster1_0[['penaltyYards']].describe()\n",
    "# see they are all 15"
   ]
  },
  {
   "cell_type": "markdown",
   "metadata": {},
   "source": [
    "I don't know what the difference between clustering 2 and 3 are, but the clusters are clearly separating along 'penaltyYards'. Engineered featurs do not seem different between the clusters. "
   ]
  },
  {
   "cell_type": "markdown",
   "metadata": {},
   "source": [
    "### Clustering 2 - drop 'penaltyYards' and 'penaltyCodes'"
   ]
  },
  {
   "cell_type": "code",
   "execution_count": 51,
   "metadata": {},
   "outputs": [],
   "source": [
    "model2 = hdbscan.HDBSCAN()"
   ]
  },
  {
   "cell_type": "code",
   "execution_count": 52,
   "metadata": {},
   "outputs": [],
   "source": [
    "def preprocess_ep_specific2(ep_plays):\n",
    "    \n",
    "    #reduce number of columns to those with numeric values or one-hot-encode the categoricals\n",
    "    useful_cols = ['specialTeamsResult', \n",
    "                   'yardlineNumber', 'gameClockSeconds', \n",
    "                   #'penaltyCodes', 'penaltyYards', \n",
    "                   'preSnapHomeScore', \n",
    "                   'preSnapVisitorScore', 'kicker_height', 'kicker_weight', #'expected_endzone_y', \n",
    "                   'endzone_y', 'endzone_y_error','endzone_y_off_center']\n",
    "    \n",
    "    columns = ep_plays.columns\n",
    "    \n",
    "    useful_cols.extend(col for col in columns if 'kicker_core_dist' in col)\n",
    "    \n",
    "    #useful_cols with blockers\n",
    "    #useful_cols = ['specialTeamsResult', 'yardlineNumber', 'gameClockSeconds', \n",
    "                 #   'penaltyCodes', 'penaltyYards', 'preSnapHomeScore', 'preSnapVisitorScore', \n",
    "                # 'kicker_height', 'kicker_weight', 'blocker_height', 'blocker_weight',\n",
    "                # 'expected_endzone_y', 'endzone_y', 'kicker_core_dist']\n",
    "                \n",
    "    #need to drop nulls for clustering\n",
    "    \n",
    "    \n",
    "    ep_df2= ep_plays[useful_cols].dropna()\n",
    "    \n",
    "\n",
    "    #one-hot-encode SpecialTeamsResult and penaltyCodes\n",
    "    le_str2 = LabelEncoder()\n",
    "    #le_pc = LabelEncoder()\n",
    "    ohe_str2 = le_str2.fit_transform(ep_df2['specialTeamsResult'])\n",
    "    #ohe_pc = le_pc.fit_transform(ep_df['penaltyCodes'])\n",
    "    #new_eps = ep_df.drop(['specialTeamsResult', 'penaltyCodes'], axis=1)\n",
    "    new_eps2 = ep_df2.drop(['specialTeamsResult'], axis=1)\n",
    "    new_eps2['specialTeamsResult'] = ohe_str2\n",
    "    #new_eps['penaltyCodes'] = ohe_pc\n",
    "    \n",
    "    #scale data, but only non-categorical columns\n",
    "    scale2 = StandardScaler()\n",
    "    ep_scale2 = scale2.fit_transform(new_eps2)\n",
    "    #TO-DO QUESTION: do we want to scale categoricals too? No\n",
    "    \n",
    "    #make this back into a data frame\n",
    "    ep_scale2 = pd.DataFrame(ep_scale2, columns = new_eps2.columns)\n",
    "    \n",
    "    #add categorical columns back\n",
    "    ep_scale2['specialTeamsResult'] = ohe_str2\n",
    "    #ep_scale['penaltyCodes'] = ohe_pc\n",
    "    #we are running a distance dependent algorithm\n",
    "    return ep_df2, ep_scale2"
   ]
  },
  {
   "cell_type": "code",
   "execution_count": 53,
   "metadata": {},
   "outputs": [],
   "source": [
    "ep_df2, ep_scale2 = preprocess_ep_specific2(extra_point_df)"
   ]
  },
  {
   "cell_type": "code",
   "execution_count": 54,
   "metadata": {},
   "outputs": [],
   "source": [
    "model2_results = model2.fit(ep_scale2)"
   ]
  },
  {
   "cell_type": "code",
   "execution_count": 55,
   "metadata": {},
   "outputs": [
    {
     "data": {
      "text/plain": [
       "2"
      ]
     },
     "execution_count": 55,
     "metadata": {},
     "output_type": "execute_result"
    }
   ],
   "source": [
    "model2_results.labels_.max()"
   ]
  },
  {
   "cell_type": "code",
   "execution_count": 56,
   "metadata": {},
   "outputs": [],
   "source": [
    "ep_df['cluster_id'] = model2_results.labels_"
   ]
  },
  {
   "cell_type": "code",
   "execution_count": 57,
   "metadata": {},
   "outputs": [
    {
     "data": {
      "text/plain": [
       " 2    3156\n",
       " 1      25\n",
       "-1      16\n",
       " 0       6\n",
       "Name: cluster_id, dtype: int64"
      ]
     },
     "execution_count": 57,
     "metadata": {},
     "output_type": "execute_result"
    }
   ],
   "source": [
    "ep_df['cluster_id'].value_counts()"
   ]
  },
  {
   "cell_type": "code",
   "execution_count": 58,
   "metadata": {},
   "outputs": [],
   "source": [
    "cluster2_0 = ep_df[ep_df['cluster_id']==0]\n",
    "cluster2_1 = ep_df[ep_df['cluster_id']==1]\n",
    "cluster2_2 = ep_df[ep_df['cluster_id']==2]\n",
    "\n",
    "outliers2 = ep_df[ep_df['cluster_id']==-1]"
   ]
  },
  {
   "cell_type": "code",
   "execution_count": 59,
   "metadata": {},
   "outputs": [
    {
     "name": "stdout",
     "output_type": "stream",
     "text": [
      "Kick Attempt Good       23\n",
      "Kick Attempt No Good     2\n",
      "Name: specialTeamsResult, dtype: int64\n",
      "\n",
      "Kick Attempt Good    6\n",
      "Name: specialTeamsResult, dtype: int64\n",
      "\n",
      "Kick Attempt Good       2972\n",
      "Kick Attempt No Good     180\n",
      "Blocked Kick Attempt       4\n",
      "Name: specialTeamsResult, dtype: int64\n",
      "\n",
      "Kick Attempt Good       15\n",
      "Kick Attempt No Good     7\n",
      "Blocked Kick Attempt     2\n",
      "Name: specialTeamsResult, dtype: int64\n"
     ]
    }
   ],
   "source": [
    "print(cluster2_1['specialTeamsResult'].value_counts())\n",
    "print()\n",
    "print(cluster2_0['specialTeamsResult'].value_counts())\n",
    "print()\n",
    "print(cluster2_2['specialTeamsResult'].value_counts())\n",
    "print()\n",
    "print(outliers1['specialTeamsResult'].value_counts())"
   ]
  },
  {
   "cell_type": "markdown",
   "metadata": {},
   "source": [
    "What is going on?"
   ]
  },
  {
   "cell_type": "code",
   "execution_count": 60,
   "metadata": {},
   "outputs": [
    {
     "name": "stdout",
     "output_type": "stream",
     "text": [
      "20    25\n",
      "Name: yardlineNumber, dtype: int64\n",
      "\n",
      "10    5\n",
      "7     1\n",
      "Name: yardlineNumber, dtype: int64\n",
      "\n",
      "15    3156\n",
      "Name: yardlineNumber, dtype: int64\n",
      "\n",
      "25    5\n",
      "30    5\n",
      "15    3\n",
      "20    1\n",
      "10    1\n",
      "7     1\n",
      "Name: yardlineNumber, dtype: int64\n"
     ]
    }
   ],
   "source": [
    "print(cluster2_1['yardlineNumber'].value_counts())\n",
    "print()\n",
    "print(cluster2_0['yardlineNumber'].value_counts())\n",
    "print()\n",
    "print(cluster2_2['yardlineNumber'].value_counts())\n",
    "print()\n",
    "print(outliers2['yardlineNumber'].value_counts())"
   ]
  },
  {
   "cell_type": "markdown",
   "metadata": {},
   "source": [
    "Ok, it is separating along yardlineNumber, but what does that mean anyways? It doesn't seem to be saying that 'yardlineNumber' determines the outcome of the play because 'specialTeamsResult' are mixed in this clustering. Let's try to cluster using only engineered features. "
   ]
  },
  {
   "cell_type": "markdown",
   "metadata": {},
   "source": [
    "### Clustering 3 - only engineered features and 'specialTeamsResult'"
   ]
  },
  {
   "cell_type": "code",
   "execution_count": 61,
   "metadata": {},
   "outputs": [],
   "source": [
    "model3 = hdbscan.HDBSCAN()"
   ]
  },
  {
   "cell_type": "code",
   "execution_count": 62,
   "metadata": {},
   "outputs": [],
   "source": [
    "def preprocess_ep_specific3(ep_plays):\n",
    "    \n",
    "    #reduce number of columns to those with numeric values or one-hot-encode the categoricals\n",
    "    useful_cols = ['specialTeamsResult', \n",
    "                   #'yardlineNumber', \n",
    "                   #'gameClockSeconds', \n",
    "                   #'penaltyCodes', 'penaltyYards', \n",
    "                   #'preSnapHomeScore', \n",
    "                   #'preSnapVisitorScore', 'kicker_height', 'kicker_weight', #'expected_endzone_y', \n",
    "                   'endzone_y', 'endzone_y_error','endzone_y_off_center']\n",
    "    \n",
    "    columns = ep_plays.columns\n",
    "    \n",
    "    useful_cols.extend(col for col in columns if 'kicker_core_dist' in col)\n",
    "    \n",
    "    ep_df3= ep_plays[useful_cols].dropna()\n",
    "    \n",
    "\n",
    "    #one-hot-encode SpecialTeamsResult and penaltyCodes\n",
    "    le_str3 = LabelEncoder()\n",
    "    #le_pc = LabelEncoder()\n",
    "    ohe_str3 = le_str3.fit_transform(ep_df['specialTeamsResult'])\n",
    "    #ohe_pc = le_pc.fit_transform(ep_df['penaltyCodes'])\n",
    "    #new_eps = ep_df.drop(['specialTeamsResult', 'penaltyCodes'], axis=1)\n",
    "    new_eps3 = ep_df3.drop(['specialTeamsResult'], axis=1)\n",
    "    new_eps3['specialTeamsResult'] = ohe_str3\n",
    "    #new_eps['penaltyCodes'] = ohe_pc\n",
    "    \n",
    "    #scale data, but only non-categorical columns\n",
    "    scale3 = StandardScaler()\n",
    "    ep_scale3 = scale3.fit_transform(new_eps3)\n",
    "    #TO-DO QUESTION: do we want to scale categoricals too? No\n",
    "    \n",
    "    #make this back into a data frame\n",
    "    ep_scale3 = pd.DataFrame(ep_scale3, columns = new_eps3.columns)\n",
    "    \n",
    "    #add categorical columns back\n",
    "    ep_scale3['specialTeamsResult'] = ohe_str3\n",
    "    #ep_scale['penaltyCodes'] = ohe_pc\n",
    "    #we are running a distance dependent algorithm\n",
    "    return ep_df3, ep_scale3"
   ]
  },
  {
   "cell_type": "code",
   "execution_count": 63,
   "metadata": {},
   "outputs": [],
   "source": [
    "ep_df3, ep_scale3 = preprocess_ep_specific3(extra_point_df)"
   ]
  },
  {
   "cell_type": "code",
   "execution_count": 64,
   "metadata": {},
   "outputs": [],
   "source": [
    "model3_results = model3.fit(ep_scale3)"
   ]
  },
  {
   "cell_type": "code",
   "execution_count": 65,
   "metadata": {},
   "outputs": [
    {
     "data": {
      "text/plain": [
       "2"
      ]
     },
     "execution_count": 65,
     "metadata": {},
     "output_type": "execute_result"
    }
   ],
   "source": [
    "model3_results.labels_.max()"
   ]
  },
  {
   "cell_type": "code",
   "execution_count": 66,
   "metadata": {},
   "outputs": [],
   "source": [
    "ep_df['cluster_id'] = model3_results.labels_"
   ]
  },
  {
   "cell_type": "code",
   "execution_count": 67,
   "metadata": {},
   "outputs": [
    {
     "data": {
      "text/plain": [
       " 2    2950\n",
       "-1     119\n",
       " 1      70\n",
       " 0      64\n",
       "Name: cluster_id, dtype: int64"
      ]
     },
     "execution_count": 67,
     "metadata": {},
     "output_type": "execute_result"
    }
   ],
   "source": [
    "ep_df['cluster_id'].value_counts()"
   ]
  },
  {
   "cell_type": "code",
   "execution_count": 68,
   "metadata": {},
   "outputs": [],
   "source": [
    "cluster3_0 = ep_df[ep_df['cluster_id']==0]\n",
    "cluster3_1 = ep_df[ep_df['cluster_id']==1]\n",
    "cluster3_2 = ep_df[ep_df['cluster_id']==2]\n",
    "\n",
    "outliers3 = ep_df[ep_df['cluster_id']==-1]"
   ]
  },
  {
   "cell_type": "code",
   "execution_count": 69,
   "metadata": {},
   "outputs": [
    {
     "name": "stdout",
     "output_type": "stream",
     "text": [
      "Kick Attempt No Good    63\n",
      "Kick Attempt Good        1\n",
      "Name: specialTeamsResult, dtype: int64\n",
      "\n",
      "Kick Attempt No Good    70\n",
      "Name: specialTeamsResult, dtype: int64\n",
      "\n",
      "Kick Attempt Good    2950\n",
      "Name: specialTeamsResult, dtype: int64\n",
      "\n",
      "Kick Attempt Good       58\n",
      "Kick Attempt No Good    55\n",
      "Blocked Kick Attempt     6\n",
      "Name: specialTeamsResult, dtype: int64\n"
     ]
    }
   ],
   "source": [
    "print(cluster3_0['specialTeamsResult'].value_counts())\n",
    "print()\n",
    "print(cluster3_1['specialTeamsResult'].value_counts())\n",
    "print()\n",
    "print(cluster3_2['specialTeamsResult'].value_counts())\n",
    "print()\n",
    "print(outliers3['specialTeamsResult'].value_counts())"
   ]
  },
  {
   "cell_type": "code",
   "execution_count": 70,
   "metadata": {},
   "outputs": [
    {
     "data": {
      "text/html": [
       "<div>\n",
       "<style scoped>\n",
       "    .dataframe tbody tr th:only-of-type {\n",
       "        vertical-align: middle;\n",
       "    }\n",
       "\n",
       "    .dataframe tbody tr th {\n",
       "        vertical-align: top;\n",
       "    }\n",
       "\n",
       "    .dataframe thead th {\n",
       "        text-align: right;\n",
       "    }\n",
       "</style>\n",
       "<table border=\"1\" class=\"dataframe\">\n",
       "  <thead>\n",
       "    <tr style=\"text-align: right;\">\n",
       "      <th></th>\n",
       "      <th>endzone_y_error</th>\n",
       "      <th>endzone_y</th>\n",
       "      <th>kicker_core_dist_3</th>\n",
       "      <th>kicker_core_dist_1</th>\n",
       "      <th>endzone_y_off_center</th>\n",
       "    </tr>\n",
       "  </thead>\n",
       "  <tbody>\n",
       "    <tr>\n",
       "      <th>count</th>\n",
       "      <td>64.000000</td>\n",
       "      <td>64.000000</td>\n",
       "      <td>64.000000</td>\n",
       "      <td>64.000000</td>\n",
       "      <td>64.000000</td>\n",
       "    </tr>\n",
       "    <tr>\n",
       "      <th>mean</th>\n",
       "      <td>1.045827</td>\n",
       "      <td>23.236328</td>\n",
       "      <td>6.447260</td>\n",
       "      <td>5.186469</td>\n",
       "      <td>3.430339</td>\n",
       "    </tr>\n",
       "    <tr>\n",
       "      <th>std</th>\n",
       "      <td>0.715636</td>\n",
       "      <td>0.451713</td>\n",
       "      <td>0.502120</td>\n",
       "      <td>0.757682</td>\n",
       "      <td>0.451713</td>\n",
       "    </tr>\n",
       "    <tr>\n",
       "      <th>min</th>\n",
       "      <td>0.036103</td>\n",
       "      <td>22.193333</td>\n",
       "      <td>5.502727</td>\n",
       "      <td>3.846063</td>\n",
       "      <td>2.436667</td>\n",
       "    </tr>\n",
       "    <tr>\n",
       "      <th>25%</th>\n",
       "      <td>0.555736</td>\n",
       "      <td>22.967500</td>\n",
       "      <td>5.999296</td>\n",
       "      <td>4.576622</td>\n",
       "      <td>3.103333</td>\n",
       "    </tr>\n",
       "    <tr>\n",
       "      <th>50%</th>\n",
       "      <td>0.868036</td>\n",
       "      <td>23.281667</td>\n",
       "      <td>6.525161</td>\n",
       "      <td>5.010285</td>\n",
       "      <td>3.385000</td>\n",
       "    </tr>\n",
       "    <tr>\n",
       "      <th>75%</th>\n",
       "      <td>1.430104</td>\n",
       "      <td>23.563333</td>\n",
       "      <td>6.869294</td>\n",
       "      <td>5.766465</td>\n",
       "      <td>3.699167</td>\n",
       "    </tr>\n",
       "    <tr>\n",
       "      <th>max</th>\n",
       "      <td>2.811169</td>\n",
       "      <td>24.230000</td>\n",
       "      <td>7.264634</td>\n",
       "      <td>6.857011</td>\n",
       "      <td>4.473333</td>\n",
       "    </tr>\n",
       "  </tbody>\n",
       "</table>\n",
       "</div>"
      ],
      "text/plain": [
       "       endzone_y_error  endzone_y  kicker_core_dist_3  kicker_core_dist_1  \\\n",
       "count        64.000000  64.000000           64.000000           64.000000   \n",
       "mean          1.045827  23.236328            6.447260            5.186469   \n",
       "std           0.715636   0.451713            0.502120            0.757682   \n",
       "min           0.036103  22.193333            5.502727            3.846063   \n",
       "25%           0.555736  22.967500            5.999296            4.576622   \n",
       "50%           0.868036  23.281667            6.525161            5.010285   \n",
       "75%           1.430104  23.563333            6.869294            5.766465   \n",
       "max           2.811169  24.230000            7.264634            6.857011   \n",
       "\n",
       "       endzone_y_off_center  \n",
       "count             64.000000  \n",
       "mean               3.430339  \n",
       "std                0.451713  \n",
       "min                2.436667  \n",
       "25%                3.103333  \n",
       "50%                3.385000  \n",
       "75%                3.699167  \n",
       "max                4.473333  "
      ]
     },
     "execution_count": 70,
     "metadata": {},
     "output_type": "execute_result"
    }
   ],
   "source": [
    "cluster3_0[['endzone_y_error', 'endzone_y', 'kicker_core_dist_3', 'kicker_core_dist_1','endzone_y_off_center']].describe()\n"
   ]
  },
  {
   "cell_type": "code",
   "execution_count": 71,
   "metadata": {},
   "outputs": [
    {
     "data": {
      "text/html": [
       "<div>\n",
       "<style scoped>\n",
       "    .dataframe tbody tr th:only-of-type {\n",
       "        vertical-align: middle;\n",
       "    }\n",
       "\n",
       "    .dataframe tbody tr th {\n",
       "        vertical-align: top;\n",
       "    }\n",
       "\n",
       "    .dataframe thead th {\n",
       "        text-align: right;\n",
       "    }\n",
       "</style>\n",
       "<table border=\"1\" class=\"dataframe\">\n",
       "  <thead>\n",
       "    <tr style=\"text-align: right;\">\n",
       "      <th></th>\n",
       "      <th>endzone_y_error</th>\n",
       "      <th>endzone_y</th>\n",
       "      <th>kicker_core_dist_3</th>\n",
       "      <th>kicker_core_dist_1</th>\n",
       "      <th>endzone_y_off_center</th>\n",
       "    </tr>\n",
       "  </thead>\n",
       "  <tbody>\n",
       "    <tr>\n",
       "      <th>count</th>\n",
       "      <td>70.000000</td>\n",
       "      <td>70.000000</td>\n",
       "      <td>70.000000</td>\n",
       "      <td>70.000000</td>\n",
       "      <td>70.000000</td>\n",
       "    </tr>\n",
       "    <tr>\n",
       "      <th>mean</th>\n",
       "      <td>0.699379</td>\n",
       "      <td>30.367595</td>\n",
       "      <td>6.471217</td>\n",
       "      <td>4.979730</td>\n",
       "      <td>3.700929</td>\n",
       "    </tr>\n",
       "    <tr>\n",
       "      <th>std</th>\n",
       "      <td>0.505809</td>\n",
       "      <td>0.518440</td>\n",
       "      <td>0.427208</td>\n",
       "      <td>0.778268</td>\n",
       "      <td>0.518440</td>\n",
       "    </tr>\n",
       "    <tr>\n",
       "      <th>min</th>\n",
       "      <td>0.010333</td>\n",
       "      <td>29.240000</td>\n",
       "      <td>5.583234</td>\n",
       "      <td>3.403895</td>\n",
       "      <td>2.573333</td>\n",
       "    </tr>\n",
       "    <tr>\n",
       "      <th>25%</th>\n",
       "      <td>0.304108</td>\n",
       "      <td>29.958333</td>\n",
       "      <td>6.116605</td>\n",
       "      <td>4.562947</td>\n",
       "      <td>3.291667</td>\n",
       "    </tr>\n",
       "    <tr>\n",
       "      <th>50%</th>\n",
       "      <td>0.589345</td>\n",
       "      <td>30.329167</td>\n",
       "      <td>6.461891</td>\n",
       "      <td>4.940025</td>\n",
       "      <td>3.662500</td>\n",
       "    </tr>\n",
       "    <tr>\n",
       "      <th>75%</th>\n",
       "      <td>0.984886</td>\n",
       "      <td>30.748333</td>\n",
       "      <td>6.783723</td>\n",
       "      <td>5.405346</td>\n",
       "      <td>4.081667</td>\n",
       "    </tr>\n",
       "    <tr>\n",
       "      <th>max</th>\n",
       "      <td>2.276149</td>\n",
       "      <td>31.453333</td>\n",
       "      <td>7.299562</td>\n",
       "      <td>6.675463</td>\n",
       "      <td>4.786667</td>\n",
       "    </tr>\n",
       "  </tbody>\n",
       "</table>\n",
       "</div>"
      ],
      "text/plain": [
       "       endzone_y_error  endzone_y  kicker_core_dist_3  kicker_core_dist_1  \\\n",
       "count        70.000000  70.000000           70.000000           70.000000   \n",
       "mean          0.699379  30.367595            6.471217            4.979730   \n",
       "std           0.505809   0.518440            0.427208            0.778268   \n",
       "min           0.010333  29.240000            5.583234            3.403895   \n",
       "25%           0.304108  29.958333            6.116605            4.562947   \n",
       "50%           0.589345  30.329167            6.461891            4.940025   \n",
       "75%           0.984886  30.748333            6.783723            5.405346   \n",
       "max           2.276149  31.453333            7.299562            6.675463   \n",
       "\n",
       "       endzone_y_off_center  \n",
       "count             70.000000  \n",
       "mean               3.700929  \n",
       "std                0.518440  \n",
       "min                2.573333  \n",
       "25%                3.291667  \n",
       "50%                3.662500  \n",
       "75%                4.081667  \n",
       "max                4.786667  "
      ]
     },
     "execution_count": 71,
     "metadata": {},
     "output_type": "execute_result"
    }
   ],
   "source": [
    "cluster3_1[['endzone_y_error', 'endzone_y', 'kicker_core_dist_3', 'kicker_core_dist_1','endzone_y_off_center']].describe()\n"
   ]
  },
  {
   "cell_type": "code",
   "execution_count": 72,
   "metadata": {},
   "outputs": [
    {
     "data": {
      "text/html": [
       "<div>\n",
       "<style scoped>\n",
       "    .dataframe tbody tr th:only-of-type {\n",
       "        vertical-align: middle;\n",
       "    }\n",
       "\n",
       "    .dataframe tbody tr th {\n",
       "        vertical-align: top;\n",
       "    }\n",
       "\n",
       "    .dataframe thead th {\n",
       "        text-align: right;\n",
       "    }\n",
       "</style>\n",
       "<table border=\"1\" class=\"dataframe\">\n",
       "  <thead>\n",
       "    <tr style=\"text-align: right;\">\n",
       "      <th></th>\n",
       "      <th>endzone_y_error</th>\n",
       "      <th>endzone_y</th>\n",
       "      <th>kicker_core_dist_3</th>\n",
       "      <th>kicker_core_dist_1</th>\n",
       "      <th>endzone_y_off_center</th>\n",
       "    </tr>\n",
       "  </thead>\n",
       "  <tbody>\n",
       "    <tr>\n",
       "      <th>count</th>\n",
       "      <td>2950.000000</td>\n",
       "      <td>2950.000000</td>\n",
       "      <td>2950.000000</td>\n",
       "      <td>2950.000000</td>\n",
       "      <td>2950.000000</td>\n",
       "    </tr>\n",
       "    <tr>\n",
       "      <th>mean</th>\n",
       "      <td>0.766896</td>\n",
       "      <td>26.732146</td>\n",
       "      <td>6.461471</td>\n",
       "      <td>5.027505</td>\n",
       "      <td>1.079779</td>\n",
       "    </tr>\n",
       "    <tr>\n",
       "      <th>std</th>\n",
       "      <td>0.638547</td>\n",
       "      <td>1.320439</td>\n",
       "      <td>0.544087</td>\n",
       "      <td>0.920727</td>\n",
       "      <td>0.762581</td>\n",
       "    </tr>\n",
       "    <tr>\n",
       "      <th>min</th>\n",
       "      <td>0.000264</td>\n",
       "      <td>23.203333</td>\n",
       "      <td>4.411916</td>\n",
       "      <td>1.718139</td>\n",
       "      <td>0.001667</td>\n",
       "    </tr>\n",
       "    <tr>\n",
       "      <th>25%</th>\n",
       "      <td>0.286768</td>\n",
       "      <td>25.793333</td>\n",
       "      <td>6.123138</td>\n",
       "      <td>4.373220</td>\n",
       "      <td>0.456667</td>\n",
       "    </tr>\n",
       "    <tr>\n",
       "      <th>50%</th>\n",
       "      <td>0.607701</td>\n",
       "      <td>26.740000</td>\n",
       "      <td>6.487291</td>\n",
       "      <td>5.014903</td>\n",
       "      <td>0.937500</td>\n",
       "    </tr>\n",
       "    <tr>\n",
       "      <th>75%</th>\n",
       "      <td>1.083575</td>\n",
       "      <td>27.669583</td>\n",
       "      <td>6.834296</td>\n",
       "      <td>5.690931</td>\n",
       "      <td>1.607917</td>\n",
       "    </tr>\n",
       "    <tr>\n",
       "      <th>max</th>\n",
       "      <td>4.512012</td>\n",
       "      <td>30.320000</td>\n",
       "      <td>8.065829</td>\n",
       "      <td>7.346999</td>\n",
       "      <td>3.653333</td>\n",
       "    </tr>\n",
       "  </tbody>\n",
       "</table>\n",
       "</div>"
      ],
      "text/plain": [
       "       endzone_y_error    endzone_y  kicker_core_dist_3  kicker_core_dist_1  \\\n",
       "count      2950.000000  2950.000000         2950.000000         2950.000000   \n",
       "mean          0.766896    26.732146            6.461471            5.027505   \n",
       "std           0.638547     1.320439            0.544087            0.920727   \n",
       "min           0.000264    23.203333            4.411916            1.718139   \n",
       "25%           0.286768    25.793333            6.123138            4.373220   \n",
       "50%           0.607701    26.740000            6.487291            5.014903   \n",
       "75%           1.083575    27.669583            6.834296            5.690931   \n",
       "max           4.512012    30.320000            8.065829            7.346999   \n",
       "\n",
       "       endzone_y_off_center  \n",
       "count           2950.000000  \n",
       "mean               1.079779  \n",
       "std                0.762581  \n",
       "min                0.001667  \n",
       "25%                0.456667  \n",
       "50%                0.937500  \n",
       "75%                1.607917  \n",
       "max                3.653333  "
      ]
     },
     "execution_count": 72,
     "metadata": {},
     "output_type": "execute_result"
    }
   ],
   "source": [
    "cluster3_2[['endzone_y_error', 'endzone_y', 'kicker_core_dist_3', 'kicker_core_dist_1','endzone_y_off_center']].describe()\n"
   ]
  },
  {
   "cell_type": "code",
   "execution_count": 73,
   "metadata": {},
   "outputs": [
    {
     "data": {
      "text/html": [
       "<div>\n",
       "<style scoped>\n",
       "    .dataframe tbody tr th:only-of-type {\n",
       "        vertical-align: middle;\n",
       "    }\n",
       "\n",
       "    .dataframe tbody tr th {\n",
       "        vertical-align: top;\n",
       "    }\n",
       "\n",
       "    .dataframe thead th {\n",
       "        text-align: right;\n",
       "    }\n",
       "</style>\n",
       "<table border=\"1\" class=\"dataframe\">\n",
       "  <thead>\n",
       "    <tr style=\"text-align: right;\">\n",
       "      <th></th>\n",
       "      <th>endzone_y_error</th>\n",
       "      <th>endzone_y</th>\n",
       "      <th>kicker_core_dist_3</th>\n",
       "      <th>kicker_core_dist_1</th>\n",
       "      <th>endzone_y_off_center</th>\n",
       "    </tr>\n",
       "  </thead>\n",
       "  <tbody>\n",
       "    <tr>\n",
       "      <th>count</th>\n",
       "      <td>119.000000</td>\n",
       "      <td>119.000000</td>\n",
       "      <td>119.000000</td>\n",
       "      <td>119.000000</td>\n",
       "      <td>119.000000</td>\n",
       "    </tr>\n",
       "    <tr>\n",
       "      <th>mean</th>\n",
       "      <td>3.416590</td>\n",
       "      <td>26.436134</td>\n",
       "      <td>6.535492</td>\n",
       "      <td>4.889020</td>\n",
       "      <td>2.840336</td>\n",
       "    </tr>\n",
       "    <tr>\n",
       "      <th>std</th>\n",
       "      <td>11.508743</td>\n",
       "      <td>3.446086</td>\n",
       "      <td>1.628926</td>\n",
       "      <td>2.200598</td>\n",
       "      <td>1.947620</td>\n",
       "    </tr>\n",
       "    <tr>\n",
       "      <th>min</th>\n",
       "      <td>0.003339</td>\n",
       "      <td>17.333333</td>\n",
       "      <td>3.476277</td>\n",
       "      <td>1.422252</td>\n",
       "      <td>0.018333</td>\n",
       "    </tr>\n",
       "    <tr>\n",
       "      <th>25%</th>\n",
       "      <td>0.484133</td>\n",
       "      <td>24.006667</td>\n",
       "      <td>5.573257</td>\n",
       "      <td>3.419389</td>\n",
       "      <td>1.329167</td>\n",
       "    </tr>\n",
       "    <tr>\n",
       "      <th>50%</th>\n",
       "      <td>1.751623</td>\n",
       "      <td>26.315000</td>\n",
       "      <td>6.375461</td>\n",
       "      <td>4.383754</td>\n",
       "      <td>2.571667</td>\n",
       "    </tr>\n",
       "    <tr>\n",
       "      <th>75%</th>\n",
       "      <td>3.010510</td>\n",
       "      <td>28.975000</td>\n",
       "      <td>7.010111</td>\n",
       "      <td>5.862369</td>\n",
       "      <td>4.050000</td>\n",
       "    </tr>\n",
       "    <tr>\n",
       "      <th>max</th>\n",
       "      <td>120.450000</td>\n",
       "      <td>35.713333</td>\n",
       "      <td>11.208640</td>\n",
       "      <td>10.991165</td>\n",
       "      <td>9.333333</td>\n",
       "    </tr>\n",
       "  </tbody>\n",
       "</table>\n",
       "</div>"
      ],
      "text/plain": [
       "       endzone_y_error   endzone_y  kicker_core_dist_3  kicker_core_dist_1  \\\n",
       "count       119.000000  119.000000          119.000000          119.000000   \n",
       "mean          3.416590   26.436134            6.535492            4.889020   \n",
       "std          11.508743    3.446086            1.628926            2.200598   \n",
       "min           0.003339   17.333333            3.476277            1.422252   \n",
       "25%           0.484133   24.006667            5.573257            3.419389   \n",
       "50%           1.751623   26.315000            6.375461            4.383754   \n",
       "75%           3.010510   28.975000            7.010111            5.862369   \n",
       "max         120.450000   35.713333           11.208640           10.991165   \n",
       "\n",
       "       endzone_y_off_center  \n",
       "count            119.000000  \n",
       "mean               2.840336  \n",
       "std                1.947620  \n",
       "min                0.018333  \n",
       "25%                1.329167  \n",
       "50%                2.571667  \n",
       "75%                4.050000  \n",
       "max                9.333333  "
      ]
     },
     "execution_count": 73,
     "metadata": {},
     "output_type": "execute_result"
    }
   ],
   "source": [
    "outliers3[['endzone_y_error', 'endzone_y', 'kicker_core_dist_3', 'kicker_core_dist_1','endzone_y_off_center']].describe()\n"
   ]
  },
  {
   "cell_type": "markdown",
   "metadata": {},
   "source": [
    "### Clustering 4 - only engineered features, drop 'specialTeamsResult'"
   ]
  },
  {
   "cell_type": "code",
   "execution_count": 74,
   "metadata": {},
   "outputs": [],
   "source": [
    "model4 = hdbscan.HDBSCAN()"
   ]
  },
  {
   "cell_type": "code",
   "execution_count": 75,
   "metadata": {},
   "outputs": [],
   "source": [
    "def preprocess_ep_specific4(ep_plays):\n",
    "    \n",
    "    #reduce number of columns to those with numeric values or one-hot-encode the categoricals\n",
    "    useful_cols = [#'specialTeamsResult', \n",
    "                   #'yardlineNumber', \n",
    "                   #'gameClockSeconds', \n",
    "                   #'penaltyCodes', 'penaltyYards', \n",
    "                   #'preSnapHomeScore', \n",
    "                   #'preSnapVisitorScore', 'kicker_height', 'kicker_weight', #'expected_endzone_y', \n",
    "                   'endzone_y', 'endzone_y_error','endzone_y_off_center']\n",
    "    \n",
    "    columns = ep_plays.columns\n",
    "    \n",
    "    useful_cols.extend(col for col in columns if 'kicker_core_dist' in col)\n",
    "    \n",
    "    ep_df_scale4 = ep_plays[useful_cols].dropna()\n",
    "    index = ep_df_scale4.index\n",
    "    ep_df4 = ep_plays.loc[index]\n",
    "    \n",
    "    #scale data, but only non-categorical columns\n",
    "    scale4 = StandardScaler()\n",
    "    ep_scale4 = scale4.fit_transform(ep_df_scale4)\n",
    "    #TO-DO QUESTION: do we want to scale categoricals too? No\n",
    "    \n",
    "    #we are running a distance dependent algorithm\n",
    "    return ep_df4, ep_scale4"
   ]
  },
  {
   "cell_type": "code",
   "execution_count": 76,
   "metadata": {},
   "outputs": [],
   "source": [
    "ep_df4, ep_scale4 = preprocess_ep_specific4(extra_point_df)"
   ]
  },
  {
   "cell_type": "code",
   "execution_count": 77,
   "metadata": {},
   "outputs": [],
   "source": [
    "model4_results = model4.fit(ep_scale4)"
   ]
  },
  {
   "cell_type": "code",
   "execution_count": 78,
   "metadata": {},
   "outputs": [
    {
     "data": {
      "text/plain": [
       "1"
      ]
     },
     "execution_count": 78,
     "metadata": {},
     "output_type": "execute_result"
    }
   ],
   "source": [
    "model4_results.labels_.max()"
   ]
  },
  {
   "cell_type": "code",
   "execution_count": 79,
   "metadata": {},
   "outputs": [],
   "source": [
    "ep_df['cluster_id'] = model4_results.labels_"
   ]
  },
  {
   "cell_type": "code",
   "execution_count": 80,
   "metadata": {},
   "outputs": [
    {
     "data": {
      "text/plain": [
       " 1    2716\n",
       "-1     480\n",
       " 0       7\n",
       "Name: cluster_id, dtype: int64"
      ]
     },
     "execution_count": 80,
     "metadata": {},
     "output_type": "execute_result"
    }
   ],
   "source": [
    "ep_df['cluster_id'].value_counts()"
   ]
  },
  {
   "cell_type": "code",
   "execution_count": 81,
   "metadata": {},
   "outputs": [],
   "source": [
    "cluster4_0 = ep_df[ep_df['cluster_id']==0]\n",
    "cluster4_1 = ep_df[ep_df['cluster_id']==1]\n",
    "cluster4_2 = ep_df[ep_df['cluster_id']==2]\n",
    "cluster4_3 = ep_df[ep_df['cluster_id']==3]\n",
    "\n",
    "outliers4 = ep_df[ep_df['cluster_id']==-1]"
   ]
  },
  {
   "cell_type": "code",
   "execution_count": 82,
   "metadata": {},
   "outputs": [
    {
     "name": "stdout",
     "output_type": "stream",
     "text": [
      "Kick Attempt Good       2687\n",
      "Kick Attempt No Good      28\n",
      "Blocked Kick Attempt       1\n",
      "Name: specialTeamsResult, dtype: int64\n",
      "\n",
      "Kick Attempt No Good    7\n",
      "Name: specialTeamsResult, dtype: int64\n",
      "\n",
      "Series([], Name: specialTeamsResult, dtype: int64)\n",
      "\n",
      "Series([], Name: specialTeamsResult, dtype: int64)\n",
      "\n",
      "Kick Attempt Good       322\n",
      "Kick Attempt No Good    153\n",
      "Blocked Kick Attempt      5\n",
      "Name: specialTeamsResult, dtype: int64\n",
      "\n"
     ]
    }
   ],
   "source": [
    "print(cluster4_1['specialTeamsResult'].value_counts())\n",
    "print()\n",
    "print(cluster4_0['specialTeamsResult'].value_counts())\n",
    "print()\n",
    "print(cluster4_2['specialTeamsResult'].value_counts())\n",
    "print()\n",
    "print(cluster4_3['specialTeamsResult'].value_counts())\n",
    "print()\n",
    "print(outliers4['specialTeamsResult'].value_counts())\n",
    "print()"
   ]
  },
  {
   "cell_type": "markdown",
   "metadata": {},
   "source": [
    "well that is not a disaster. "
   ]
  },
  {
   "cell_type": "markdown",
   "metadata": {},
   "source": [
    "### we left the few blocked kick attempts that made it through the filters. they don't really make sense, so maybe this should be done again without them. there are only four. "
   ]
  },
  {
   "cell_type": "code",
   "execution_count": 83,
   "metadata": {},
   "outputs": [],
   "source": [
    "extra_point_kick_df = extra_point_df[extra_point_df['specialTeamsResult'].isin(['Kick Attempt Good', 'Kick Attempt No Good'])]\n"
   ]
  },
  {
   "cell_type": "markdown",
   "metadata": {},
   "source": [
    "we clustered once with penaly yards and penalty codes and saw that was affecting the clustering. it also doesn't seem necessary because that data is included in the yardlineNumber. \n",
    "after we drop, we clustered again. \n",
    "the clusters were determined by the yardlineNumber.\n",
    "This is from the second clustering:\n",
    "20    25\n",
    "Name: yardlineNumber, dtype: int64\n",
    "\n",
    "10    5\n",
    "7     1\n",
    "Name: yardlineNumber, dtype: int64\n",
    "\n",
    "15    3155\n",
    "Name: yardlineNumber, dtype: int64"
   ]
  },
  {
   "cell_type": "markdown",
   "metadata": {},
   "source": [
    "in the third cluster we removed everything except engineered features. it returned nothing meaningful. 2 clusters but mixed both. \n",
    "\n",
    "in the fourht cluster we put back in only 'specialTeamsResul'. it clustered on that. there were 3 clusters. 2 kick attempt no good clusters.\n",
    "\n"
   ]
  },
  {
   "cell_type": "code",
   "execution_count": 84,
   "metadata": {},
   "outputs": [
    {
     "data": {
      "image/png": "[encoded data removed]",
      "text/plain": [
       "<Figure size 1152x1296 with 2 Axes>"
      ]
     },
     "metadata": {
      "needs_background": "light"
     },
     "output_type": "display_data"
    }
   ],
   "source": [
    "plt.figure(figsize = (16,18))\n",
    "model1.condensed_tree_.plot(select_clusters=True, selection_palette=sns.color_palette())\n",
    "plt.show()"
   ]
  },
  {
   "cell_type": "code",
   "execution_count": 85,
   "metadata": {},
   "outputs": [
    {
     "data": {
      "image/png": "[encoded data removed]",
      "text/plain": [
       "<Figure size 1152x1296 with 2 Axes>"
      ]
     },
     "metadata": {
      "needs_background": "light"
     },
     "output_type": "display_data"
    }
   ],
   "source": [
    "plt.figure(figsize = (16,18))\n",
    "model2.condensed_tree_.plot(select_clusters=True, selection_palette=sns.color_palette())\n",
    "plt.show()"
   ]
  },
  {
   "cell_type": "code",
   "execution_count": 86,
   "metadata": {},
   "outputs": [
    {
     "data": {
      "image/png": "[encoded data removed]",
      "text/plain": [
       "<Figure size 1152x1296 with 2 Axes>"
      ]
     },
     "metadata": {
      "needs_background": "light"
     },
     "output_type": "display_data"
    }
   ],
   "source": [
    "plt.figure(figsize = (16,18))\n",
    "model3.condensed_tree_.plot(select_clusters=True, selection_palette=sns.color_palette())\n",
    "plt.show()"
   ]
  },
  {
   "cell_type": "code",
   "execution_count": 87,
   "metadata": {},
   "outputs": [
    {
     "data": {
      "image/png": "[encoded data removed]",
      "text/plain": [
       "<Figure size 1152x1296 with 2 Axes>"
      ]
     },
     "metadata": {
      "needs_background": "light"
     },
     "output_type": "display_data"
    }
   ],
   "source": [
    "plt.figure(figsize = (16,18))\n",
    "model4.condensed_tree_.plot(select_clusters=True, selection_palette=sns.color_palette())\n",
    "plt.show()"
   ]
  },
  {
   "cell_type": "markdown",
   "metadata": {},
   "source": [
    "# Clustering on UMAP Embedding"
   ]
  },
  {
   "cell_type": "code",
   "execution_count": 88,
   "metadata": {},
   "outputs": [],
   "source": [
    "from denseclus import DenseClus"
   ]
  },
  {
   "cell_type": "code",
   "execution_count": 89,
   "metadata": {},
   "outputs": [],
   "source": [
    "clf = DenseClus(umap_combine_method='intersection_union_mapper')"
   ]
  },
  {
   "cell_type": "code",
   "execution_count": 92,
   "metadata": {},
   "outputs": [],
   "source": [
    "def preprocess_ep_UMAP(ep_plays):\n",
    "    '''\n",
    "    This function the ExtraPoint dataframe for clustering.\n",
    "\n",
    "    Parameters:\n",
    "    -----------\n",
    "    ep_plays - ExtraPoint dataframe\n",
    "    ...\n",
    "\n",
    "    Returns:\n",
    "    -----------\n",
    "    ep_scale - processed ExtraPoint dataframe\n",
    "\n",
    "    '''\n",
    "    #reduce number of columns to those with numeric values or one-hot-encode the categoricals\n",
    "    useful_cols = ['specialTeamsResult', 'yardlineNumber', 'gameClockSeconds', \n",
    "                   'penaltyCodes', 'penaltyYards', 'preSnapHomeScore', \n",
    "                   'preSnapVisitorScore', 'kicker_height', 'kicker_weight', #'expected_endzone_y', \n",
    "                   'endzone_y', 'endzone_y_error','endzone_y_off_center']\n",
    "    \n",
    "    columns = ep_plays.columns\n",
    "    \n",
    "    useful_cols.extend(col for col in columns if 'kicker_core_dist' in col)\n",
    "    \n",
    "    #useful_cols with blockers\n",
    "    #useful_cols = ['specialTeamsResult', 'yardlineNumber', 'gameClockSeconds', \n",
    "                 #   'penaltyCodes', 'penaltyYards', 'preSnapHomeScore', 'preSnapVisitorScore', \n",
    "                # 'kicker_height', 'kicker_weight', 'blocker_height', 'blocker_weight',\n",
    "                # 'expected_endzone_y', 'endzone_y', 'kicker_core_dist']\n",
    "                \n",
    "    #need to drop nulls for clustering\n",
    "    ep_df = ep_plays[useful_cols].dropna()\n",
    "    #one-hot-encode SpecialTeamsResult and penaltyCodes\n",
    "    #le_str = LabelEncoder()\n",
    "    #le_pc = LabelEncoder()\n",
    "    #ohe_str = le_str.fit_transform(ep_df['specialTeamsResult'])\n",
    "    #ohe_pc = le_pc.fit_transform(ep_df['penaltyCodes'])\n",
    "    new_eps = ep_df.drop(['specialTeamsResult', 'penaltyCodes'], axis=1)\n",
    "    #new_eps['specialTeamsResult'] = ohe_str\n",
    "    #new_eps['penaltyCodes'] = ohe_pc\n",
    "    \n",
    "    #scale data, but only non-categorical columns\n",
    "    scale = StandardScaler()\n",
    "    ep_scale = scale.fit_transform(new_eps)\n",
    "    #TO-DO QUESTION: do we want to scale categoricals too? No\n",
    "    \n",
    "    #make this back into a data frame\n",
    "    ep_scale = pd.DataFrame(ep_scale, columns = new_eps.columns)\n",
    "    \n",
    "    #add categorical columns back\n",
    "    ep_scale['specialTeamsResult'] = ep_df['specialTeamsResult']\n",
    "    ep_scale['penaltyCodes'] = ep_df['penaltyCodes']\n",
    "    #we are running a distance dependent algorithm\n",
    "    \n",
    "    return ep_scale, ep_df"
   ]
  },
  {
   "cell_type": "code",
   "execution_count": 93,
   "metadata": {},
   "outputs": [],
   "source": [
    "#just in case our data frame got messed up\n",
    "ep_scale_UMAP, ep_df_UMAP = preprocess_ep_UMAP(extra_point_df)"
   ]
  },
  {
   "cell_type": "code",
   "execution_count": 94,
   "metadata": {},
   "outputs": [
    {
     "name": "stderr",
     "output_type": "stream",
     "text": [
      "/home/kenneth/anaconda3/envs/nfl-env/lib/python3.8/site-packages/umap/umap_.py:1802: UserWarning: gradient function is not yet implemented for dice distance metric; inverse_transform will be unavailable\n",
      "  warn(\n"
     ]
    }
   ],
   "source": [
    "clf.fit(ep_df_UMAP)"
   ]
  },
  {
   "cell_type": "code",
   "execution_count": 95,
   "metadata": {},
   "outputs": [],
   "source": [
    "ep_df_UMAP['dc_cluster_id'] = clf.score()"
   ]
  },
  {
   "cell_type": "code",
   "execution_count": 96,
   "metadata": {},
   "outputs": [
    {
     "data": {
      "text/plain": [
       "1"
      ]
     },
     "execution_count": 96,
     "metadata": {},
     "output_type": "execute_result"
    }
   ],
   "source": [
    "clf.score().max()"
   ]
  },
  {
   "cell_type": "code",
   "execution_count": 97,
   "metadata": {},
   "outputs": [],
   "source": [
    "clusterUMAP_0 = ep_df_UMAP[ep_df_UMAP['dc_cluster_id']==0]\n",
    "clusterUMAP_1 = ep_df_UMAP[ep_df_UMAP['dc_cluster_id']==1]\n",
    "#clusterUMAP_2 = ep_df_UMAP[ep_df_UMAP['dc_cluster_id']==2]\n",
    "#clusterUMAP_3 = ep_df_UMAP[ep_df_UMAP['dc_cluster_id']==2]\n",
    "\n",
    "outliersUMAP = ep_df_UMAP[ep_df_UMAP['dc_cluster_id']==-1]"
   ]
  },
  {
   "cell_type": "code",
   "execution_count": 98,
   "metadata": {},
   "outputs": [
    {
     "name": "stdout",
     "output_type": "stream",
     "text": [
      "Kick Attempt Good       2890\n",
      "Blocked Kick Attempt       4\n",
      "Name: specialTeamsResult, dtype: int64\n",
      "\n",
      "Kick Attempt No Good    153\n",
      "Kick Attempt Good         6\n",
      "Blocked Kick Attempt      1\n",
      "Name: specialTeamsResult, dtype: int64\n",
      "\n",
      "\n",
      "Kick Attempt Good       113\n",
      "Kick Attempt No Good     35\n",
      "Blocked Kick Attempt      1\n",
      "Name: specialTeamsResult, dtype: int64\n"
     ]
    }
   ],
   "source": [
    "print(clusterUMAP_0['specialTeamsResult'].value_counts())\n",
    "print()\n",
    "print(clusterUMAP_1['specialTeamsResult'].value_counts())\n",
    "print()\n",
    "\n",
    "print()\n",
    "print(outliersUMAP['specialTeamsResult'].value_counts())"
   ]
  },
  {
   "cell_type": "code",
   "execution_count": 99,
   "metadata": {},
   "outputs": [],
   "source": [
    "import matplotlib.pyplot as plt"
   ]
  },
  {
   "cell_type": "code",
   "execution_count": 100,
   "metadata": {},
   "outputs": [],
   "source": [
    "clf_scale = DenseClus(umap_combine_method='intersection_union_mapper')"
   ]
  },
  {
   "cell_type": "code",
   "execution_count": 193,
   "metadata": {},
   "outputs": [
    {
     "name": "stderr",
     "output_type": "stream",
     "text": [
      "/home/kenneth/anaconda3/envs/nfl-env/lib/python3.8/site-packages/umap/umap_.py:1802: UserWarning: gradient function is not yet implemented for dice distance metric; inverse_transform will be unavailable\n",
      "  warn(\n"
     ]
    }
   ],
   "source": [
    "clf_scale.fit(ep_df_UMAP)"
   ]
  },
  {
   "cell_type": "code",
   "execution_count": 194,
   "metadata": {},
   "outputs": [],
   "source": [
    "ep_df_UMAP['dc_cluster_id'] = clf_scale.score()"
   ]
  },
  {
   "cell_type": "code",
   "execution_count": 195,
   "metadata": {},
   "outputs": [
    {
     "data": {
      "text/plain": [
       "2"
      ]
     },
     "execution_count": 195,
     "metadata": {},
     "output_type": "execute_result"
    }
   ],
   "source": [
    "clf_scale.score().max()"
   ]
  },
  {
   "cell_type": "code",
   "execution_count": 196,
   "metadata": {},
   "outputs": [],
   "source": [
    "clusterUMAP_0 = ep_df_UMAP[ep_df_UMAP['dc_cluster_id']==0]\n",
    "clusterUMAP_1 = ep_df_UMAP[ep_df_UMAP['dc_cluster_id']==1]\n",
    "clusterUMAP_2 = ep_df_UMAP[ep_df_UMAP['dc_cluster_id']==2]\n",
    "#clusterUMAP_3 = ep_df_UMAP[ep_df_UMAP['dc_cluster_id']==2]\n",
    "\n",
    "outliersUMAP = ep_df_UMAP[ep_df_UMAP['dc_cluster_id']==-1]"
   ]
  },
  {
   "cell_type": "code",
   "execution_count": 197,
   "metadata": {},
   "outputs": [
    {
     "name": "stdout",
     "output_type": "stream",
     "text": [
      "Kick Attempt No Good    119\n",
      "Kick Attempt Good        13\n",
      "Blocked Kick Attempt      2\n",
      "Name: specialTeamsResult, dtype: int64\n",
      "\n",
      "Kick Attempt Good    887\n",
      "Name: specialTeamsResult, dtype: int64\n",
      "\n",
      "Kick Attempt Good       1979\n",
      "Kick Attempt No Good       4\n",
      "Blocked Kick Attempt       4\n",
      "Name: specialTeamsResult, dtype: int64\n",
      "\n",
      "\n",
      "Kick Attempt Good       130\n",
      "Kick Attempt No Good     65\n",
      "Name: specialTeamsResult, dtype: int64\n"
     ]
    }
   ],
   "source": [
    "print(clusterUMAP_0['specialTeamsResult'].value_counts())\n",
    "print()\n",
    "print(clusterUMAP_1['specialTeamsResult'].value_counts())\n",
    "print()\n",
    "print(clusterUMAP_2['specialTeamsResult'].value_counts())\n",
    "print()\n",
    "\n",
    "print()\n",
    "print(outliersUMAP['specialTeamsResult'].value_counts())"
   ]
  },
  {
   "cell_type": "code",
   "execution_count": 198,
   "metadata": {},
   "outputs": [
    {
     "name": "stderr",
     "output_type": "stream",
     "text": [
      "/home/kenneth/anaconda3/envs/nfl-env/lib/python3.8/site-packages/umap/umap_.py:1802: UserWarning: gradient function is not yet implemented for dice distance metric; inverse_transform will be unavailable\n",
      "  warn(\n"
     ]
    }
   ],
   "source": [
    "numerical_embedding = clf_scale.numerical_umap_.fit_transform(ep_scale)\n",
    "categorical_embedding = clf_scale.categorical_umap_.fit_transform(ep_scale)"
   ]
  },
  {
   "cell_type": "code",
   "execution_count": 199,
   "metadata": {},
   "outputs": [],
   "source": [
    "numerical_df = pd.DataFrame(numerical_embedding, columns=['x','y','z'])"
   ]
  },
  {
   "cell_type": "code",
   "execution_count": 200,
   "metadata": {},
   "outputs": [],
   "source": [
    "numerical_df['cluster_id'] = clf_scale.score()"
   ]
  },
  {
   "cell_type": "code",
   "execution_count": 201,
   "metadata": {},
   "outputs": [],
   "source": [
    "groups = numerical_df.groupby('cluster_id')"
   ]
  },
  {
   "cell_type": "code",
   "execution_count": 202,
   "metadata": {},
   "outputs": [
    {
     "name": "stderr",
     "output_type": "stream",
     "text": [
      "/home/kenneth/anaconda3/envs/nfl-env/lib/python3.8/site-packages/matplotlib/collections.py:1003: RuntimeWarning: invalid value encountered in sqrt\n",
      "  scale = np.sqrt(self._sizes) * dpi / 72.0 * self._factor\n"
     ]
    },
    {
     "data": {
      "image/png": "[encoded data removed]",
      "text/plain": [
       "<Figure size 864x864 with 1 Axes>"
      ]
     },
     "metadata": {
      "needs_background": "light"
     },
     "output_type": "display_data"
    }
   ],
   "source": [
    "fig = plt.figure(figsize=(12,12))\n",
    "ax = fig.add_subplot(projection='3d')\n",
    "\n",
    "for name, group in groups:\n",
    "    plt.scatter(group.x, group.y, group.z, marker='.', label=name)\n",
    "\n",
    "plt.savefig('umap_scale_embedding.png')"
   ]
  },
  {
   "cell_type": "markdown",
   "metadata": {},
   "source": [
    "## Clustering Without Results Labels"
   ]
  },
  {
   "cell_type": "code",
   "execution_count": 156,
   "metadata": {},
   "outputs": [],
   "source": [
    "ep_df_no_labels = ep_scale_UMAP.drop(columns=['specialTeamsResult'])"
   ]
  },
  {
   "cell_type": "code",
   "execution_count": 157,
   "metadata": {},
   "outputs": [],
   "source": [
    "clf_nl = DenseClus(umap_combine_method='intersection_union_mapper')"
   ]
  },
  {
   "cell_type": "code",
   "execution_count": 158,
   "metadata": {},
   "outputs": [
    {
     "name": "stderr",
     "output_type": "stream",
     "text": [
      "/home/kenneth/anaconda3/envs/nfl-env/lib/python3.8/site-packages/umap/umap_.py:1802: UserWarning: gradient function is not yet implemented for dice distance metric; inverse_transform will be unavailable\n",
      "  warn(\n",
      "/home/kenneth/anaconda3/envs/nfl-env/lib/python3.8/site-packages/umap/umap_.py:125: UserWarning: A few of your vertices were disconnected from the manifold.  This shouldn't cause problems.\n",
      "Disconnection_distance = 1 has removed 529458 edges.\n",
      "It has only fully disconnected 3 vertices.\n",
      "Use umap.utils.disconnected_vertices() to identify them.\n",
      "  warn(\n"
     ]
    }
   ],
   "source": [
    "clf_nl.fit(ep_df_no_labels)"
   ]
  },
  {
   "cell_type": "code",
   "execution_count": 159,
   "metadata": {},
   "outputs": [],
   "source": [
    "ep_df_UMAP['nl_cluster_id'] = clf_nl.score()"
   ]
  },
  {
   "cell_type": "code",
   "execution_count": 160,
   "metadata": {},
   "outputs": [
    {
     "data": {
      "text/plain": [
       "-1"
      ]
     },
     "execution_count": 160,
     "metadata": {},
     "output_type": "execute_result"
    }
   ],
   "source": [
    "clf_nl.score().max()"
   ]
  },
  {
   "cell_type": "code",
   "execution_count": 161,
   "metadata": {},
   "outputs": [],
   "source": [
    "numerical_embedding = clf_nl.numerical_umap_.fit_transform(ep_scale)\n",
    "numerical_df = pd.DataFrame(numerical_embedding, columns=['x','y','z'])\n",
    "numerical_df['cluster_id'] = clf_nl.score()\n",
    "groups = numerical_df.groupby('cluster_id')"
   ]
  },
  {
   "cell_type": "code",
   "execution_count": 162,
   "metadata": {},
   "outputs": [
    {
     "name": "stderr",
     "output_type": "stream",
     "text": [
      "/home/kenneth/anaconda3/envs/nfl-env/lib/python3.8/site-packages/matplotlib/collections.py:1003: RuntimeWarning: invalid value encountered in sqrt\n",
      "  scale = np.sqrt(self._sizes) * dpi / 72.0 * self._factor\n"
     ]
    },
    {
     "data": {
      "image/png": "[encoded data removed]",
      "text/plain": [
       "<Figure size 864x864 with 1 Axes>"
      ]
     },
     "metadata": {
      "needs_background": "light"
     },
     "output_type": "display_data"
    }
   ],
   "source": [
    "fig = plt.figure(figsize=(12,12))\n",
    "ax = fig.add_subplot(projection='3d')\n",
    "\n",
    "for name, group in groups:\n",
    "    plt.scatter(group.x, group.y, group.z, marker='.', label=name)\n",
    "\n",
    "plt.savefig('umap_scale_embedding.png')"
   ]
  },
  {
   "cell_type": "code",
   "execution_count": null,
   "metadata": {},
   "outputs": [],
   "source": []
  },
  {
   "cell_type": "code",
   "execution_count": null,
   "metadata": {},
   "outputs": [],
   "source": []
  },
  {
   "cell_type": "markdown",
   "metadata": {},
   "source": [
    "## Interrogating Results"
   ]
  },
  {
   "cell_type": "code",
   "execution_count": 119,
   "metadata": {},
   "outputs": [],
   "source": [
    "import numpy as np"
   ]
  },
  {
   "cell_type": "code",
   "execution_count": 125,
   "metadata": {},
   "outputs": [],
   "source": [
    "error0 = clusterUMAP_0['endzone_y_error'][clusterUMAP_0['endzone_y_error'] <= 10]\n",
    "error1 = clusterUMAP_1['endzone_y_error'][clusterUMAP_1['endzone_y_error'] <= 10]"
   ]
  },
  {
   "cell_type": "code",
   "execution_count": 132,
   "metadata": {},
   "outputs": [
    {
     "data": {
      "text/plain": [
       "<matplotlib.legend.Legend at 0x7fb1430cc880>"
      ]
     },
     "execution_count": 132,
     "metadata": {},
     "output_type": "execute_result"
    },
    {
     "data": {
      "image/png": "[encoded data removed]",
      "text/plain": [
       "<Figure size 864x648 with 1 Axes>"
      ]
     },
     "metadata": {
      "needs_background": "light"
     },
     "output_type": "display_data"
    }
   ],
   "source": [
    "plt.figure(figsize=(12,9))\n",
    "plt.hist(error0, bins = np.arange(30)/3, weights=np.ones(len(error0)) / len(error0), alpha=0.5, label = 'Good')\n",
    "plt.hist(error1, bins = np.arange(30)/3, weights=np.ones(len(error1)) / len(error1), alpha=0.5, label = 'No Good')\n",
    "plt.legend()"
   ]
  },
  {
   "cell_type": "code",
   "execution_count": null,
   "metadata": {},
   "outputs": [],
   "source": []
  }
 ],
 "metadata": {
  "kernelspec": {
   "display_name": "Python 3",
   "language": "python",
   "name": "python3"
  },
  "language_info": {
   "codemirror_mode": {
    "name": "ipython",
    "version": 3
   },
   "file_extension": ".py",
   "mimetype": "text/x-python",
   "name": "python",
   "nbconvert_exporter": "python",
   "pygments_lexer": "ipython3",
   "version": "3.8.12"
  }
 },
 "nbformat": 4,
 "nbformat_minor": 4
}
