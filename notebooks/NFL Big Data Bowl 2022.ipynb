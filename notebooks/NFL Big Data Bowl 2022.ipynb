{
 "cells": [
  {
   "cell_type": "markdown",
   "id": "3336cef8",
   "metadata": {},
   "source": [
    "# NFL Big Data Bowl 2022\n",
    "\n",
    "We begin with importing some useful packages for data cleaning and preprocessing."
   ]
  },
  {
   "cell_type": "code",
   "execution_count": 1,
   "id": "a9d0c24e",
   "metadata": {},
   "outputs": [],
   "source": [
    "import pandas as pd\n",
    "import numpy as np\n",
    "import matplotlib.pyplot as plt\n",
    "import seaborn as sns\n",
    "\n",
    "sns.set_style(\"darkgrid\")"
   ]
  },
  {
   "cell_type": "markdown",
   "id": "b2527cf4",
   "metadata": {},
   "source": [
    "Now to read in our files and begin data cleaning and preprocessing.\n",
    "\n",
    "Note we have 7 files from the competetition hosts: \n",
    "- Game Data: games.csv, the data for each game (season, date & time, location, home and visitor teams), key variable is `gameID`.\n",
    "- PFF Scouting Data: PFFScoutingData.csv, \"play-level scouting information for each game\", key variables are `gameID` and `playID` (note `nflID` not included).\n",
    "- Player Data: players.csv, information for each player (height, weight, birth, college, position, name), key variable is `nflID` (also includes `gameID` and `playID`).\n",
    "- Play Data: plays.csv, \"play-level information from each game\", key variables are `gameID` and `playID`.\n",
    "- Tracking Data: tracking2018.csv, tracking 2019.csv, and tracking2020.csv. Each contains \"player tracking data\" from the indicated season, key variables are `gameID`, `nflID`, and `playID`."
   ]
  },
  {
   "cell_type": "code",
   "execution_count": 8,
   "id": "969ad52d",
   "metadata": {},
   "outputs": [],
   "source": [
    "games = pd.read_csv(\"/../../../nfl-big-data-bowl-2022/games.csv\")\n",
    "\n",
    "scout = pd.read_csv(\"/../../../nfl-big-data-bowl-2022/PFFScoutingData.csv\")\n",
    "\n",
    "players = pd.read_csv(\"/../../../nfl-big-data-bowl-2022/players.csv\")\n",
    "\n",
    "play = pd.read_csv(\"/../../../nfl-big-data-bowl-2022/plays.csv\")\n",
    "\n",
    "track18 = pd.read_csv(\"/../../../nfl-big-data-bowl-2022/tracking2018.csv\")\n",
    "track19 = pd.read_csv(\"/../../../nfl-big-data-bowl-2022/tracking2019.csv\")\n",
    "track20 = pd.read_csv(\"/../../../nfl-big-data-bowl-2022/tracking2020.csv\")"
   ]
  },
  {
   "cell_type": "markdown",
   "id": "6683b96a",
   "metadata": {},
   "source": [
    "Check each DataFrame for missing values"
   ]
  },
  {
   "cell_type": "code",
   "execution_count": 9,
   "id": "f69abbb8",
   "metadata": {},
   "outputs": [
    {
     "data": {
      "text/plain": [
       "gameId             0\n",
       "season             0\n",
       "week               0\n",
       "gameDate           0\n",
       "gameTimeEastern    0\n",
       "homeTeamAbbr       0\n",
       "visitorTeamAbbr    0\n",
       "dtype: int64"
      ]
     },
     "execution_count": 9,
     "metadata": {},
     "output_type": "execute_result"
    }
   ],
   "source": [
    "games.isnull().sum()"
   ]
  },
  {
   "cell_type": "markdown",
   "id": "3f983f11",
   "metadata": {},
   "source": [
    "games is fine."
   ]
  },
  {
   "cell_type": "code",
   "execution_count": 10,
   "id": "3f42ab6a",
   "metadata": {},
   "outputs": [
    {
     "data": {
      "text/plain": [
       "gameId                         0\n",
       "playId                         0\n",
       "snapDetail                 14060\n",
       "snapTime                   14061\n",
       "operationTime              14061\n",
       "hangTime                    6881\n",
       "kickType                    6256\n",
       "kickDirectionIntended       6278\n",
       "kickDirectionActual         6278\n",
       "returnDirectionIntended    15225\n",
       "returnDirectionActual      15223\n",
       "missedTackler              18631\n",
       "assistTackler              18945\n",
       "tackler                    15220\n",
       "kickoffReturnFormation     12136\n",
       "gunners                    14078\n",
       "puntRushers                16969\n",
       "specialTeamsSafeties        4042\n",
       "vises                      14101\n",
       "kickContactType            14100\n",
       "dtype: int64"
      ]
     },
     "execution_count": 10,
     "metadata": {},
     "output_type": "execute_result"
    }
   ],
   "source": [
    "scout.isnull().sum()"
   ]
  },
  {
   "cell_type": "code",
   "execution_count": 11,
   "id": "e0dab362",
   "metadata": {},
   "outputs": [
    {
     "data": {
      "text/plain": [
       "nflId           0\n",
       "height          0\n",
       "weight          0\n",
       "birthDate      17\n",
       "collegeName     8\n",
       "Position        0\n",
       "displayName     0\n",
       "dtype: int64"
      ]
     },
     "execution_count": 11,
     "metadata": {},
     "output_type": "execute_result"
    }
   ],
   "source": [
    "players.isnull().sum()"
   ]
  },
  {
   "cell_type": "markdown",
   "id": "95909605",
   "metadata": {},
   "source": [
    "birthDate and collegeName have nulls."
   ]
  },
  {
   "cell_type": "code",
   "execution_count": 12,
   "id": "1b16c40d",
   "metadata": {},
   "outputs": [
    {
     "data": {
      "text/plain": [
       "gameId                        0\n",
       "playId                        0\n",
       "playDescription               0\n",
       "quarter                       0\n",
       "down                          0\n",
       "yardsToGo                     0\n",
       "possessionTeam                0\n",
       "specialTeamsPlayType          0\n",
       "specialTeamsResult            0\n",
       "kickerId                    101\n",
       "returnerId                13041\n",
       "kickBlockerId             19879\n",
       "yardlineSide                166\n",
       "yardlineNumber                0\n",
       "gameClock                     0\n",
       "penaltyCodes              18877\n",
       "penaltyJerseyNumbers      18877\n",
       "penaltyYards              18877\n",
       "preSnapHomeScore              0\n",
       "preSnapVisitorScore           0\n",
       "passResult                19934\n",
       "kickLength                 3652\n",
       "kickReturnYardage         14655\n",
       "playResult                    0\n",
       "absoluteYardlineNumber        0\n",
       "dtype: int64"
      ]
     },
     "execution_count": 12,
     "metadata": {},
     "output_type": "execute_result"
    }
   ],
   "source": [
    "play.isnull().sum()"
   ]
  },
  {
   "cell_type": "code",
   "execution_count": 13,
   "id": "4044cc2b",
   "metadata": {},
   "outputs": [
    {
     "data": {
      "text/plain": [
       "time                  0\n",
       "x                     0\n",
       "y                     0\n",
       "s                     0\n",
       "a                     0\n",
       "dis                   0\n",
       "o                555537\n",
       "dir              555537\n",
       "event                 0\n",
       "nflId            555537\n",
       "displayName           0\n",
       "jerseyNumber     555537\n",
       "position         555537\n",
       "team                  0\n",
       "frameId               0\n",
       "gameId                0\n",
       "playId                0\n",
       "playDirection         0\n",
       "dtype: int64"
      ]
     },
     "execution_count": 13,
     "metadata": {},
     "output_type": "execute_result"
    }
   ],
   "source": [
    "track18.isnull().sum()"
   ]
  },
  {
   "cell_type": "code",
   "execution_count": 14,
   "id": "dbb51d3e",
   "metadata": {},
   "outputs": [
    {
     "data": {
      "text/plain": [
       "time                  0\n",
       "x                     0\n",
       "y                     0\n",
       "s                     0\n",
       "a                     0\n",
       "dis                   0\n",
       "o                529171\n",
       "dir              529171\n",
       "event                 0\n",
       "nflId            529171\n",
       "displayName           0\n",
       "jerseyNumber     529171\n",
       "position         529171\n",
       "team                  0\n",
       "frameId               0\n",
       "gameId                0\n",
       "playId                0\n",
       "playDirection         0\n",
       "dtype: int64"
      ]
     },
     "execution_count": 14,
     "metadata": {},
     "output_type": "execute_result"
    }
   ],
   "source": [
    "track19.isnull().sum()"
   ]
  },
  {
   "cell_type": "code",
   "execution_count": 15,
   "id": "ee8a6448",
   "metadata": {},
   "outputs": [
    {
     "data": {
      "text/plain": [
       "time                  0\n",
       "x                     0\n",
       "y                     0\n",
       "s                     0\n",
       "a                     0\n",
       "dis                   0\n",
       "o                513987\n",
       "dir              513987\n",
       "event                 0\n",
       "nflId            513987\n",
       "displayName           0\n",
       "jerseyNumber     513987\n",
       "position         513987\n",
       "team                  0\n",
       "frameId               0\n",
       "gameId                0\n",
       "playId                0\n",
       "playDirection         0\n",
       "dtype: int64"
      ]
     },
     "execution_count": 15,
     "metadata": {},
     "output_type": "execute_result"
    }
   ],
   "source": [
    "track20.isnull().sum()"
   ]
  },
  {
   "cell_type": "code",
   "execution_count": null,
   "id": "f742e128",
   "metadata": {},
   "outputs": [],
   "source": [
    "#check if the timestamps for tracking data is evenly spaced"
   ]
  }
 ],
 "metadata": {
  "kernelspec": {
   "display_name": "Python 3",
   "language": "python",
   "name": "python3"
  },
  "language_info": {
   "codemirror_mode": {
    "name": "ipython",
    "version": 3
   },
   "file_extension": ".py",
   "mimetype": "text/x-python",
   "name": "python",
   "nbconvert_exporter": "python",
   "pygments_lexer": "ipython3",
   "version": "3.8.8"
  }
 },
 "nbformat": 4,
 "nbformat_minor": 5
}
