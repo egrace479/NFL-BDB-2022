{
 "cells": [
  {
   "cell_type": "code",
   "execution_count": 1,
   "metadata": {},
   "outputs": [],
   "source": [
    "import pandas as pd\n",
    "import numpy as np "
   ]
  },
  {
   "cell_type": "code",
   "execution_count": 2,
   "metadata": {},
   "outputs": [],
   "source": [
    "#small helper functions\n",
    "\n",
    "def get_game_season(game_id, games):\n",
    "    return games[games['gameId']==game_id]['season'].values[0]"
   ]
  },
  {
   "cell_type": "code",
   "execution_count": 3,
   "metadata": {},
   "outputs": [],
   "source": [
    "def get_play(game_id, play_id, tracking):\n",
    "    '''\n",
    "    This function creates the tracking dataframes.\n",
    "\n",
    "    Parameters:\n",
    "    -----------\n",
    "    game_id, play_id - game and play of interest\n",
    "    tracking - tracking dataframe the that game and play are in\n",
    "    ...\n",
    "\n",
    "    Returns:\n",
    "    -----------\n",
    "    play - dataframe of just the tracking data for the particular play of interest\n",
    "    '''\n",
    "    game = tracking[tracking['gameId'] == game_id]\n",
    "    play_ex = game[game['playId'] == play_id]\n",
    "    \n",
    "    return play_ex"
   ]
  },
  {
   "cell_type": "code",
   "execution_count": 4,
   "metadata": {},
   "outputs": [],
   "source": [
    "def get_kick_attempt_idx_diff(game_id, play_id, track_fp, event):\n",
    "    '''\n",
    "    For a given gameId and playId, return the difference in index between the event as labelled and the maximum speed of the ball.\n",
    "    Note we only use the position of the football to see if the laws of physics are broken.  \n",
    "    \n",
    "    Parameters:\n",
    "    -----------\n",
    "    game_id - gameId of play\n",
    "    play_id - playId of play\n",
    "    track_fp - football-specific tracking dataframe for play type\n",
    "    event - The event type to compute an index difference for\n",
    "\n",
    "    Returns:\n",
    "    --------\n",
    "    idx_diff - The difference in index between the labelled event and the max speed of the ball\n",
    "\n",
    "    '''\n",
    "    # get play and football data, feed track_fp into get_play function to get only football information on the play.\n",
    "    ball_ex = get_play(game_id, play_id, track_fp)\n",
    "\n",
    "    # Return null if desired event not present\n",
    "    if event not in ball_ex['event'].values:\n",
    "        return np.nan\n",
    "\n",
    "    # Compute event index and max ball speed index\n",
    "    event_idx = ball_ex[ball_ex['event']==event].index[0]\n",
    "    max_speed_idx = ball_x['s'].idxmax()\n",
    "\n",
    "    # Compute difference in indices\n",
    "    idx_diff = np.abs(event_idx - max_speed_idx)\n",
    "\n",
    "    return idx_diff"
   ]
  },
  {
   "cell_type": "code",
   "execution_count": 5,
   "metadata": {},
   "outputs": [],
   "source": [
    "def drop_by_index_difference(pt_play, track_fp, event, threshold):\n",
    "    '''\n",
    "    Drop values from play DataFrame according to event-vs-max-speed index difference.\n",
    "\n",
    "    Parameters:\n",
    "    -----------\n",
    "    pt_play - DataFrame containing data for a specific play type (e.g. field goals, extra points)\n",
    "    track_fp - football-specific tracking dataframe for play type\n",
    "    event - The event type to compute index difference for\n",
    "\n",
    "    Returns:\n",
    "    --------\n",
    "    filtered_play_df - play_df with rows dropped according to index difference threshhold\n",
    "\n",
    "    '''\n",
    "\n",
    "    # Create a pandas Series of index differences\n",
    "    index_diff = pt_play.index.map(\n",
    "        lambda x: get_kick_attempt_idx_diff(\n",
    "            pt_play.loc[x]['gameId'],\n",
    "            pt_play.loc[x]['playId'],\n",
    "            track_fp,\n",
    "            event\n",
    "        )\n",
    "    )\n",
    "\n",
    "    index_diff = pd.Series(index_diff, index=play_df.index)\n",
    "\n",
    "    # Filter using the above series as a boolean mask\n",
    "    filtered_pt_play = pt_play[index_diff <= threshold]\n",
    "\n",
    "    return filtered_pt_play"
   ]
  },
  {
   "cell_type": "code",
   "execution_count": null,
   "metadata": {},
   "outputs": [],
   "source": []
  }
 ],
 "metadata": {
  "kernelspec": {
   "display_name": "Python 3",
   "language": "python",
   "name": "python3"
  },
  "language_info": {
   "codemirror_mode": {
    "name": "ipython",
    "version": 3
   },
   "file_extension": ".py",
   "mimetype": "text/x-python",
   "name": "python",
   "nbconvert_exporter": "python",
   "pygments_lexer": "ipython3",
   "version": "3.8.5"
  }
 },
 "nbformat": 4,
 "nbformat_minor": 4
}
