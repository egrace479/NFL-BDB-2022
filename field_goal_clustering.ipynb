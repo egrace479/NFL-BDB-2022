{
 "cells": [
  {
   "cell_type": "markdown",
   "metadata": {},
   "source": [
    "# NFL Big Data Bowl Clustering"
   ]
  },
  {
   "cell_type": "markdown",
   "metadata": {},
   "source": [
    "## Import data"
   ]
  },
  {
   "cell_type": "code",
   "execution_count": 1,
   "metadata": {},
   "outputs": [],
   "source": [
    "import pandas as pd"
   ]
  },
  {
   "cell_type": "code",
   "execution_count": 2,
   "metadata": {},
   "outputs": [],
   "source": [
    "plays = pd.read_csv('Data/nfl-big-data-bowl-2022/plays.csv')\n",
    "games = pd.read_csv('Data/nfl-big-data-bowl-2022/games.csv')\n",
    "players = pd.read_csv('Data/nfl-big-data-bowl-2022/players.csv')\n",
    "tracking2018 = pd.read_csv('Data/nfl-big-data-bowl-2022/tracking2018.csv')\n",
    "tracking2019 = pd.read_csv('Data/nfl-big-data-bowl-2022/tracking2019.csv')\n",
    "tracking2020 = pd.read_csv('Data/nfl-big-data-bowl-2022/tracking2020.csv')"
   ]
  },
  {
   "cell_type": "markdown",
   "metadata": {},
   "source": [
    "## Preprocess Players Data"
   ]
  },
  {
   "cell_type": "code",
   "execution_count": 4,
   "metadata": {},
   "outputs": [],
   "source": [
    "from NFL_BDB_2022.Preprocessing_makers import preprocess_players"
   ]
  },
  {
   "cell_type": "code",
   "execution_count": 5,
   "metadata": {},
   "outputs": [],
   "source": [
    "players_df = preprocess_players(players)"
   ]
  },
  {
   "cell_type": "markdown",
   "metadata": {},
   "source": [
    "## Preprocess Tracking Data"
   ]
  },
  {
   "cell_type": "code",
   "execution_count": 6,
   "metadata": {},
   "outputs": [],
   "source": [
    "from NFL_BDB_2022.Preprocessing_makers import preprocess_tracking, preprocess_football_track"
   ]
  },
  {
   "cell_type": "code",
   "execution_count": 7,
   "metadata": {},
   "outputs": [],
   "source": [
    "fg_tracking_2018, fg_tracking_2019, fg_tracking_2020 = preprocess_tracking(tracking2018, tracking2019, tracking2020, plays, 'Field Goal')"
   ]
  },
  {
   "cell_type": "code",
   "execution_count": 8,
   "metadata": {},
   "outputs": [],
   "source": [
    "fg_tracking_ball = preprocess_football_track(fg_tracking_2018, fg_tracking_2019, fg_tracking_2020)"
   ]
  },
  {
   "cell_type": "markdown",
   "metadata": {},
   "source": [
    "## Preprocess Play Data"
   ]
  },
  {
   "cell_type": "code",
   "execution_count": 9,
   "metadata": {},
   "outputs": [],
   "source": [
    "from NFL_BDB_2022.Preprocessing_makers import preprocess_play\n",
    "from NFL_BDB_2022.Cleaning_data import drop_by_index_difference"
   ]
  },
  {
   "cell_type": "code",
   "execution_count": 10,
   "metadata": {},
   "outputs": [],
   "source": [
    "play_df = preprocess_play(plays)"
   ]
  },
  {
   "cell_type": "code",
   "execution_count": 11,
   "metadata": {},
   "outputs": [],
   "source": [
    "play_df = drop_by_index_difference(play_df, fg_tracking_ball, 'field_goal_attempt')"
   ]
  },
  {
   "cell_type": "markdown",
   "metadata": {},
   "source": [
    "## Make Field Goal DataFrame"
   ]
  },
  {
   "cell_type": "code",
   "execution_count": 12,
   "metadata": {},
   "outputs": [],
   "source": [
    "from NFL_BDB_2022.Preprocessing_makers import make_fieldGoal"
   ]
  },
  {
   "cell_type": "code",
   "execution_count": 13,
   "metadata": {},
   "outputs": [],
   "source": [
    "field_goal_df = make_fieldGoal(play_df, players_df)"
   ]
  },
  {
   "cell_type": "markdown",
   "metadata": {},
   "source": [
    "## Feature Engineering"
   ]
  },
  {
   "cell_type": "code",
   "execution_count": 14,
   "metadata": {},
   "outputs": [],
   "source": [
    "from NFL_BDB_2022.Feature_engineering import endzone_y_pos, expected_endzone_y_pos, kicker_core_dist"
   ]
  },
  {
   "cell_type": "markdown",
   "metadata": {},
   "source": [
    "### Fieldgoal Y-Position"
   ]
  },
  {
   "cell_type": "code",
   "execution_count": 15,
   "metadata": {},
   "outputs": [],
   "source": [
    "field_goal_df = endzone_y_pos(field_goal_df, fg_tracking_ball)"
   ]
  },
  {
   "cell_type": "markdown",
   "metadata": {},
   "source": [
    "### Fieldgoal Trajectory Position"
   ]
  },
  {
   "cell_type": "code",
   "execution_count": 16,
   "metadata": {},
   "outputs": [],
   "source": [
    "attempts_df = field_goal_df[field_goal_df['specialTeamsResult'].isin(['Kick Attempt Good', 'Kick Attempt No Good'])]"
   ]
  },
  {
   "cell_type": "code",
   "execution_count": 17,
   "metadata": {},
   "outputs": [],
   "source": [
    "attempts_ids = attempts_df[['gameId', 'playId']]"
   ]
  },
  {
   "cell_type": "code",
   "execution_count": 18,
   "metadata": {},
   "outputs": [],
   "source": [
    "attempts_tracking = pd.merge(attempts_ids, fg_tracking_ball, left_on = ['gameId', 'playId'], right_on = ['gameId', 'playId'])"
   ]
  },
  {
   "cell_type": "code",
   "execution_count": 19,
   "metadata": {},
   "outputs": [],
   "source": [
    "attempts_event = attempts_tracking[attempts_tracking['event']=='field_goal_attempt']"
   ]
  },
  {
   "cell_type": "code",
   "execution_count": 20,
   "metadata": {},
   "outputs": [
    {
     "name": "stderr",
     "output_type": "stream",
     "text": [
      "/tmp/ipykernel_32430/3006702610.py:1: SettingWithCopyWarning: \n",
      "A value is trying to be set on a copy of a slice from a DataFrame.\n",
      "Try using .loc[row_indexer,col_indexer] = value instead\n",
      "\n",
      "See the caveats in the documentation: https://pandas.pydata.org/pandas-docs/stable/user_guide/indexing.html#returning-a-view-versus-a-copy\n",
      "  attempts_event['mergeId'] = attempts_event['gameId'].astype(str) + attempts_event['playId'].astype(str)\n",
      "/tmp/ipykernel_32430/3006702610.py:2: SettingWithCopyWarning: \n",
      "A value is trying to be set on a copy of a slice from a DataFrame.\n",
      "Try using .loc[row_indexer,col_indexer] = value instead\n",
      "\n",
      "See the caveats in the documentation: https://pandas.pydata.org/pandas-docs/stable/user_guide/indexing.html#returning-a-view-versus-a-copy\n",
      "  attempts_ids['mergeId'] = attempts_ids['gameId'].astype(str) + attempts_ids['playId'].astype(str)\n"
     ]
    }
   ],
   "source": [
    "attempts_event['mergeId'] = attempts_event['gameId'].astype(str) + attempts_event['playId'].astype(str)\n",
    "attempts_ids['mergeId'] = attempts_ids['gameId'].astype(str) + attempts_ids['playId'].astype(str)"
   ]
  },
  {
   "cell_type": "code",
   "execution_count": 21,
   "metadata": {},
   "outputs": [],
   "source": [
    "indices_to_drop = attempts_ids[~attempts_ids['mergeId'].isin(attempts_event['mergeId'])].index"
   ]
  },
  {
   "cell_type": "code",
   "execution_count": 22,
   "metadata": {},
   "outputs": [],
   "source": [
    "#fg_tracking_ball[(fg_tracking_ball['gameId']==2018122302) & (fg_tracking_ball['playId']==1858)]"
   ]
  },
  {
   "cell_type": "code",
   "execution_count": 23,
   "metadata": {},
   "outputs": [],
   "source": [
    "#fg_tracking_ball = fg_tracking_ball.drop(indices_to_drop)"
   ]
  },
  {
   "cell_type": "code",
   "execution_count": 24,
   "metadata": {},
   "outputs": [],
   "source": [
    "attempts_df = attempts_df.drop(indices_to_drop)"
   ]
  },
  {
   "cell_type": "code",
   "execution_count": 25,
   "metadata": {},
   "outputs": [
    {
     "name": "stderr",
     "output_type": "stream",
     "text": [
      "/home/kenneth/Documents/NFL/NFL_BDB_2022/Feature_engineering.py:188: RuntimeWarning: invalid value encountered in double_scalars\n",
      "  m = (y2-y1)/(x2-x1)\n"
     ]
    }
   ],
   "source": [
    "attempts_df = expected_endzone_y_pos(attempts_df, fg_tracking_ball, 'field_goal_attempt')"
   ]
  },
  {
   "cell_type": "markdown",
   "metadata": {},
   "source": [
    "### Kicker Core Distance"
   ]
  },
  {
   "cell_type": "markdown",
   "metadata": {},
   "source": [
    "While performing this compute, I discovered that it is apparently possible for a kicker not to be present for a play (???????????).\n",
    "\n",
    "For an example of where this occurs, check out `gameId = 2019091502` and `playId = 2075` in the 2019 tracking data."
   ]
  },
  {
   "cell_type": "code",
   "execution_count": 42,
   "metadata": {},
   "outputs": [],
   "source": [
    "import numpy as np\n",
    "\n",
    "def get_play(game_id, play_id, tracking):\n",
    "    '''\n",
    "    This function creates the tracking dataframes.\n",
    "\n",
    "    Parameters:\n",
    "    -----------\n",
    "    game_id, play_id - game and play of interest\n",
    "    tracking - tracking dataframe the that game and play are in\n",
    "    ...\n",
    "\n",
    "    Returns:\n",
    "    -----------\n",
    "    play - dataframe of just the tracking data for the particular play of interest\n",
    "    '''\n",
    "    game = tracking[tracking['gameId'] == game_id]\n",
    "    play_ex = game[game['playId'] == play_id]\n",
    "    \n",
    "    return play_ex\n",
    "\n",
    "\n",
    "# In[ ]:\n",
    "\n",
    "\n",
    "def get_event(game_id, play_id, track_fp, event):\n",
    "    '''\n",
    "    This function creates a small dataframe for football tracking around the event.\n",
    "\n",
    "    Parameters:\n",
    "    -----------\n",
    "    game_id, play_id - game and play of interest\n",
    "    track_fp - football-specific tracking dataframe for play type\n",
    "    event - string of the event that we want to find, i.e., 'extra_point_attempt'\n",
    "    ...\n",
    "\n",
    "    Returns:\n",
    "    -----------\n",
    "    event_df - 11-row dataframe of tracking data around the event\n",
    "    event_index - the index of the moment of the kick based on max velocity\n",
    "    #frame_id - frameId of event\n",
    "    '''\n",
    "    play_ex = get_play(game_id, play_id, track_fp)\n",
    "    \n",
    "    index = play_ex.index[play_ex['event']== event].values[0]\n",
    "    event_df = play_ex.loc[index-5:index+5,:]\n",
    "    event_index = event_df['s'].idxmax()\n",
    "\n",
    "    if event_index == event_df.index[-1]:\n",
    "        event_df = play_ex.loc[index-10:index+10,:]\n",
    "        \n",
    "    #frame_id = play_ex.loc[event_index]['frameId']\n",
    "    \n",
    "    return event_df, event_index\n",
    "\n",
    "def l2_norm(x1, y1, x2, y2):\n",
    "    # Computes euclidean distance between two points\n",
    "    return np.sqrt(np.square(x1-x2) + np.square(y1-y2))\n",
    "\n",
    "def get_opposing_team(kicking_team):\n",
    "    # Returns label of opposing team\n",
    "    return 'home' if kicking_team == 'away' else 'away'\n",
    "\n",
    "def compute_kicker_core_dist(game_id, play_id, tracking, track_fp, event, k=5):\n",
    "    '''\n",
    "    Compute core distance from kicker to players on opposing team\n",
    "\n",
    "    Parameters:\n",
    "    -----------\n",
    "    game_id - gameId of play\n",
    "    play_id - playId of play\n",
    "    tracking - Tracking data containing relevant play\n",
    "    k - Number of nearest neighbors to check (returns distance of k-th nearest player)\n",
    "    #we seem to need track_fp to get the event of the kick\n",
    "\n",
    "    Returns:\n",
    "    --------\n",
    "    core_distance - The core distance from kicker to players on opposing team\n",
    "\n",
    "    '''\n",
    "\n",
    "    # Get play and event data\n",
    "    play_ex = get_play(game_id, play_id, tracking)\n",
    "    event_df, event_index = get_event(game_id, play_id, track_fp, event)\n",
    "\n",
    "    \n",
    "    # Get all play data at the time of the kick\n",
    "    kick_frame = event_df.loc[event_index]['frameId']\n",
    "    kick_tracking = play_ex[play_ex['frameId']==kick_frame]\n",
    "\n",
    "    # Get data from players on opposing team\n",
    "    try:\n",
    "        kicking_team = kick_tracking[kick_tracking['position']=='K']['team'].values[0]\n",
    "    except IndexError:\n",
    "\n",
    "        '''\n",
    "        Apparently there are cases in which a kicker isn't present (???)\n",
    "        so if grabbing the kicker's team fails, just return null.\n",
    "        '''\n",
    "\n",
    "        return np.nan\n",
    "        \n",
    "    opposing_team = get_opposing_team(kicking_team)\n",
    "    opposing_team_players = kick_tracking[kick_tracking['team']==opposing_team]\n",
    "\n",
    "    # Get kicker x and y coords\n",
    "    kicker_x = kick_tracking[kick_tracking['position']=='K']['x'].values[0]\n",
    "    kicker_y = kick_tracking[kick_tracking['position']=='K']['y'].values[0]\n",
    "\n",
    "    # Compute Euclidean distances from kicker to players on opposing team\n",
    "    opposing_team_players['kicker_dist'] = l2_norm(kicker_x, kicker_y, opposing_team_players['x'], opposing_team_players['y'])\n",
    "\n",
    "    # Sort distances, grab k-th nearest distance (the core distance)\n",
    "    sorted_distances = opposing_team_players['kicker_dist'].sort_values()\n",
    "    core_distance = sorted_distances.iloc[k-1]\n",
    "\n",
    "    return core_distance\n",
    "\n",
    "\n",
    "\n",
    "def kicker_core_dist(pt_play, tracking2018, tracking2019, tracking2020, track_fp, event, k=5):\n",
    "    \n",
    "    tracking = pd.concat([tracking2018, tracking2019, tracking2020])\n",
    "\n",
    "    pt_play['kicker_core_dist'] = pt_play.index.map(\n",
    "        lambda x: compute_kicker_core_dist(\n",
    "            pt_play.loc[x]['gameId'],\n",
    "            pt_play.loc[x]['playId'],\n",
    "            tracking,\n",
    "            track_fp,\n",
    "            event,\n",
    "            k=k\n",
    "        )\n",
    "    )\n",
    "\n",
    "    return pt_play"
   ]
  },
  {
   "cell_type": "code",
   "execution_count": 43,
   "metadata": {},
   "outputs": [
    {
     "name": "stderr",
     "output_type": "stream",
     "text": [
      "/tmp/ipykernel_32430/290977809.py:111: SettingWithCopyWarning: \n",
      "A value is trying to be set on a copy of a slice from a DataFrame.\n",
      "Try using .loc[row_indexer,col_indexer] = value instead\n",
      "\n",
      "See the caveats in the documentation: https://pandas.pydata.org/pandas-docs/stable/user_guide/indexing.html#returning-a-view-versus-a-copy\n",
      "  opposing_team_players['kicker_dist'] = l2_norm(kicker_x, kicker_y, opposing_team_players['x'], opposing_team_players['y'])\n"
     ]
    }
   ],
   "source": [
    "attempts_df = kicker_core_dist(attempts_df, fg_tracking_2018, fg_tracking_2019, fg_tracking_2020, fg_tracking_ball, 'field_goal_attempt', k=3)"
   ]
  },
  {
   "cell_type": "markdown",
   "metadata": {},
   "source": [
    "## Final Preprocessing Steps"
   ]
  },
  {
   "cell_type": "code",
   "execution_count": 44,
   "metadata": {},
   "outputs": [],
   "source": [
    "from Preprocessing_makers import preprocess_fg"
   ]
  },
  {
   "cell_type": "code",
   "execution_count": 47,
   "metadata": {},
   "outputs": [],
   "source": [
    "X, final_df = preprocess_fg(attempts_df)"
   ]
  },
  {
   "cell_type": "markdown",
   "metadata": {},
   "source": [
    "## Clustering"
   ]
  },
  {
   "cell_type": "code",
   "execution_count": 61,
   "metadata": {},
   "outputs": [],
   "source": [
    "import hdbscan\n",
    "\n",
    "import matplotlib.pyplot as plt\n",
    "import seaborn as sns"
   ]
  },
  {
   "cell_type": "code",
   "execution_count": 51,
   "metadata": {},
   "outputs": [],
   "source": [
    "model = hdbscan.HDBSCAN()"
   ]
  },
  {
   "cell_type": "code",
   "execution_count": 52,
   "metadata": {},
   "outputs": [],
   "source": [
    "model_results = model.fit(X)"
   ]
  },
  {
   "cell_type": "code",
   "execution_count": 54,
   "metadata": {},
   "outputs": [
    {
     "data": {
      "text/plain": [
       "2"
      ]
     },
     "execution_count": 54,
     "metadata": {},
     "output_type": "execute_result"
    }
   ],
   "source": [
    "model_results.labels_.max()"
   ]
  },
  {
   "cell_type": "code",
   "execution_count": 64,
   "metadata": {},
   "outputs": [
    {
     "name": "stderr",
     "output_type": "stream",
     "text": [
      "/tmp/ipykernel_32430/1033965784.py:1: SettingWithCopyWarning: \n",
      "A value is trying to be set on a copy of a slice from a DataFrame.\n",
      "Try using .loc[row_indexer,col_indexer] = value instead\n",
      "\n",
      "See the caveats in the documentation: https://pandas.pydata.org/pandas-docs/stable/user_guide/indexing.html#returning-a-view-versus-a-copy\n",
      "  final_df['cluster_id'] = model_results.labels_\n"
     ]
    }
   ],
   "source": [
    "final_df['cluster_id'] = model_results.labels_"
   ]
  },
  {
   "cell_type": "code",
   "execution_count": 65,
   "metadata": {},
   "outputs": [
    {
     "data": {
      "text/plain": [
       " 2    2003\n",
       " 1     349\n",
       " 0      25\n",
       "-1      12\n",
       "Name: cluster_id, dtype: int64"
      ]
     },
     "execution_count": 65,
     "metadata": {},
     "output_type": "execute_result"
    }
   ],
   "source": [
    "final_df['cluster_id'].value_counts()"
   ]
  },
  {
   "cell_type": "code",
   "execution_count": 62,
   "metadata": {},
   "outputs": [
    {
     "data": {
      "image/png": "[encoded data removed]",
      "text/plain": [
       "<Figure size 1152x1296 with 2 Axes>"
      ]
     },
     "metadata": {
      "needs_background": "light"
     },
     "output_type": "display_data"
    }
   ],
   "source": [
    "plt.figure(figsize = (16,18))\n",
    "model.condensed_tree_.plot(select_clusters=True, selection_palette=sns.color_palette())\n",
    "plt.show()"
   ]
  },
  {
   "cell_type": "code",
   "execution_count": 70,
   "metadata": {},
   "outputs": [],
   "source": [
    "cluster0 = final_df[final_df['cluster_id']==0]\n",
    "cluster1 = final_df[final_df['cluster_id']==1]\n",
    "cluster2 = final_df[final_df['cluster_id']==2]\n",
    "\n",
    "outliers = final_df[final_df['cluster_id']==-1]"
   ]
  },
  {
   "cell_type": "code",
   "execution_count": 67,
   "metadata": {},
   "outputs": [
    {
     "data": {
      "text/plain": [
       "Kick Attempt Good    25\n",
       "Name: specialTeamsResult, dtype: int64"
      ]
     },
     "execution_count": 67,
     "metadata": {},
     "output_type": "execute_result"
    }
   ],
   "source": [
    "cluster0['specialTeamsResult'].value_counts()"
   ]
  },
  {
   "cell_type": "code",
   "execution_count": 68,
   "metadata": {},
   "outputs": [
    {
     "data": {
      "text/plain": [
       "Kick Attempt No Good    349\n",
       "Name: specialTeamsResult, dtype: int64"
      ]
     },
     "execution_count": 68,
     "metadata": {},
     "output_type": "execute_result"
    }
   ],
   "source": [
    "cluster1['specialTeamsResult'].value_counts()"
   ]
  },
  {
   "cell_type": "code",
   "execution_count": 69,
   "metadata": {},
   "outputs": [
    {
     "data": {
      "text/plain": [
       "Kick Attempt Good       2002\n",
       "Kick Attempt No Good       1\n",
       "Name: specialTeamsResult, dtype: int64"
      ]
     },
     "execution_count": 69,
     "metadata": {},
     "output_type": "execute_result"
    }
   ],
   "source": [
    "cluster2['specialTeamsResult'].value_counts()"
   ]
  },
  {
   "cell_type": "code",
   "execution_count": 72,
   "metadata": {},
   "outputs": [
    {
     "data": {
      "text/plain": [
       "Kick Attempt Good       7\n",
       "Kick Attempt No Good    5\n",
       "Name: specialTeamsResult, dtype: int64"
      ]
     },
     "execution_count": 72,
     "metadata": {},
     "output_type": "execute_result"
    }
   ],
   "source": [
    "outliers['specialTeamsResult'].value_counts()"
   ]
  }
 ],
 "metadata": {
  "interpreter": {
   "hash": "7e0020a09a6802769fd8a6acd84896031a2b24af8be6baa6fc0a04a5b7809d9e"
  },
  "kernelspec": {
   "display_name": "Python 3.8.12 64-bit ('nfl-env': conda)",
   "language": "python",
   "name": "python3"
  },
  "language_info": {
   "codemirror_mode": {
    "name": "ipython",
    "version": 3
   },
   "file_extension": ".py",
   "mimetype": "text/x-python",
   "name": "python",
   "nbconvert_exporter": "python",
   "pygments_lexer": "ipython3",
   "version": "3.8.12"
  },
  "orig_nbformat": 4
 },
 "nbformat": 4,
 "nbformat_minor": 2
}
